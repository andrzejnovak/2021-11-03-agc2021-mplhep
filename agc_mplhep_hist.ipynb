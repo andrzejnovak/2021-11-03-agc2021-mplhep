{
 "cells": [
  {
   "cell_type": "markdown",
   "metadata": {
    "ExecuteTime": {
     "end_time": "2021-10-29T14:49:23.839896Z",
     "start_time": "2021-10-29T14:49:23.689272Z"
    }
   },
   "source": [
    "# Histogramming and plotting"
   ]
  },
  {
   "cell_type": "markdown",
   "metadata": {
    "ExecuteTime": {
     "end_time": "2021-10-29T14:50:35.217449Z",
     "start_time": "2021-10-29T14:50:34.696677Z"
    }
   },
   "source": [
    "### Histograms mean different things in different contexts\n",
    "- counts, bin edges - useful for a bar plot - `np.histogram` / `plt.bar`\n",
    "- counts, bin edges, pre computed errors - `TGraphErrors`/`plt.errorbar`\n",
    "- weighted values, weights squared, bin_edges - proper error calculation `TH1`/`Coffea.hist`/`hist`"
   ]
  },
  {
   "cell_type": "markdown",
   "metadata": {
    "ExecuteTime": {
     "end_time": "2021-10-29T15:09:49.848875Z",
     "start_time": "2021-10-29T15:09:49.830175Z"
    }
   },
   "source": [
    "## UHI - [Unified Histogram Interface](https://uhi.readthedocs.io/en/latest/plotting.html#using-the-protocol)\n",
    "- (Plottable) Histogram protocol - designed to make libraries interoperable, easy to navigate\n",
    "  - Conformed to by `hits`, `mplhep`, `uproot4`, `histoprint`\n",
    "- Each UHI histogram has the following methods\n",
    "  - `h.values()`: The value (as given by the kind)\n",
    "  - `h.variances()`: The variance in the value (None if an unweighed histogram was filled with weights)\n",
    "  - `h.counts()`: How many fills the bin received or the effective number of fills if the histogram is weighted\n",
    "  - `h.axes`: A Sequence of axes\n",
    "  - and a few other properties"
   ]
  },
  {
   "cell_type": "markdown",
   "metadata": {},
   "source": [
    "## [hist](https://github.com/scikit-hep/hist)\n",
    "- python go to one-stop for histogramming\n",
    "- extends [boost-histogram](https://github.com/scikit-hep/boost-histogram.html) (pythonic wrapper for C++ library - *FAST*)\n",
    "  - makes it user friendly\n",
    "- shortcuts for convenience - plotting/fitting"
   ]
  },
  {
   "cell_type": "markdown",
   "metadata": {},
   "source": [
    "## [mplhep](https://github.com/scikit-hep/mplhep)\n",
    "- build on top of `matplotlib`\n",
    "- extends functionality to easily plot histograms from various inputs\n",
    "- holds style sheets for easy experiment specific style application"
   ]
  },
  {
   "cell_type": "raw",
   "metadata": {},
   "source": [
    "!pip install mplhep --upgrade"
   ]
  },
  {
   "cell_type": "markdown",
   "metadata": {
    "ExecuteTime": {
     "end_time": "2021-10-29T15:20:32.749546Z",
     "start_time": "2021-10-29T15:20:32.744784Z"
    }
   },
   "source": [
    "# Basics"
   ]
  },
  {
   "cell_type": "code",
   "execution_count": 1,
   "metadata": {
    "ExecuteTime": {
     "end_time": "2021-10-30T04:46:57.747743Z",
     "start_time": "2021-10-30T04:46:57.376390Z"
    }
   },
   "outputs": [],
   "source": [
    "import numpy as np\n",
    "import matplotlib.pyplot as plt"
   ]
  },
  {
   "cell_type": "code",
   "execution_count": 2,
   "metadata": {
    "ExecuteTime": {
     "end_time": "2021-10-30T04:46:57.760004Z",
     "start_time": "2021-10-30T04:46:57.749675Z"
    }
   },
   "outputs": [
    {
     "data": {
      "text/plain": [
       "array([  0,   1,  25, 132, 334, 346, 135,  24,   3,   0])"
      ]
     },
     "execution_count": 2,
     "metadata": {},
     "output_type": "execute_result"
    }
   ],
   "source": [
    "# Numpy histogram\n",
    "H = np.histogram(np.random.normal(5, 1, 1000), np.linspace(0, 10, 11))\n",
    "h, bins = H\n",
    "h"
   ]
  },
  {
   "cell_type": "code",
   "execution_count": 3,
   "metadata": {
    "ExecuteTime": {
     "end_time": "2021-10-30T04:46:57.975185Z",
     "start_time": "2021-10-30T04:46:57.763277Z"
    }
   },
   "outputs": [
    {
     "data": {
      "text/plain": [
       "Text(0.5, 1.0, 'Now native histogram `stairs` plot')"
      ]
     },
     "execution_count": 3,
     "metadata": {},
     "output_type": "execute_result"
    },
    {
     "data": {
      "image/png": "[encoded data removed]",
      "text/plain": [
       "<Figure size 864x288 with 2 Axes>"
      ]
     },
     "metadata": {
      "needs_background": "light"
     },
     "output_type": "display_data"
    }
   ],
   "source": [
    "# Visualization\n",
    "fig, axs = plt.subplots(1, 2, figsize=(12, 4))\n",
    "axs[0].bar(range(len(h)), h)\n",
    "axs[0].set_title('Simple `bar` plot')\n",
    "axs[1].stairs(h, bins, fill=True)\n",
    "axs[1].set_title('Now native histogram `stairs` plot')"
   ]
  },
  {
   "cell_type": "markdown",
   "metadata": {},
   "source": [
    "# Extending plotting with `mplhep`\n",
    "- primary goal is to stay unobtrusive, if it works in `matplotlib`, it should work in `mplhep`"
   ]
  },
  {
   "cell_type": "code",
   "execution_count": 4,
   "metadata": {
    "ExecuteTime": {
     "end_time": "2021-10-30T04:46:58.161262Z",
     "start_time": "2021-10-30T04:46:57.978087Z"
    }
   },
   "outputs": [
    {
     "data": {
      "image/png": "[encoded data removed]",
      "text/plain": [
       "<Figure size 864x288 with 2 Axes>"
      ]
     },
     "metadata": {
      "needs_background": "light"
     },
     "output_type": "display_data"
    }
   ],
   "source": [
    "import mplhep as hep\n",
    "f, axs = plt.subplots(1,2, figsize=(12, 4))\n",
    "\n",
    "hep.histplot(H, ax=axs[0])\n",
    "hep.histplot(h, bins, yerr=True, ax=axs[1]);"
   ]
  },
  {
   "cell_type": "markdown",
   "metadata": {},
   "source": [
    "### kwargs are passed though to `matplotlib`"
   ]
  },
  {
   "cell_type": "code",
   "execution_count": 5,
   "metadata": {
    "ExecuteTime": {
     "end_time": "2021-10-30T04:46:58.348183Z",
     "start_time": "2021-10-30T04:46:58.163669Z"
    }
   },
   "outputs": [
    {
     "data": {
      "text/plain": [
       "[ErrorBarArtists(errorbar=<ErrorbarContainer object of 3 artists>)]"
      ]
     },
     "execution_count": 5,
     "metadata": {},
     "output_type": "execute_result"
    },
    {
     "data": {
      "image/png": "[encoded data removed]",
      "text/plain": [
       "<Figure size 864x288 with 2 Axes>"
      ]
     },
     "metadata": {
      "needs_background": "light"
     },
     "output_type": "display_data"
    }
   ],
   "source": [
    "f, axs = plt.subplots(1,2, figsize=(12, 4))\n",
    "\n",
    "hep.histplot(H, ax=axs[0], histtype='fill', hatch='///', edgecolor='red', facecolor='none')\n",
    "hep.histplot(H, ax=axs[1], histtype='errorbar', yerr=True, c='black', capsize=4)"
   ]
  },
  {
   "cell_type": "markdown",
   "metadata": {
    "ExecuteTime": {
     "end_time": "2021-10-29T15:45:57.667636Z",
     "start_time": "2021-10-29T15:45:57.661331Z"
    }
   },
   "source": [
    "### Stacking, norming is available"
   ]
  },
  {
   "cell_type": "code",
   "execution_count": 6,
   "metadata": {
    "ExecuteTime": {
     "end_time": "2021-10-30T04:46:58.688867Z",
     "start_time": "2021-10-30T04:46:58.350349Z"
    }
   },
   "outputs": [
    {
     "data": {
      "image/png": "[encoded data removed]",
      "text/plain": [
       "<Figure size 1296x288 with 3 Axes>"
      ]
     },
     "metadata": {
      "needs_background": "light"
     },
     "output_type": "display_data"
    }
   ],
   "source": [
    "f, axs = plt.subplots(1,3, figsize=(18, 4))\n",
    "\n",
    "data = np.random.poisson(h*3)\n",
    "hep.histplot([h, h*2], bins=bins, ax=axs[0], yerr=True, label=[\"MC1\", \"MC2\"])\n",
    "hep.histplot(data, bins=bins, ax=axs[1], yerr=True, label=\"Data\")\n",
    "\n",
    "hep.histplot([h, h*2], bins=bins, ax=axs[2], stack=True, label=[\"MC1\", \"MC2\"], density=True)\n",
    "hep.histplot(data, bins=bins, ax=axs[2], yerr=True, histtype='errorbar', label=\"Data\", density=True, color='k')\n",
    "for ax in axs:\n",
    "    ax.legend()\n",
    "axs[0].set_title(\"Some MCs\")\n",
    "axs[1].set_title(\"Draw Poisson Data\")\n",
    "axs[2].set_title(\"Data/MC Shape comparison\"); "
   ]
  },
  {
   "cell_type": "markdown",
   "metadata": {
    "ExecuteTime": {
     "end_time": "2021-10-29T15:51:22.128110Z",
     "start_time": "2021-10-29T15:51:22.120499Z"
    }
   },
   "source": [
    "### Convenient sorting options"
   ]
  },
  {
   "cell_type": "code",
   "execution_count": 7,
   "metadata": {
    "ExecuteTime": {
     "end_time": "2021-10-30T04:46:58.912653Z",
     "start_time": "2021-10-30T04:46:58.691551Z"
    }
   },
   "outputs": [
    {
     "data": {
      "image/png": "[encoded data removed]",
      "text/plain": [
       "<Figure size 864x288 with 2 Axes>"
      ]
     },
     "metadata": {
      "needs_background": "light"
     },
     "output_type": "display_data"
    }
   ],
   "source": [
    "f, axs = plt.subplots(1,2, figsize=(12, 4))\n",
    "hep.histplot([h*2, h*3, h], bins=bins, ax=axs[0], stack=True, histtype='fill', label=[\"A\", \"B\", \"C\"], sort='yield');\n",
    "hep.histplot([h*2, h*3, h], bins=bins, ax=axs[1], stack=True, histtype='fill', label=[\"A\", \"B\", \"C\"], sort='label_r');\n",
    "for ax in axs:\n",
    "    ax.legend()\n",
    "axs[0].set_title(\"Sort by yield\")\n",
    "axs[1].set_title(\"Sort by label (add _r to reverse)\");"
   ]
  },
  {
   "cell_type": "markdown",
   "metadata": {
    "ExecuteTime": {
     "end_time": "2021-10-29T15:57:46.751943Z",
     "start_time": "2021-10-29T15:57:46.747371Z"
    }
   },
   "source": [
    "### Can pass either pre-computed error bars or `fcn(weight, weights2)`"
   ]
  },
  {
   "cell_type": "code",
   "execution_count": 8,
   "metadata": {
    "ExecuteTime": {
     "end_time": "2021-10-30T04:46:59.222534Z",
     "start_time": "2021-10-30T04:46:58.917215Z"
    }
   },
   "outputs": [
    {
     "data": {
      "image/png": "[encoded data removed]",
      "text/plain": [
       "<Figure size 864x288 with 2 Axes>"
      ]
     },
     "metadata": {
      "needs_background": "light"
     },
     "output_type": "display_data"
    }
   ],
   "source": [
    "def err(w, w2):\n",
    "    return w - 10, w2 + 20\n",
    "\n",
    "f, axs = plt.subplots(1,2, figsize=(12, 4))\n",
    "hep.histplot(h, bins=bins, yerr=[np.sqrt(h), np.sqrt(h)*2], ax=axs[0]);\n",
    "hep.histplot(h, bins, w2=h, w2method=err, ax=axs[1]);\n",
    "\n",
    "axs[0].set_title(\"Pre-computed\")\n",
    "axs[1].set_title(\"Custom function\");"
   ]
  },
  {
   "cell_type": "markdown",
   "metadata": {
    "ExecuteTime": {
     "end_time": "2021-10-29T17:34:52.321448Z",
     "start_time": "2021-10-29T17:34:52.318379Z"
    }
   },
   "source": [
    "### Inputs types are flexible\n",
    "- already shown `np.array`, `List[np.array]`, `np.ndarray`\n",
    "- will show `hist.Hist` / `List[hist.Hist]`\n",
    "- but also *anything* that is PlottableProtocol compatible"
   ]
  },
  {
   "cell_type": "code",
   "execution_count": 9,
   "metadata": {
    "ExecuteTime": {
     "end_time": "2021-10-30T04:46:59.415248Z",
     "start_time": "2021-10-30T04:46:59.225665Z"
    }
   },
   "outputs": [
    {
     "name": "stdout",
     "output_type": "stream",
     "text": [
      "['hpx;1', 'hpxpy;1', 'hprof;1', 'ntuple;1']\n",
      "<TH1F (version 1) at 0x7f7dd0a3a940>\n"
     ]
    },
    {
     "data": {
      "image/png": "[encoded data removed]",
      "text/plain": [
       "<Figure size 432x288 with 1 Axes>"
      ]
     },
     "metadata": {
      "needs_background": "light"
     },
     "output_type": "display_data"
    }
   ],
   "source": [
    "## Uproot TH1 \n",
    "import uproot\n",
    "from skhep_testdata import data_path\n",
    "fname = data_path(\"uproot-hepdata-example.root\")\n",
    "f = uproot.open(fname)\n",
    "print(f.keys())\n",
    "print(f['hpx'])\n",
    "hep.histplot(f['hpx']);"
   ]
  },
  {
   "cell_type": "code",
   "execution_count": 10,
   "metadata": {
    "ExecuteTime": {
     "end_time": "2021-10-30T04:47:00.489423Z",
     "start_time": "2021-10-30T04:46:59.417863Z"
    }
   },
   "outputs": [
    {
     "name": "stdout",
     "output_type": "stream",
     "text": [
      "Welcome to JupyROOT 6.18/04\n"
     ]
    },
    {
     "data": {
      "image/png": "[encoded data removed]",
      "text/plain": [
       "<Figure size 432x288 with 1 Axes>"
      ]
     },
     "metadata": {
      "needs_background": "light"
     },
     "output_type": "display_data"
    }
   ],
   "source": [
    "# PyROOT TH1\n",
    "import ROOT\n",
    "h = ROOT.TH1F(\"h1\", \"h1\", 50, -2.5, 2.5)\n",
    "h.FillRandom(\"gaus\", 10000)\n",
    "\n",
    "hep.histplot(h);"
   ]
  },
  {
   "cell_type": "markdown",
   "metadata": {},
   "source": [
    "# hist - basics\n",
    "- easy histogram handling - filling, slicing, (merging, serializing)\n",
    "- Nice repr, interfaces to `mplhep` for plotting"
   ]
  },
  {
   "cell_type": "code",
   "execution_count": 11,
   "metadata": {
    "ExecuteTime": {
     "end_time": "2021-10-30T04:47:00.546772Z",
     "start_time": "2021-10-30T04:47:00.492178Z"
    }
   },
   "outputs": [],
   "source": [
    "import hist\n",
    "# from hist import Hist"
   ]
  },
  {
   "cell_type": "code",
   "execution_count": 12,
   "metadata": {
    "ExecuteTime": {
     "end_time": "2021-10-30T04:47:00.578648Z",
     "start_time": "2021-10-30T04:47:00.549429Z"
    }
   },
   "outputs": [
    {
     "data": {
      "text/html": [
       "<html>\n",
       "<div style=\"display:flex; align-items:center;\">\n",
       "<div style=\"width:290px;\">\n",
       "<svg xmlns=\"http://www.w3.org/2000/svg\" viewBox=\"-10 -105 270 120\">\n",
       "<line x1=\"-5\" y1=\"0\" x2=\"255\" y2=\"0\" style=\"fill:none;stroke-width:2;stroke:currentColor\"/>\n",
       "<text text-anchor=\"middle\" x=\"0\" y=\"15\" style=\"fill:currentColor;\">\n",
       "0\n",
       "</text>\n",
       "<text text-anchor=\"middle\" x=\"250\" y=\"15\" style=\"fill:currentColor;\">\n",
       "10\n",
       "</text>\n",
       "<text text-anchor=\"middle\" x=\"125.0\" y=\"15\" style=\"fill:currentColor;\">\n",
       "Axis 0\n",
       "</text>\n",
       "<polyline points=\"  0,0   0,-0  25,-0  25,-0  50,-0  50,-0  75,-0  75,-0 100,-0 100,-0 125,-0 125,-0 150,-0 150,-0 175,-0 175,-0 200,-0 200,-0 225,-0 225,-0 250,-0 250,0\" style=\"fill:none; stroke:currentColor;\"/>\n",
       "</svg>\n",
       "</div>\n",
       "<div style=\"flex=grow:1;\">\n",
       "Regular(10, 0, 10, label='Axis 0')<br/>\n",
       "<hr style=\"margin-top:.2em; margin-bottom:.2em;\"/>\n",
       "Double() Σ=0.0\n",
       "\n",
       "</div>\n",
       "</div>\n",
       "</html>"
      ],
      "text/plain": [
       "Hist(Regular(10, 0, 10, label='Axis 0'), storage=Double())"
      ]
     },
     "execution_count": 12,
     "metadata": {},
     "output_type": "execute_result"
    }
   ],
   "source": [
    "# Creating a histogram object\n",
    "h = hist.new.Reg(10, 0, 10).Double()\n",
    "h"
   ]
  },
  {
   "cell_type": "code",
   "execution_count": 13,
   "metadata": {
    "ExecuteTime": {
     "end_time": "2021-10-30T04:47:00.598997Z",
     "start_time": "2021-10-30T04:47:00.580493Z"
    }
   },
   "outputs": [
    {
     "data": {
      "text/html": [
       "<html>\n",
       "<div style=\"display:flex; align-items:center;\">\n",
       "<div style=\"width:290px;\">\n",
       "<svg xmlns=\"http://www.w3.org/2000/svg\" viewBox=\"-10 -105 270 120\">\n",
       "<line x1=\"-5\" y1=\"0\" x2=\"255\" y2=\"0\" style=\"fill:none;stroke-width:2;stroke:currentColor\"/>\n",
       "<text text-anchor=\"middle\" x=\"0\" y=\"15\" style=\"fill:currentColor;\">\n",
       "0\n",
       "</text>\n",
       "<text text-anchor=\"middle\" x=\"250\" y=\"15\" style=\"fill:currentColor;\">\n",
       "10\n",
       "</text>\n",
       "<text text-anchor=\"middle\" x=\"125.0\" y=\"15\" style=\"fill:currentColor;\">\n",
       "Fancy display name\n",
       "</text>\n",
       "<polyline points=\"  0,0   0,-0  25,-0  25,-0  50,-0  50,-0  75,-0  75,-0 100,-0 100,-0 125,-0 125,-0 150,-0 150,-0 175,-0 175,-0 200,-0 200,-0 225,-0 225,-0 250,-0 250,0\" style=\"fill:none; stroke:currentColor;\"/>\n",
       "</svg>\n",
       "</div>\n",
       "<div style=\"flex=grow:1;\">\n",
       "Regular(10, 0, 10, underflow=False, name='x', label='Fancy display name')<br/>\n",
       "<hr style=\"margin-top:.2em; margin-bottom:.2em;\"/>\n",
       "Double() Σ=0.0\n",
       "\n",
       "</div>\n",
       "</div>\n",
       "</html>"
      ],
      "text/plain": [
       "Hist(Regular(10, 0, 10, underflow=False, name='x', label='Fancy display name'), storage=Double())"
      ]
     },
     "execution_count": 13,
     "metadata": {},
     "output_type": "execute_result"
    }
   ],
   "source": [
    "# Equivalent to \n",
    "h = hist.Hist(\n",
    "    hist.axis.Regular(\n",
    "        10, 0, 10, \n",
    "        # Optionally include name/label, whether to keep flow bins\n",
    "        name=\"x\", label=\"Fancy display name\", underflow=False, \n",
    "        )\n",
    "    )   \n",
    "h"
   ]
  },
  {
   "cell_type": "code",
   "execution_count": 14,
   "metadata": {
    "ExecuteTime": {
     "end_time": "2021-10-30T04:47:00.634270Z",
     "start_time": "2021-10-30T04:47:00.600784Z"
    }
   },
   "outputs": [
    {
     "data": {
      "text/html": [
       "<html>\n",
       "<div style=\"display:flex; align-items:center;\">\n",
       "<div style=\"width:290px;\">\n",
       "<svg xmlns=\"http://www.w3.org/2000/svg\" viewBox=\"-10 -105 270 120\">\n",
       "<line x1=\"-5\" y1=\"0\" x2=\"255\" y2=\"0\" style=\"fill:none;stroke-width:2;stroke:currentColor\"/>\n",
       "<text text-anchor=\"middle\" x=\"0\" y=\"15\" style=\"fill:currentColor;\">\n",
       "0\n",
       "</text>\n",
       "<text text-anchor=\"middle\" x=\"250\" y=\"15\" style=\"fill:currentColor;\">\n",
       "10\n",
       "</text>\n",
       "<text text-anchor=\"middle\" x=\"125.0\" y=\"15\" style=\"fill:currentColor;\">\n",
       "Fancy display name\n",
       "</text>\n",
       "<polyline points=\"  0,0   0,-0  25,-0  25,-0.559  50,-0.559  50,-4.75  75,-4.75  75,-38.8 100,-38.8 100,-98 125,-98 125,-100 150,-100 150,-32.4 175,-32.4 175,-4.75 200,-4.75 200,-0 225,-0 225,-0 250,-0 250,0\" style=\"fill:none; stroke:currentColor;\"/>\n",
       "</svg>\n",
       "</div>\n",
       "<div style=\"flex=grow:1;\">\n",
       "Regular(10, 0, 10, underflow=False, name='x', label='Fancy display name')<br/>\n",
       "<hr style=\"margin-top:.2em; margin-bottom:.2em;\"/>\n",
       "Double() Σ=1000.0\n",
       "\n",
       "</div>\n",
       "</div>\n",
       "</html>"
      ],
      "text/plain": [
       "Hist(Regular(10, 0, 10, underflow=False, name='x', label='Fancy display name'), storage=Double()) # Sum: 1000.0"
      ]
     },
     "execution_count": 14,
     "metadata": {},
     "output_type": "execute_result"
    }
   ],
   "source": [
    "# Fill it\n",
    "h.fill(np.random.normal(5, 1, 1000))\n",
    "h"
   ]
  },
  {
   "cell_type": "code",
   "execution_count": 15,
   "metadata": {
    "ExecuteTime": {
     "end_time": "2021-10-30T04:47:00.654699Z",
     "start_time": "2021-10-30T04:47:00.636024Z"
    }
   },
   "outputs": [
    {
     "name": "stdout",
     "output_type": "stream",
     "text": [
      " 0.00e+00 _                             3.58e+02 ╷\n",
      " 1.00e+00 _\n",
      " 2.00e+00 _\n",
      " 3.00e+00 _\u001b[90;40m█\u001b[39;49m\n",
      " 4.00e+00 _\u001b[90;40m█\u001b[39;49m\u001b[90;40m█\u001b[39;49m\u001b[90;40m█\u001b[39;49m\u001b[90;40m█\u001b[39;49m\u001b[90;40m█\u001b[39;49m\u001b[90;40m█\u001b[39;49m\u001b[90;40m█\u001b[39;49m\u001b[90;40m█\u001b[39;49m\u001b[90;40m█\u001b[39;49m\u001b[90;40m█\u001b[39;49m\u001b[90;40m█\u001b[39;49m\u001b[90;40m█\u001b[39;49m\u001b[90;40m█\u001b[39;49m\u001b[90;40m█\u001b[39;49m\u001b[90;40m█\u001b[39;49m\n",
      " 5.00e+00 _\u001b[90;40m█\u001b[39;49m\u001b[90;40m█\u001b[39;49m\u001b[90;40m█\u001b[39;49m\u001b[90;40m█\u001b[39;49m\u001b[90;40m█\u001b[39;49m\u001b[90;40m█\u001b[39;49m\u001b[90;40m█\u001b[39;49m\u001b[90;40m█\u001b[39;49m\u001b[90;40m█\u001b[39;49m\u001b[90;40m█\u001b[39;49m\u001b[90;40m█\u001b[39;49m\u001b[90;40m█\u001b[39;49m\u001b[90;40m█\u001b[39;49m\u001b[90;40m█\u001b[39;49m\u001b[90;40m█\u001b[39;49m\u001b[90;40m█\u001b[39;49m\u001b[90;40m█\u001b[39;49m\u001b[90;40m█\u001b[39;49m\u001b[90;40m█\u001b[39;49m\u001b[90;40m█\u001b[39;49m\u001b[90;40m█\u001b[39;49m\u001b[90;40m█\u001b[39;49m\u001b[90;40m█\u001b[39;49m\u001b[90;40m█\u001b[39;49m\u001b[90;40m█\u001b[39;49m\u001b[90;40m█\u001b[39;49m\u001b[90;40m█\u001b[39;49m\u001b[90;40m█\u001b[39;49m\u001b[90;40m█\u001b[39;49m\u001b[90;40m█\u001b[39;49m\u001b[90;40m█\u001b[39;49m\u001b[90;40m█\u001b[39;49m\u001b[90;40m█\u001b[39;49m\u001b[90;40m█\u001b[39;49m\u001b[90;40m█\u001b[39;49m\u001b[90;40m█\u001b[39;49m\u001b[90;40m█\u001b[39;49m\u001b[90;40m█\u001b[39;49m\n",
      " 6.00e+00 _\u001b[90;40m█\u001b[39;49m\u001b[90;40m█\u001b[39;49m\u001b[90;40m█\u001b[39;49m\u001b[90;40m█\u001b[39;49m\u001b[90;40m█\u001b[39;49m\u001b[90;40m█\u001b[39;49m\u001b[90;40m█\u001b[39;49m\u001b[90;40m█\u001b[39;49m\u001b[90;40m█\u001b[39;49m\u001b[90;40m█\u001b[39;49m\u001b[90;40m█\u001b[39;49m\u001b[90;40m█\u001b[39;49m\u001b[90;40m█\u001b[39;49m\u001b[90;40m█\u001b[39;49m\u001b[90;40m█\u001b[39;49m\u001b[90;40m█\u001b[39;49m\u001b[90;40m█\u001b[39;49m\u001b[90;40m█\u001b[39;49m\u001b[90;40m█\u001b[39;49m\u001b[90;40m█\u001b[39;49m\u001b[90;40m█\u001b[39;49m\u001b[90;40m█\u001b[39;49m\u001b[90;40m█\u001b[39;49m\u001b[90;40m█\u001b[39;49m\u001b[90;40m█\u001b[39;49m\u001b[90;40m█\u001b[39;49m\u001b[90;40m█\u001b[39;49m\u001b[90;40m█\u001b[39;49m\u001b[90;40m█\u001b[39;49m\u001b[90;40m█\u001b[39;49m\u001b[90;40m█\u001b[39;49m\u001b[90;40m█\u001b[39;49m\u001b[90;40m█\u001b[39;49m\u001b[90;40m█\u001b[39;49m\u001b[90;40m█\u001b[39;49m\u001b[90;40m█\u001b[39;49m\u001b[90;40m█\u001b[39;49m\u001b[90;40m█\u001b[39;49m\u001b[90;40m█\u001b[39;49m\n",
      " 7.00e+00 _\u001b[90;40m█\u001b[39;49m\u001b[90;40m█\u001b[39;49m\u001b[90;40m█\u001b[39;49m\u001b[90;40m█\u001b[39;49m\u001b[90;40m█\u001b[39;49m\u001b[90;40m█\u001b[39;49m\u001b[90;40m█\u001b[39;49m\u001b[90;40m█\u001b[39;49m\u001b[90;40m█\u001b[39;49m\u001b[90;40m█\u001b[39;49m\u001b[90;40m█\u001b[39;49m\u001b[90;40m█\u001b[39;49m\n",
      " 8.00e+00 _\u001b[90;40m█\u001b[39;49m\n",
      " 9.00e+00 _\n",
      " 1.00e+01 _\n"
     ]
    }
   ],
   "source": [
    "# Print it (to CLI)\n",
    "h.show(columns=50)"
   ]
  },
  {
   "cell_type": "code",
   "execution_count": 16,
   "metadata": {
    "ExecuteTime": {
     "end_time": "2021-10-30T04:47:01.163237Z",
     "start_time": "2021-10-30T04:47:00.657103Z"
    }
   },
   "outputs": [
    {
     "data": {
      "image/png": "[encoded data removed]",
      "text/plain": [
       "<Figure size 432x288 with 1 Axes>"
      ]
     },
     "metadata": {
      "needs_background": "light"
     },
     "output_type": "display_data"
    }
   ],
   "source": [
    "# Plot it\n",
    "h.plot(color='red', density=True);"
   ]
  },
  {
   "cell_type": "code",
   "execution_count": 17,
   "metadata": {
    "ExecuteTime": {
     "end_time": "2021-10-30T04:47:01.313321Z",
     "start_time": "2021-10-30T04:47:01.166112Z"
    }
   },
   "outputs": [
    {
     "data": {
      "image/png": "[encoded data removed]",
      "text/plain": [
       "<Figure size 432x288 with 1 Axes>"
      ]
     },
     "metadata": {
      "needs_background": "light"
     },
     "output_type": "display_data"
    }
   ],
   "source": [
    "# Access and modify artists\n",
    "art = h.plot(color='red', density=True);\n",
    "plt.setp(art[0].stairs, edgecolor='blue', fill=True, facecolor='lightgreen', hatch='///');"
   ]
  },
  {
   "cell_type": "markdown",
   "metadata": {},
   "source": [
    "### hist - basic operations"
   ]
  },
  {
   "cell_type": "code",
   "execution_count": 18,
   "metadata": {
    "ExecuteTime": {
     "end_time": "2021-10-30T04:47:01.335754Z",
     "start_time": "2021-10-30T04:47:01.316393Z"
    }
   },
   "outputs": [
    {
     "data": {
      "text/html": [
       "<html>\n",
       "<div style=\"display:flex; align-items:center;\">\n",
       "<div style=\"width:290px;\">\n",
       "<svg xmlns=\"http://www.w3.org/2000/svg\" viewBox=\"-10 -105 270 120\">\n",
       "<line x1=\"-5\" y1=\"0\" x2=\"255\" y2=\"0\" style=\"fill:none;stroke-width:2;stroke:currentColor\"/>\n",
       "<text text-anchor=\"middle\" x=\"0\" y=\"15\" style=\"fill:currentColor;\">\n",
       "2\n",
       "</text>\n",
       "<text text-anchor=\"middle\" x=\"250\" y=\"15\" style=\"fill:currentColor;\">\n",
       "4\n",
       "</text>\n",
       "<text text-anchor=\"middle\" x=\"125.0\" y=\"15\" style=\"fill:currentColor;\">\n",
       "Fancy display name\n",
       "</text>\n",
       "<polyline points=\"  0,0   0,-12.2 125,-12.2 125,-100 250,-100 250,0\" style=\"fill:none; stroke:currentColor;\"/>\n",
       "</svg>\n",
       "</div>\n",
       "<div style=\"flex=grow:1;\">\n",
       "Regular(2, 2, 4, underflow=False, name='x', label='Fancy display name')<br/>\n",
       "<hr style=\"margin-top:.2em; margin-bottom:.2em;\"/>\n",
       "Double() Σ=156.0 <em>(998.0 with flow)</em>\n",
       "\n",
       "</div>\n",
       "</div>\n",
       "</html>"
      ],
      "text/plain": [
       "Hist(Regular(2, 2, 4, underflow=False, name='x', label='Fancy display name'), storage=Double()) # Sum: 156.0 (998.0 with flow)"
      ]
     },
     "execution_count": 18,
     "metadata": {},
     "output_type": "execute_result"
    }
   ],
   "source": [
    "# Slicing\n",
    "h[2:4]"
   ]
  },
  {
   "cell_type": "code",
   "execution_count": 19,
   "metadata": {
    "ExecuteTime": {
     "end_time": "2021-10-30T04:47:01.363925Z",
     "start_time": "2021-10-30T04:47:01.338238Z"
    }
   },
   "outputs": [
    {
     "data": {
      "text/html": [
       "<html>\n",
       "<div style=\"display:flex; align-items:center;\">\n",
       "<div style=\"width:290px;\">\n",
       "<svg xmlns=\"http://www.w3.org/2000/svg\" viewBox=\"-10 -105 270 120\">\n",
       "<line x1=\"-5\" y1=\"0\" x2=\"255\" y2=\"0\" style=\"fill:none;stroke-width:2;stroke:currentColor\"/>\n",
       "<text text-anchor=\"middle\" x=\"0\" y=\"15\" style=\"fill:currentColor;\">\n",
       "1\n",
       "</text>\n",
       "<text text-anchor=\"middle\" x=\"250\" y=\"15\" style=\"fill:currentColor;\">\n",
       "6\n",
       "</text>\n",
       "<text text-anchor=\"middle\" x=\"125.0\" y=\"15\" style=\"fill:currentColor;\">\n",
       "Fancy display name\n",
       "</text>\n",
       "<polyline points=\"  0,0   0,-0.559  50,-0.559  50,-4.75 100,-4.75 100,-38.8 150,-38.8 150,-98 200,-98 200,-100 250,-100 250,0\" style=\"fill:none; stroke:currentColor;\"/>\n",
       "</svg>\n",
       "</div>\n",
       "<div style=\"flex=grow:1;\">\n",
       "Regular(5, 1, 6, underflow=False, name='x', label='Fancy display name')<br/>\n",
       "<hr style=\"margin-top:.2em; margin-bottom:.2em;\"/>\n",
       "Double() Σ=867.0 <em>(1000.0 with flow)</em>\n",
       "\n",
       "</div>\n",
       "</div>\n",
       "</html>"
      ],
      "text/plain": [
       "Hist(Regular(5, 1, 6, underflow=False, name='x', label='Fancy display name'), storage=Double()) # Sum: 867.0 (1000.0 with flow)"
      ]
     },
     "execution_count": 19,
     "metadata": {},
     "output_type": "execute_result"
    }
   ],
   "source": [
    "# Slicing in data coordinates\n",
    "h[1j:6j]"
   ]
  },
  {
   "cell_type": "code",
   "execution_count": 20,
   "metadata": {
    "ExecuteTime": {
     "end_time": "2021-10-30T04:47:01.394846Z",
     "start_time": "2021-10-30T04:47:01.366386Z"
    }
   },
   "outputs": [
    {
     "data": {
      "text/plain": [
       "1000.0"
      ]
     },
     "execution_count": 20,
     "metadata": {},
     "output_type": "execute_result"
    }
   ],
   "source": [
    "# Get total\n",
    "h.sum()"
   ]
  },
  {
   "cell_type": "markdown",
   "metadata": {
    "ExecuteTime": {
     "end_time": "2021-10-29T22:05:51.335189Z",
     "start_time": "2021-10-29T22:05:51.322699Z"
    }
   },
   "source": [
    "### hist - properties (PlottableHistogram)"
   ]
  },
  {
   "cell_type": "code",
   "execution_count": 21,
   "metadata": {
    "ExecuteTime": {
     "end_time": "2021-10-30T04:47:01.417378Z",
     "start_time": "2021-10-30T04:47:01.397207Z"
    }
   },
   "outputs": [
    {
     "name": "stdout",
     "output_type": "stream",
     "text": [
      "[  0.   2.  17. 139. 351. 358. 116.  17.   0.   0.]\n",
      "[  0.   2.  17. 139. 351. 358. 116.  17.   0.   0.]\n",
      "Regular(10, 0, 10, underflow=False, name='x', label='Fancy display name')\n",
      "[0.5 1.5 2.5 3.5 4.5 5.5 6.5 7.5 8.5 9.5]\n"
     ]
    }
   ],
   "source": [
    "print(h.values())\n",
    "print(h.variances())\n",
    "print(h.axes[0])\n",
    "print(h.axes[0].centers)"
   ]
  },
  {
   "cell_type": "markdown",
   "metadata": {
    "ExecuteTime": {
     "end_time": "2021-10-29T18:20:29.509666Z",
     "start_time": "2021-10-29T18:20:29.499589Z"
    }
   },
   "source": [
    "## hist - multiple dimensions and indexing\n",
    "- analysis like example"
   ]
  },
  {
   "cell_type": "code",
   "execution_count": 22,
   "metadata": {
    "ExecuteTime": {
     "end_time": "2021-10-30T04:47:01.449389Z",
     "start_time": "2021-10-30T04:47:01.421763Z"
    }
   },
   "outputs": [
    {
     "data": {
      "text/html": [
       "<html>\n",
       "<div style=\"display:flex; align-items:center;\">\n",
       "<div style=\"width:290px;\">\n",
       "<svg xmlns=\"http://www.w3.org/2000/svg\" viewBox=\"-20 -270 290 290\">\n",
       "<text text-anchor=\"middle\" x=\"0\" y=\"13\" style=\"fill:currentColor;\">\n",
       "0\n",
       "</text>\n",
       "<text text-anchor=\"middle\" x=\"250\" y=\"13\" style=\"fill:currentColor;\">\n",
       "10\n",
       "</text>\n",
       "<text text-anchor=\"middle\" x=\"-10\" y=\"0\" style=\"fill:currentColor;\">\n",
       "0\n",
       "</text>\n",
       "<text text-anchor=\"middle\" x=\"-10\" y=\"-250\" style=\"fill:currentColor;\">\n",
       "2\n",
       "</text>\n",
       "<text text-anchor=\"middle\" x=\"125.0\" y=\"13\" style=\"fill:currentColor;\">\n",
       "x\n",
       "</text>\n",
       "<text text-anchor=\"middle\" x=\"-10\" y=\"-125.0\" transform=\"rotate(-90,-10,-125.0)\" style=\"fill:currentColor;\">\n",
       "dataset\n",
       "</text>\n",
       "<rect x=\"0.0\" y=\"-125.0\" width=\"25.0\" height=\"125.0\" opacity=\"0.0\" fill=\"currentColor\" stroke-width=\"0.1\"/>\n",
       "<rect x=\"25.0\" y=\"-125.0\" width=\"25.0\" height=\"125.0\" opacity=\"0.0\" fill=\"currentColor\" stroke-width=\"0.1\"/>\n",
       "<rect x=\"50.0\" y=\"-125.0\" width=\"25.0\" height=\"125.0\" opacity=\"0.0\" fill=\"currentColor\" stroke-width=\"0.1\"/>\n",
       "<rect x=\"75.0\" y=\"-125.0\" width=\"25.0\" height=\"125.0\" opacity=\"0.0\" fill=\"currentColor\" stroke-width=\"0.1\"/>\n",
       "<rect x=\"100.0\" y=\"-125.0\" width=\"25.0\" height=\"125.0\" opacity=\"0.0\" fill=\"currentColor\" stroke-width=\"0.1\"/>\n",
       "<rect x=\"125.0\" y=\"-125.0\" width=\"25.0\" height=\"125.0\" opacity=\"0.0\" fill=\"currentColor\" stroke-width=\"0.1\"/>\n",
       "<rect x=\"150.0\" y=\"-125.0\" width=\"25.0\" height=\"125.0\" opacity=\"0.0\" fill=\"currentColor\" stroke-width=\"0.1\"/>\n",
       "<rect x=\"175.0\" y=\"-125.0\" width=\"25.0\" height=\"125.0\" opacity=\"0.0\" fill=\"currentColor\" stroke-width=\"0.1\"/>\n",
       "<rect x=\"200.0\" y=\"-125.0\" width=\"25.0\" height=\"125.0\" opacity=\"0.0\" fill=\"currentColor\" stroke-width=\"0.1\"/>\n",
       "<rect x=\"225.0\" y=\"-125.0\" width=\"25.0\" height=\"125.0\" opacity=\"0.0\" fill=\"currentColor\" stroke-width=\"0.1\"/>\n",
       "<rect x=\"0.0\" y=\"-250.0\" width=\"25.0\" height=\"125.0\" opacity=\"0.0\" fill=\"currentColor\" stroke-width=\"0.1\"/>\n",
       "<rect x=\"25.0\" y=\"-250.0\" width=\"25.0\" height=\"125.0\" opacity=\"0.0\" fill=\"currentColor\" stroke-width=\"0.1\"/>\n",
       "<rect x=\"50.0\" y=\"-250.0\" width=\"25.0\" height=\"125.0\" opacity=\"0.0\" fill=\"currentColor\" stroke-width=\"0.1\"/>\n",
       "<rect x=\"75.0\" y=\"-250.0\" width=\"25.0\" height=\"125.0\" opacity=\"0.0\" fill=\"currentColor\" stroke-width=\"0.1\"/>\n",
       "<rect x=\"100.0\" y=\"-250.0\" width=\"25.0\" height=\"125.0\" opacity=\"0.0\" fill=\"currentColor\" stroke-width=\"0.1\"/>\n",
       "<rect x=\"125.0\" y=\"-250.0\" width=\"25.0\" height=\"125.0\" opacity=\"0.0\" fill=\"currentColor\" stroke-width=\"0.1\"/>\n",
       "<rect x=\"150.0\" y=\"-250.0\" width=\"25.0\" height=\"125.0\" opacity=\"0.0\" fill=\"currentColor\" stroke-width=\"0.1\"/>\n",
       "<rect x=\"175.0\" y=\"-250.0\" width=\"25.0\" height=\"125.0\" opacity=\"0.0\" fill=\"currentColor\" stroke-width=\"0.1\"/>\n",
       "<rect x=\"200.0\" y=\"-250.0\" width=\"25.0\" height=\"125.0\" opacity=\"0.0\" fill=\"currentColor\" stroke-width=\"0.1\"/>\n",
       "<rect x=\"225.0\" y=\"-250.0\" width=\"25.0\" height=\"125.0\" opacity=\"0.0\" fill=\"currentColor\" stroke-width=\"0.1\"/>\n",
       "</svg>\n",
       "</div>\n",
       "<div style=\"flex=grow:1;\">\n",
       "Regular(10, 0, 10, name='x', label='x')<br/>\n",
       "StrCategory(['A', 'B'], growth=True, name='dataset', label='dataset')<br/>\n",
       "<hr style=\"margin-top:.2em; margin-bottom:.2em;\"/>\n",
       "Weight() Σ=WeightedSum(value=0, variance=0)\n",
       "\n",
       "</div>\n",
       "</div>\n",
       "</html>"
      ],
      "text/plain": [
       "Hist(\n",
       "  Regular(10, 0, 10, name='x', label='x'),\n",
       "  StrCategory(['A', 'B'], growth=True, name='dataset', label='dataset'),\n",
       "  storage=Weight()) # Sum: WeightedSum(value=0, variance=0)"
      ]
     },
     "execution_count": 22,
     "metadata": {},
     "output_type": "execute_result"
    }
   ],
   "source": [
    "# Create a new hist\n",
    "h2d = hist.new.Reg(10, 0, 10, name='x').StrCat([\"A\", \"B\"], growth=True, name='dataset').Weight()\n",
    "h2d"
   ]
  },
  {
   "cell_type": "code",
   "execution_count": 23,
   "metadata": {
    "ExecuteTime": {
     "end_time": "2021-10-30T04:47:01.474392Z",
     "start_time": "2021-10-30T04:47:01.456098Z"
    }
   },
   "outputs": [
    {
     "data": {
      "text/html": [
       "<html>\n",
       "<div style=\"display:flex; align-items:center;\">\n",
       "<div style=\"width:290px;\">\n",
       "<svg xmlns=\"http://www.w3.org/2000/svg\" viewBox=\"-20 -270 290 290\">\n",
       "<text text-anchor=\"middle\" x=\"0\" y=\"13\" style=\"fill:currentColor;\">\n",
       "0\n",
       "</text>\n",
       "<text text-anchor=\"middle\" x=\"250\" y=\"13\" style=\"fill:currentColor;\">\n",
       "10\n",
       "</text>\n",
       "<text text-anchor=\"middle\" x=\"-10\" y=\"0\" style=\"fill:currentColor;\">\n",
       "0\n",
       "</text>\n",
       "<text text-anchor=\"middle\" x=\"-10\" y=\"-250\" style=\"fill:currentColor;\">\n",
       "3\n",
       "</text>\n",
       "<text text-anchor=\"middle\" x=\"125.0\" y=\"13\" style=\"fill:currentColor;\">\n",
       "x\n",
       "</text>\n",
       "<text text-anchor=\"middle\" x=\"-10\" y=\"-125.0\" transform=\"rotate(-90,-10,-125.0)\" style=\"fill:currentColor;\">\n",
       "dataset\n",
       "</text>\n",
       "<rect x=\"0.0\" y=\"-83.33333333333333\" width=\"25.0\" height=\"83.333\" opacity=\"0.017374517374517374\" fill=\"currentColor\" stroke-width=\"0.1\"/>\n",
       "<rect x=\"25.0\" y=\"-83.33333333333333\" width=\"25.0\" height=\"83.333\" opacity=\"0.13127413127413126\" fill=\"currentColor\" stroke-width=\"0.1\"/>\n",
       "<rect x=\"50.0\" y=\"-83.33333333333333\" width=\"25.0\" height=\"83.333\" opacity=\"0.34459459459459457\" fill=\"currentColor\" stroke-width=\"0.1\"/>\n",
       "<rect x=\"75.0\" y=\"-83.33333333333333\" width=\"25.0\" height=\"83.333\" opacity=\"0.3243243243243243\" fill=\"currentColor\" stroke-width=\"0.1\"/>\n",
       "<rect x=\"100.0\" y=\"-83.33333333333333\" width=\"25.0\" height=\"83.333\" opacity=\"0.12934362934362933\" fill=\"currentColor\" stroke-width=\"0.1\"/>\n",
       "<rect x=\"125.0\" y=\"-83.33333333333333\" width=\"25.0\" height=\"83.333\" opacity=\"0.015444015444015443\" fill=\"currentColor\" stroke-width=\"0.1\"/>\n",
       "<rect x=\"150.0\" y=\"-83.33333333333333\" width=\"25.0\" height=\"83.333\" opacity=\"0.0028957528957528956\" fill=\"currentColor\" stroke-width=\"0.1\"/>\n",
       "<rect x=\"175.0\" y=\"-83.33333333333333\" width=\"25.0\" height=\"83.333\" opacity=\"0.0\" fill=\"currentColor\" stroke-width=\"0.1\"/>\n",
       "<rect x=\"200.0\" y=\"-83.33333333333333\" width=\"25.0\" height=\"83.333\" opacity=\"0.0\" fill=\"currentColor\" stroke-width=\"0.1\"/>\n",
       "<rect x=\"225.0\" y=\"-83.33333333333333\" width=\"25.0\" height=\"83.333\" opacity=\"0.0\" fill=\"currentColor\" stroke-width=\"0.1\"/>\n",
       "<rect x=\"0.0\" y=\"-166.66666666666666\" width=\"25.0\" height=\"83.333\" opacity=\"0.0\" fill=\"currentColor\" stroke-width=\"0.1\"/>\n",
       "<rect x=\"25.0\" y=\"-166.66666666666666\" width=\"25.0\" height=\"83.333\" opacity=\"0.004826254826254826\" fill=\"currentColor\" stroke-width=\"0.1\"/>\n",
       "<rect x=\"50.0\" y=\"-166.66666666666666\" width=\"25.0\" height=\"83.333\" opacity=\"0.052123552123552123\" fill=\"currentColor\" stroke-width=\"0.1\"/>\n",
       "<rect x=\"75.0\" y=\"-166.66666666666666\" width=\"25.0\" height=\"83.333\" opacity=\"0.4034749034749034\" fill=\"currentColor\" stroke-width=\"0.1\"/>\n",
       "<rect x=\"100.0\" y=\"-166.66666666666666\" width=\"25.0\" height=\"83.333\" opacity=\"1.0\" fill=\"currentColor\" stroke-width=\"0.1\"/>\n",
       "<rect x=\"125.0\" y=\"-166.66666666666666\" width=\"25.0\" height=\"83.333\" opacity=\"0.9864864864864864\" fill=\"currentColor\" stroke-width=\"0.1\"/>\n",
       "<rect x=\"150.0\" y=\"-166.66666666666666\" width=\"25.0\" height=\"83.333\" opacity=\"0.3861003861003861\" fill=\"currentColor\" stroke-width=\"0.1\"/>\n",
       "<rect x=\"175.0\" y=\"-166.66666666666666\" width=\"25.0\" height=\"83.333\" opacity=\"0.058880308880308874\" fill=\"currentColor\" stroke-width=\"0.1\"/>\n",
       "<rect x=\"200.0\" y=\"-166.66666666666666\" width=\"25.0\" height=\"83.333\" opacity=\"0.0028957528957528956\" fill=\"currentColor\" stroke-width=\"0.1\"/>\n",
       "<rect x=\"225.0\" y=\"-166.66666666666666\" width=\"25.0\" height=\"83.333\" opacity=\"0.0009652509652509652\" fill=\"currentColor\" stroke-width=\"0.1\"/>\n",
       "<rect x=\"0.0\" y=\"-250.0\" width=\"25.0\" height=\"83.333\" opacity=\"0.0\" fill=\"currentColor\" stroke-width=\"0.1\"/>\n",
       "<rect x=\"25.0\" y=\"-250.0\" width=\"25.0\" height=\"83.333\" opacity=\"0.0\" fill=\"currentColor\" stroke-width=\"0.1\"/>\n",
       "<rect x=\"50.0\" y=\"-250.0\" width=\"25.0\" height=\"83.333\" opacity=\"0.0\" fill=\"currentColor\" stroke-width=\"0.1\"/>\n",
       "<rect x=\"75.0\" y=\"-250.0\" width=\"25.0\" height=\"83.333\" opacity=\"0.0038610038610038607\" fill=\"currentColor\" stroke-width=\"0.1\"/>\n",
       "<rect x=\"100.0\" y=\"-250.0\" width=\"25.0\" height=\"83.333\" opacity=\"0.0444015444015444\" fill=\"currentColor\" stroke-width=\"0.1\"/>\n",
       "<rect x=\"125.0\" y=\"-250.0\" width=\"25.0\" height=\"83.333\" opacity=\"0.2635135135135135\" fill=\"currentColor\" stroke-width=\"0.1\"/>\n",
       "<rect x=\"150.0\" y=\"-250.0\" width=\"25.0\" height=\"83.333\" opacity=\"0.665057915057915\" fill=\"currentColor\" stroke-width=\"0.1\"/>\n",
       "<rect x=\"175.0\" y=\"-250.0\" width=\"25.0\" height=\"83.333\" opacity=\"0.6554054054054054\" fill=\"currentColor\" stroke-width=\"0.1\"/>\n",
       "<rect x=\"200.0\" y=\"-250.0\" width=\"25.0\" height=\"83.333\" opacity=\"0.24710424710424708\" fill=\"currentColor\" stroke-width=\"0.1\"/>\n",
       "<rect x=\"225.0\" y=\"-250.0\" width=\"25.0\" height=\"83.333\" opacity=\"0.0444015444015444\" fill=\"currentColor\" stroke-width=\"0.1\"/>\n",
       "</svg>\n",
       "</div>\n",
       "<div style=\"flex=grow:1;\">\n",
       "Regular(10, 0, 10, name='x', label='x')<br/>\n",
       "StrCategory(['A', 'B', 'C'], growth=True, name='dataset', label='dataset')<br/>\n",
       "<hr style=\"margin-top:.2em; margin-bottom:.2em;\"/>\n",
       "Weight() Σ=WeightedSum(value=5993, variance=5993) <em>(WeightedSum(value=6000, variance=6000) with flow)</em>\n",
       "\n",
       "</div>\n",
       "</div>\n",
       "</html>"
      ],
      "text/plain": [
       "Hist(\n",
       "  Regular(10, 0, 10, name='x', label='x'),\n",
       "  StrCategory(['A', 'B', 'C'], growth=True, name='dataset', label='dataset'),\n",
       "  storage=Weight()) # Sum: WeightedSum(value=5993, variance=5993) (WeightedSum(value=6000, variance=6000) with flow)"
      ]
     },
     "execution_count": 23,
     "metadata": {},
     "output_type": "execute_result"
    }
   ],
   "source": [
    "# Fill it\n",
    "h2d.fill(np.random.normal(3, 1, 1000), \"A\")\n",
    "h2d.fill(np.random.normal(5, 1, 3000), \"B\")\n",
    "h2d.fill(np.random.normal(7, 1, 2000), \"C\")\n",
    "h2d"
   ]
  },
  {
   "cell_type": "code",
   "execution_count": 24,
   "metadata": {
    "ExecuteTime": {
     "end_time": "2021-10-30T04:47:01.722757Z",
     "start_time": "2021-10-30T04:47:01.477555Z"
    }
   },
   "outputs": [
    {
     "name": "stderr",
     "output_type": "stream",
     "text": [
      "/home/anovak/software/miniconda3/envs/def/lib/python3.7/site-packages/boost_histogram/_internal/hist.py:873: UserWarning: List indexing selection is experimental. Removed bins are not placed in overflow.\n",
      "  \"List indexing selection is experimental. Removed bins are not placed in overflow.\"\n"
     ]
    },
    {
     "data": {
      "text/plain": [
       "<matplotlib.legend.Legend at 0x7f7db3470940>"
      ]
     },
     "execution_count": 24,
     "metadata": {},
     "output_type": "execute_result"
    },
    {
     "data": {
      "image/png": "[encoded data removed]",
      "text/plain": [
       "<Figure size 432x288 with 1 Axes>"
      ]
     },
     "metadata": {
      "needs_background": "light"
     },
     "output_type": "display_data"
    }
   ],
   "source": [
    "h2d[:6, [\"A\", \"B\"]].plot(stack=True, histtype='step', sort='y_r');\n",
    "plt.legend()"
   ]
  },
  {
   "cell_type": "code",
   "execution_count": 25,
   "metadata": {
    "ExecuteTime": {
     "end_time": "2021-10-30T04:47:02.037002Z",
     "start_time": "2021-10-30T04:47:01.725317Z"
    }
   },
   "outputs": [
    {
     "data": {
      "image/png": "[encoded data removed]",
      "text/plain": [
       "<Figure size 432x288 with 2 Axes>"
      ]
     },
     "metadata": {
      "needs_background": "light"
     },
     "output_type": "display_data"
    }
   ],
   "source": [
    "hep.hist2dplot(h2d, labels=True);"
   ]
  },
  {
   "cell_type": "markdown",
   "metadata": {},
   "source": [
    "### Analysis like example"
   ]
  },
  {
   "cell_type": "code",
   "execution_count": 26,
   "metadata": {
    "ExecuteTime": {
     "end_time": "2021-10-30T04:47:02.049010Z",
     "start_time": "2021-10-30T04:47:02.039011Z"
    }
   },
   "outputs": [],
   "source": [
    "hn = (hist.new.Reg(100, 0, 100, name='x', label='Observable')\n",
    "      .Var([0, 0.2, 0.5, 0.9, 1], name=\"tag\", label=\"Some MVA\")\n",
    "      .StrCat([\"A\"], growth=True, name='dataset')\n",
    "      .IntCat([0, 1, 2, 3], name='region')\n",
    "      .StrCat([\"A\"], growth=True, name='syst', label='Systematic')\n",
    "      .Weight()\n",
    "     )"
   ]
  },
  {
   "cell_type": "code",
   "execution_count": 27,
   "metadata": {
    "ExecuteTime": {
     "end_time": "2021-10-30T04:47:02.101004Z",
     "start_time": "2021-10-30T04:47:02.051700Z"
    }
   },
   "outputs": [
    {
     "data": {
      "text/plain": [
       "['D', 'E', 'D', 'C', 'E', 'D', 'E', 'E', 'C', 'E']"
      ]
     },
     "execution_count": 27,
     "metadata": {},
     "output_type": "execute_result"
    }
   ],
   "source": [
    "# Small random letter helper\n",
    "def rnd_letters(a=\"A\", z=\"Z\", N=10):\n",
    "    A, Z = np.array([a, z]).view(\"int32\") \n",
    "    return list(np.random.randint(low=A,high=Z,size=N,dtype=\"int32\").view(f\"U{N}\")[0])\n",
    "rnd_letters(\"C\", \"F\")"
   ]
  },
  {
   "cell_type": "code",
   "execution_count": 28,
   "metadata": {
    "ExecuteTime": {
     "end_time": "2021-10-30T04:47:03.003629Z",
     "start_time": "2021-10-30T04:47:02.102750Z"
    }
   },
   "outputs": [
    {
     "data": {
      "text/html": [
       "<html>\n",
       "<div style=\"display:flex; align-items:center;\">\n",
       "<div style=\"width:290px;\">\n",
       "<svg xmlns=\"http://www.w3.org/2000/svg\" viewBox=\"-10 -10 220 220\">\n",
       "<rect x=\"0\" y=\"0\" width=\"160\" height=\"160\" style=\"fill:white;opacity:.5;stroke-width:2;stroke:currentColor;\"/>\n",
       "<rect x=\"20\" y=\"20\" width=\"160\" height=\"160\" style=\"fill:white;opacity:.5;stroke-width:2;stroke:currentColor;\"/>\n",
       "<rect x=\"40\" y=\"40\" width=\"160\" height=\"160\" style=\"fill:white;opacity:.5;stroke-width:2;stroke:currentColor;\"/>\n",
       "<text x=\"120.0\" y=\"120.0\" style=\"font-size: 26pt; font-family: verdana; font-style: bold; fill: black;\" text-anchor=\"middle\" alignment-baseline=\"middle\">\n",
       "5D\n",
       "</text>\n",
       "</svg>\n",
       "</div>\n",
       "<div style=\"flex=grow:1;\">\n",
       "Regular(100, 0, 100, name='x', label='Observable')<br/>\n",
       "Variable([0, 0.2, 0.5, 0.9, 1], name='tag', label='Some MVA')<br/>\n",
       "StrCategory(['A', 'E', 'D', 'F', 'C', 'B'], growth=True, name='dataset', label='dataset')<br/>\n",
       "IntCategory([0, 1, 2, 3], name='region', label='region')<br/>\n",
       "StrCategory(['A', 'Q', 'R', 'V', 'Y', 'S', 'P', 'U', 'X', 'T', 'W'], growth=True, name='syst', label='Systematic')<br/>\n",
       "<hr style=\"margin-top:.2em; margin-bottom:.2em;\"/>\n",
       "Weight() Σ=WeightedSum(value=2.39136e+06, variance=2.39136e+06) <em>(WeightedSum(value=2.4e+06, variance=2.4e+06) with flow)</em>\n",
       "\n",
       "</div>\n",
       "</div>\n",
       "</html>"
      ],
      "text/plain": [
       "Hist(\n",
       "  Regular(100, 0, 100, name='x', label='Observable'),\n",
       "  Variable([0, 0.2, 0.5, 0.9, 1], name='tag', label='Some MVA'),\n",
       "  StrCategory(['A', 'E', 'D', 'F', 'C', 'B'], growth=True, name='dataset', label='dataset'),\n",
       "  IntCategory([0, 1, 2, 3], name='region', label='region'),\n",
       "  StrCategory(['A', 'Q', 'R', 'V', 'Y', 'S', 'P', 'U', 'X', 'T', 'W'], growth=True, name='syst', label='Systematic'),\n",
       "  storage=Weight()) # Sum: WeightedSum(value=2.39136e+06, variance=2.39136e+06) (WeightedSum(value=2.4e+06, variance=2.4e+06) with flow)"
      ]
     },
     "execution_count": 28,
     "metadata": {},
     "output_type": "execute_result"
    }
   ],
   "source": [
    "# And fill it\n",
    "N = 400000\n",
    "for sample in set(rnd_letters(\"A\", \"G\", 500)):\n",
    "    hn.fill(x = np.random.normal(np.random.randint(20, 80, 1), 10, N),\n",
    "            tag = np.random.uniform(0, 1, N),\n",
    "            dataset = sample,\n",
    "            region=np.random.randint(0, 4, N),\n",
    "            syst = rnd_letters(\"P\", \"Z\", N=N)\n",
    "            )\n",
    "hn"
   ]
  },
  {
   "cell_type": "code",
   "execution_count": 29,
   "metadata": {
    "ExecuteTime": {
     "end_time": "2021-10-30T04:47:03.076891Z",
     "start_time": "2021-10-30T04:47:03.006492Z"
    }
   },
   "outputs": [
    {
     "data": {
      "text/html": [
       "<html>\n",
       "<div style=\"display:flex; align-items:center;\">\n",
       "<div style=\"width:290px;\">\n",
       "<svg xmlns=\"http://www.w3.org/2000/svg\" viewBox=\"-20 -270 290 290\">\n",
       "<text text-anchor=\"middle\" x=\"0\" y=\"13\" style=\"fill:currentColor;\">\n",
       "0\n",
       "</text>\n",
       "<text text-anchor=\"middle\" x=\"250\" y=\"13\" style=\"fill:currentColor;\">\n",
       "100\n",
       "</text>\n",
       "<text text-anchor=\"middle\" x=\"-10\" y=\"0\" style=\"fill:currentColor;\">\n",
       "0\n",
       "</text>\n",
       "<text text-anchor=\"middle\" x=\"-10\" y=\"-250\" style=\"fill:currentColor;\">\n",
       "6\n",
       "</text>\n",
       "<text text-anchor=\"middle\" x=\"125.0\" y=\"13\" style=\"fill:currentColor;\">\n",
       "Observable\n",
       "</text>\n",
       "<text text-anchor=\"middle\" x=\"-10\" y=\"-125.0\" transform=\"rotate(-90,-10,-125.0)\" style=\"fill:currentColor;\">\n",
       "dataset\n",
       "</text>\n",
       "<rect x=\"0.0\" y=\"-41.666666666666664\" width=\"2.5\" height=\"41.667\" opacity=\"0.0\" fill=\"currentColor\" stroke-width=\"0.1\"/>\n",
       "<rect x=\"2.5\" y=\"-41.666666666666664\" width=\"2.5\" height=\"41.667\" opacity=\"0.0\" fill=\"currentColor\" stroke-width=\"0.1\"/>\n",
       "<rect x=\"5.0\" y=\"-41.666666666666664\" width=\"2.5\" height=\"41.667\" opacity=\"0.0\" fill=\"currentColor\" stroke-width=\"0.1\"/>\n",
       "<rect x=\"7.5\" y=\"-41.666666666666664\" width=\"2.5\" height=\"41.667\" opacity=\"0.0\" fill=\"currentColor\" stroke-width=\"0.1\"/>\n",
       "<rect x=\"10.0\" y=\"-41.666666666666664\" width=\"2.5\" height=\"41.667\" opacity=\"0.0\" fill=\"currentColor\" stroke-width=\"0.1\"/>\n",
       "<rect x=\"12.5\" y=\"-41.666666666666664\" width=\"2.5\" height=\"41.667\" opacity=\"0.0\" fill=\"currentColor\" stroke-width=\"0.1\"/>\n",
       "<rect x=\"15.0\" y=\"-41.666666666666664\" width=\"2.5\" height=\"41.667\" opacity=\"0.0\" fill=\"currentColor\" stroke-width=\"0.1\"/>\n",
       "<rect x=\"17.5\" y=\"-41.666666666666664\" width=\"2.5\" height=\"41.667\" opacity=\"0.0\" fill=\"currentColor\" stroke-width=\"0.1\"/>\n",
       "<rect x=\"20.0\" y=\"-41.666666666666664\" width=\"2.5\" height=\"41.667\" opacity=\"0.0\" fill=\"currentColor\" stroke-width=\"0.1\"/>\n",
       "<rect x=\"22.5\" y=\"-41.666666666666664\" width=\"2.5\" height=\"41.667\" opacity=\"0.0\" fill=\"currentColor\" stroke-width=\"0.1\"/>\n",
       "<rect x=\"25.0\" y=\"-41.666666666666664\" width=\"2.5\" height=\"41.667\" opacity=\"0.0\" fill=\"currentColor\" stroke-width=\"0.1\"/>\n",
       "<rect x=\"27.5\" y=\"-41.666666666666664\" width=\"2.5\" height=\"41.667\" opacity=\"0.0\" fill=\"currentColor\" stroke-width=\"0.1\"/>\n",
       "<rect x=\"30.0\" y=\"-41.666666666666664\" width=\"2.5\" height=\"41.667\" opacity=\"0.0\" fill=\"currentColor\" stroke-width=\"0.1\"/>\n",
       "<rect x=\"32.5\" y=\"-41.666666666666664\" width=\"2.5\" height=\"41.667\" opacity=\"0.0\" fill=\"currentColor\" stroke-width=\"0.1\"/>\n",
       "<rect x=\"35.0\" y=\"-41.666666666666664\" width=\"2.5\" height=\"41.667\" opacity=\"0.0\" fill=\"currentColor\" stroke-width=\"0.1\"/>\n",
       "<rect x=\"37.5\" y=\"-41.666666666666664\" width=\"2.5\" height=\"41.667\" opacity=\"0.0\" fill=\"currentColor\" stroke-width=\"0.1\"/>\n",
       "<rect x=\"40.0\" y=\"-41.666666666666664\" width=\"2.5\" height=\"41.667\" opacity=\"0.0\" fill=\"currentColor\" stroke-width=\"0.1\"/>\n",
       "<rect x=\"42.5\" y=\"-41.666666666666664\" width=\"2.5\" height=\"41.667\" opacity=\"0.0\" fill=\"currentColor\" stroke-width=\"0.1\"/>\n",
       "<rect x=\"45.0\" y=\"-41.666666666666664\" width=\"2.5\" height=\"41.667\" opacity=\"0.0\" fill=\"currentColor\" stroke-width=\"0.1\"/>\n",
       "<rect x=\"47.5\" y=\"-41.666666666666664\" width=\"2.5\" height=\"41.667\" opacity=\"0.0\" fill=\"currentColor\" stroke-width=\"0.1\"/>\n",
       "<rect x=\"50.0\" y=\"-41.666666666666664\" width=\"2.5\" height=\"41.667\" opacity=\"0.0\" fill=\"currentColor\" stroke-width=\"0.1\"/>\n",
       "<rect x=\"52.5\" y=\"-41.666666666666664\" width=\"2.5\" height=\"41.667\" opacity=\"0.0\" fill=\"currentColor\" stroke-width=\"0.1\"/>\n",
       "<rect x=\"55.0\" y=\"-41.666666666666664\" width=\"2.5\" height=\"41.667\" opacity=\"0.0\" fill=\"currentColor\" stroke-width=\"0.1\"/>\n",
       "<rect x=\"57.5\" y=\"-41.666666666666664\" width=\"2.5\" height=\"41.667\" opacity=\"0.0\" fill=\"currentColor\" stroke-width=\"0.1\"/>\n",
       "<rect x=\"60.0\" y=\"-41.666666666666664\" width=\"2.5\" height=\"41.667\" opacity=\"0.0\" fill=\"currentColor\" stroke-width=\"0.1\"/>\n",
       "<rect x=\"62.5\" y=\"-41.666666666666664\" width=\"2.5\" height=\"41.667\" opacity=\"0.0\" fill=\"currentColor\" stroke-width=\"0.1\"/>\n",
       "<rect x=\"65.0\" y=\"-41.666666666666664\" width=\"2.5\" height=\"41.667\" opacity=\"0.0\" fill=\"currentColor\" stroke-width=\"0.1\"/>\n",
       "<rect x=\"67.5\" y=\"-41.666666666666664\" width=\"2.5\" height=\"41.667\" opacity=\"0.0\" fill=\"currentColor\" stroke-width=\"0.1\"/>\n",
       "<rect x=\"70.0\" y=\"-41.666666666666664\" width=\"2.5\" height=\"41.667\" opacity=\"0.0\" fill=\"currentColor\" stroke-width=\"0.1\"/>\n",
       "<rect x=\"72.5\" y=\"-41.666666666666664\" width=\"2.5\" height=\"41.667\" opacity=\"0.0\" fill=\"currentColor\" stroke-width=\"0.1\"/>\n",
       "<rect x=\"75.0\" y=\"-41.666666666666664\" width=\"2.5\" height=\"41.667\" opacity=\"0.0\" fill=\"currentColor\" stroke-width=\"0.1\"/>\n",
       "<rect x=\"77.5\" y=\"-41.666666666666664\" width=\"2.5\" height=\"41.667\" opacity=\"0.0\" fill=\"currentColor\" stroke-width=\"0.1\"/>\n",
       "<rect x=\"80.0\" y=\"-41.666666666666664\" width=\"2.5\" height=\"41.667\" opacity=\"0.0\" fill=\"currentColor\" stroke-width=\"0.1\"/>\n",
       "<rect x=\"82.5\" y=\"-41.666666666666664\" width=\"2.5\" height=\"41.667\" opacity=\"0.0\" fill=\"currentColor\" stroke-width=\"0.1\"/>\n",
       "<rect x=\"85.0\" y=\"-41.666666666666664\" width=\"2.5\" height=\"41.667\" opacity=\"0.0\" fill=\"currentColor\" stroke-width=\"0.1\"/>\n",
       "<rect x=\"87.5\" y=\"-41.666666666666664\" width=\"2.5\" height=\"41.667\" opacity=\"0.0\" fill=\"currentColor\" stroke-width=\"0.1\"/>\n",
       "<rect x=\"90.0\" y=\"-41.666666666666664\" width=\"2.5\" height=\"41.667\" opacity=\"0.008733624454148471\" fill=\"currentColor\" stroke-width=\"0.1\"/>\n",
       "<rect x=\"92.5\" y=\"-41.666666666666664\" width=\"2.5\" height=\"41.667\" opacity=\"0.004366812227074236\" fill=\"currentColor\" stroke-width=\"0.1\"/>\n",
       "<rect x=\"95.0\" y=\"-41.666666666666664\" width=\"2.5\" height=\"41.667\" opacity=\"0.0\" fill=\"currentColor\" stroke-width=\"0.1\"/>\n",
       "<rect x=\"97.5\" y=\"-41.666666666666664\" width=\"2.5\" height=\"41.667\" opacity=\"0.0\" fill=\"currentColor\" stroke-width=\"0.1\"/>\n",
       "<rect x=\"100.0\" y=\"-41.666666666666664\" width=\"2.5\" height=\"41.667\" opacity=\"0.0\" fill=\"currentColor\" stroke-width=\"0.1\"/>\n",
       "<rect x=\"102.5\" y=\"-41.666666666666664\" width=\"2.5\" height=\"41.667\" opacity=\"0.008733624454148471\" fill=\"currentColor\" stroke-width=\"0.1\"/>\n",
       "<rect x=\"105.0\" y=\"-41.666666666666664\" width=\"2.5\" height=\"41.667\" opacity=\"0.004366812227074236\" fill=\"currentColor\" stroke-width=\"0.1\"/>\n",
       "<rect x=\"107.5\" y=\"-41.666666666666664\" width=\"2.5\" height=\"41.667\" opacity=\"0.008733624454148471\" fill=\"currentColor\" stroke-width=\"0.1\"/>\n",
       "<rect x=\"110.0\" y=\"-41.666666666666664\" width=\"2.5\" height=\"41.667\" opacity=\"0.0\" fill=\"currentColor\" stroke-width=\"0.1\"/>\n",
       "<rect x=\"112.5\" y=\"-41.666666666666664\" width=\"2.5\" height=\"41.667\" opacity=\"0.008733624454148471\" fill=\"currentColor\" stroke-width=\"0.1\"/>\n",
       "<rect x=\"115.0\" y=\"-41.666666666666664\" width=\"2.5\" height=\"41.667\" opacity=\"0.026200873362445417\" fill=\"currentColor\" stroke-width=\"0.1\"/>\n",
       "<rect x=\"117.5\" y=\"-41.666666666666664\" width=\"2.5\" height=\"41.667\" opacity=\"0.013100436681222708\" fill=\"currentColor\" stroke-width=\"0.1\"/>\n",
       "<rect x=\"120.0\" y=\"-41.666666666666664\" width=\"2.5\" height=\"41.667\" opacity=\"0.026200873362445417\" fill=\"currentColor\" stroke-width=\"0.1\"/>\n",
       "<rect x=\"122.5\" y=\"-41.666666666666664\" width=\"2.5\" height=\"41.667\" opacity=\"0.021834061135371178\" fill=\"currentColor\" stroke-width=\"0.1\"/>\n",
       "<rect x=\"125.0\" y=\"-41.666666666666664\" width=\"2.5\" height=\"41.667\" opacity=\"0.030567685589519653\" fill=\"currentColor\" stroke-width=\"0.1\"/>\n",
       "<rect x=\"127.5\" y=\"-41.666666666666664\" width=\"2.5\" height=\"41.667\" opacity=\"0.06550218340611354\" fill=\"currentColor\" stroke-width=\"0.1\"/>\n",
       "<rect x=\"130.0\" y=\"-41.666666666666664\" width=\"2.5\" height=\"41.667\" opacity=\"0.07423580786026202\" fill=\"currentColor\" stroke-width=\"0.1\"/>\n",
       "<rect x=\"132.5\" y=\"-41.666666666666664\" width=\"2.5\" height=\"41.667\" opacity=\"0.06550218340611354\" fill=\"currentColor\" stroke-width=\"0.1\"/>\n",
       "<rect x=\"135.0\" y=\"-41.666666666666664\" width=\"2.5\" height=\"41.667\" opacity=\"0.09606986899563251\" fill=\"currentColor\" stroke-width=\"0.1\"/>\n",
       "<rect x=\"137.5\" y=\"-41.666666666666664\" width=\"2.5\" height=\"41.667\" opacity=\"0.12663755458515283\" fill=\"currentColor\" stroke-width=\"0.1\"/>\n",
       "<rect x=\"140.0\" y=\"-41.666666666666664\" width=\"2.5\" height=\"41.667\" opacity=\"0.12663755458515463\" fill=\"currentColor\" stroke-width=\"0.1\"/>\n",
       "<rect x=\"142.5\" y=\"-41.666666666666664\" width=\"2.5\" height=\"41.667\" opacity=\"0.20087336244541484\" fill=\"currentColor\" stroke-width=\"0.1\"/>\n",
       "<rect x=\"145.0\" y=\"-41.666666666666664\" width=\"2.5\" height=\"41.667\" opacity=\"0.21397379912663606\" fill=\"currentColor\" stroke-width=\"0.1\"/>\n",
       "<rect x=\"147.5\" y=\"-41.666666666666664\" width=\"2.5\" height=\"41.667\" opacity=\"0.30131004366812225\" fill=\"currentColor\" stroke-width=\"0.1\"/>\n",
       "<rect x=\"150.0\" y=\"-41.666666666666664\" width=\"2.5\" height=\"41.667\" opacity=\"0.28820960698689957\" fill=\"currentColor\" stroke-width=\"0.1\"/>\n",
       "<rect x=\"152.5\" y=\"-41.666666666666664\" width=\"2.5\" height=\"41.667\" opacity=\"0.32751091703056767\" fill=\"currentColor\" stroke-width=\"0.1\"/>\n",
       "<rect x=\"155.0\" y=\"-41.666666666666664\" width=\"2.5\" height=\"41.667\" opacity=\"0.35807860262008734\" fill=\"currentColor\" stroke-width=\"0.1\"/>\n",
       "<rect x=\"157.5\" y=\"-41.666666666666664\" width=\"2.5\" height=\"41.667\" opacity=\"0.388646288209607\" fill=\"currentColor\" stroke-width=\"0.1\"/>\n",
       "<rect x=\"160.0\" y=\"-41.666666666666664\" width=\"2.5\" height=\"41.667\" opacity=\"0.48908296943231444\" fill=\"currentColor\" stroke-width=\"0.1\"/>\n",
       "<rect x=\"162.5\" y=\"-41.666666666666664\" width=\"2.5\" height=\"41.667\" opacity=\"0.5982532751091704\" fill=\"currentColor\" stroke-width=\"0.1\"/>\n",
       "<rect x=\"165.0\" y=\"-41.666666666666664\" width=\"2.5\" height=\"41.667\" opacity=\"0.6026200873362445\" fill=\"currentColor\" stroke-width=\"0.1\"/>\n",
       "<rect x=\"167.5\" y=\"-41.666666666666664\" width=\"2.5\" height=\"41.667\" opacity=\"0.6637554585152838\" fill=\"currentColor\" stroke-width=\"0.1\"/>\n",
       "<rect x=\"170.0\" y=\"-41.666666666666664\" width=\"2.5\" height=\"41.667\" opacity=\"0.6986899563318777\" fill=\"currentColor\" stroke-width=\"0.1\"/>\n",
       "<rect x=\"172.5\" y=\"-41.666666666666664\" width=\"2.5\" height=\"41.667\" opacity=\"0.6681222707423582\" fill=\"currentColor\" stroke-width=\"0.1\"/>\n",
       "<rect x=\"175.0\" y=\"-41.666666666666664\" width=\"2.5\" height=\"41.667\" opacity=\"0.7205240174672489\" fill=\"currentColor\" stroke-width=\"0.1\"/>\n",
       "<rect x=\"177.5\" y=\"-41.666666666666664\" width=\"2.5\" height=\"41.667\" opacity=\"0.8165938864628821\" fill=\"currentColor\" stroke-width=\"0.1\"/>\n",
       "<rect x=\"180.0\" y=\"-41.666666666666664\" width=\"2.5\" height=\"41.667\" opacity=\"0.7729257641921398\" fill=\"currentColor\" stroke-width=\"0.1\"/>\n",
       "<rect x=\"182.5\" y=\"-41.666666666666664\" width=\"2.5\" height=\"41.667\" opacity=\"0.8646288209606987\" fill=\"currentColor\" stroke-width=\"0.1\"/>\n",
       "<rect x=\"185.0\" y=\"-41.666666666666664\" width=\"2.5\" height=\"41.667\" opacity=\"0.8646288209606987\" fill=\"currentColor\" stroke-width=\"0.1\"/>\n",
       "<rect x=\"187.5\" y=\"-41.666666666666664\" width=\"2.5\" height=\"41.667\" opacity=\"0.8558951965065502\" fill=\"currentColor\" stroke-width=\"0.1\"/>\n",
       "<rect x=\"190.0\" y=\"-41.666666666666664\" width=\"2.5\" height=\"41.667\" opacity=\"0.8122270742358079\" fill=\"currentColor\" stroke-width=\"0.1\"/>\n",
       "<rect x=\"192.5\" y=\"-41.666666666666664\" width=\"2.5\" height=\"41.667\" opacity=\"0.8384279475982533\" fill=\"currentColor\" stroke-width=\"0.1\"/>\n",
       "<rect x=\"195.0\" y=\"-41.666666666666664\" width=\"2.5\" height=\"41.667\" opacity=\"0.7903930131004366\" fill=\"currentColor\" stroke-width=\"0.1\"/>\n",
       "<rect x=\"197.5\" y=\"-41.666666666666664\" width=\"2.5\" height=\"41.667\" opacity=\"0.7685589519650655\" fill=\"currentColor\" stroke-width=\"0.1\"/>\n",
       "<rect x=\"200.0\" y=\"-41.666666666666664\" width=\"2.5\" height=\"41.667\" opacity=\"0.8122270742358079\" fill=\"currentColor\" stroke-width=\"0.1\"/>\n",
       "<rect x=\"202.5\" y=\"-41.666666666666664\" width=\"2.5\" height=\"41.667\" opacity=\"0.777292576419214\" fill=\"currentColor\" stroke-width=\"0.1\"/>\n",
       "<rect x=\"205.0\" y=\"-41.666666666666664\" width=\"2.5\" height=\"41.667\" opacity=\"0.7074235807860262\" fill=\"currentColor\" stroke-width=\"0.1\"/>\n",
       "<rect x=\"207.5\" y=\"-41.666666666666664\" width=\"2.5\" height=\"41.667\" opacity=\"0.5764192139737991\" fill=\"currentColor\" stroke-width=\"0.1\"/>\n",
       "<rect x=\"210.0\" y=\"-41.666666666666664\" width=\"2.5\" height=\"41.667\" opacity=\"0.5327510917030568\" fill=\"currentColor\" stroke-width=\"0.1\"/>\n",
       "<rect x=\"212.5\" y=\"-41.666666666666664\" width=\"2.5\" height=\"41.667\" opacity=\"0.462882096069869\" fill=\"currentColor\" stroke-width=\"0.1\"/>\n",
       "<rect x=\"215.0\" y=\"-41.666666666666664\" width=\"2.5\" height=\"41.667\" opacity=\"0.4104803493449782\" fill=\"currentColor\" stroke-width=\"0.1\"/>\n",
       "<rect x=\"217.5\" y=\"-41.666666666666664\" width=\"2.5\" height=\"41.667\" opacity=\"0.4017467248908297\" fill=\"currentColor\" stroke-width=\"0.1\"/>\n",
       "<rect x=\"220.0\" y=\"-41.666666666666664\" width=\"2.5\" height=\"41.667\" opacity=\"0.36681222707423583\" fill=\"currentColor\" stroke-width=\"0.1\"/>\n",
       "<rect x=\"222.5\" y=\"-41.666666666666664\" width=\"2.5\" height=\"41.667\" opacity=\"0.24890829694323147\" fill=\"currentColor\" stroke-width=\"0.1\"/>\n",
       "<rect x=\"225.0\" y=\"-41.666666666666664\" width=\"2.5\" height=\"41.667\" opacity=\"0.2183406113537118\" fill=\"currentColor\" stroke-width=\"0.1\"/>\n",
       "<rect x=\"227.5\" y=\"-41.666666666666664\" width=\"2.5\" height=\"41.667\" opacity=\"0.2052401746724891\" fill=\"currentColor\" stroke-width=\"0.1\"/>\n",
       "<rect x=\"230.0\" y=\"-41.666666666666664\" width=\"2.5\" height=\"41.667\" opacity=\"0.22707423580786026\" fill=\"currentColor\" stroke-width=\"0.1\"/>\n",
       "<rect x=\"232.5\" y=\"-41.666666666666664\" width=\"2.5\" height=\"41.667\" opacity=\"0.11353711790393013\" fill=\"currentColor\" stroke-width=\"0.1\"/>\n",
       "<rect x=\"235.0\" y=\"-41.666666666666664\" width=\"2.5\" height=\"41.667\" opacity=\"0.1091703056768559\" fill=\"currentColor\" stroke-width=\"0.1\"/>\n",
       "<rect x=\"237.5\" y=\"-41.666666666666664\" width=\"2.5\" height=\"41.667\" opacity=\"0.09170305676855896\" fill=\"currentColor\" stroke-width=\"0.1\"/>\n",
       "<rect x=\"240.0\" y=\"-41.666666666666664\" width=\"2.5\" height=\"41.667\" opacity=\"0.10043668122270742\" fill=\"currentColor\" stroke-width=\"0.1\"/>\n",
       "<rect x=\"242.5\" y=\"-41.666666666666664\" width=\"2.5\" height=\"41.667\" opacity=\"0.08296943231441048\" fill=\"currentColor\" stroke-width=\"0.1\"/>\n",
       "<rect x=\"245.0\" y=\"-41.666666666666664\" width=\"2.5\" height=\"41.667\" opacity=\"0.048034934497816595\" fill=\"currentColor\" stroke-width=\"0.1\"/>\n",
       "<rect x=\"247.5\" y=\"-41.666666666666664\" width=\"2.5\" height=\"41.667\" opacity=\"0.039301310043668124\" fill=\"currentColor\" stroke-width=\"0.1\"/>\n",
       "<rect x=\"0.0\" y=\"-83.33333333333333\" width=\"2.5\" height=\"41.667\" opacity=\"0.0\" fill=\"currentColor\" stroke-width=\"0.1\"/>\n",
       "<rect x=\"2.5\" y=\"-83.33333333333333\" width=\"2.5\" height=\"41.667\" opacity=\"0.0\" fill=\"currentColor\" stroke-width=\"0.1\"/>\n",
       "<rect x=\"5.0\" y=\"-83.33333333333333\" width=\"2.5\" height=\"41.667\" opacity=\"0.0\" fill=\"currentColor\" stroke-width=\"0.1\"/>\n",
       "<rect x=\"7.5\" y=\"-83.33333333333333\" width=\"2.5\" height=\"41.667\" opacity=\"0.0\" fill=\"currentColor\" stroke-width=\"0.1\"/>\n",
       "<rect x=\"10.0\" y=\"-83.33333333333333\" width=\"2.5\" height=\"41.667\" opacity=\"0.0\" fill=\"currentColor\" stroke-width=\"0.1\"/>\n",
       "<rect x=\"12.5\" y=\"-83.33333333333333\" width=\"2.5\" height=\"41.667\" opacity=\"0.0\" fill=\"currentColor\" stroke-width=\"0.1\"/>\n",
       "<rect x=\"15.0\" y=\"-83.33333333333333\" width=\"2.5\" height=\"41.667\" opacity=\"0.0\" fill=\"currentColor\" stroke-width=\"0.1\"/>\n",
       "<rect x=\"17.5\" y=\"-83.33333333333333\" width=\"2.5\" height=\"41.667\" opacity=\"0.0\" fill=\"currentColor\" stroke-width=\"0.1\"/>\n",
       "<rect x=\"20.0\" y=\"-83.33333333333333\" width=\"2.5\" height=\"41.667\" opacity=\"0.0\" fill=\"currentColor\" stroke-width=\"0.1\"/>\n",
       "<rect x=\"22.5\" y=\"-83.33333333333333\" width=\"2.5\" height=\"41.667\" opacity=\"0.0\" fill=\"currentColor\" stroke-width=\"0.1\"/>\n",
       "<rect x=\"25.0\" y=\"-83.33333333333333\" width=\"2.5\" height=\"41.667\" opacity=\"0.0\" fill=\"currentColor\" stroke-width=\"0.1\"/>\n",
       "<rect x=\"27.5\" y=\"-83.33333333333333\" width=\"2.5\" height=\"41.667\" opacity=\"0.0\" fill=\"currentColor\" stroke-width=\"0.1\"/>\n",
       "<rect x=\"30.0\" y=\"-83.33333333333333\" width=\"2.5\" height=\"41.667\" opacity=\"0.0\" fill=\"currentColor\" stroke-width=\"0.1\"/>\n",
       "<rect x=\"32.5\" y=\"-83.33333333333333\" width=\"2.5\" height=\"41.667\" opacity=\"0.0\" fill=\"currentColor\" stroke-width=\"0.1\"/>\n",
       "<rect x=\"35.0\" y=\"-83.33333333333333\" width=\"2.5\" height=\"41.667\" opacity=\"0.0\" fill=\"currentColor\" stroke-width=\"0.1\"/>\n",
       "<rect x=\"37.5\" y=\"-83.33333333333333\" width=\"2.5\" height=\"41.667\" opacity=\"0.004366812227074236\" fill=\"currentColor\" stroke-width=\"0.1\"/>\n",
       "<rect x=\"40.0\" y=\"-83.33333333333333\" width=\"2.5\" height=\"41.667\" opacity=\"0.0\" fill=\"currentColor\" stroke-width=\"0.1\"/>\n",
       "<rect x=\"42.5\" y=\"-83.33333333333333\" width=\"2.5\" height=\"41.667\" opacity=\"0.004366812227074236\" fill=\"currentColor\" stroke-width=\"0.1\"/>\n",
       "<rect x=\"45.0\" y=\"-83.33333333333333\" width=\"2.5\" height=\"41.667\" opacity=\"0.0\" fill=\"currentColor\" stroke-width=\"0.1\"/>\n",
       "<rect x=\"47.5\" y=\"-83.33333333333333\" width=\"2.5\" height=\"41.667\" opacity=\"0.0\" fill=\"currentColor\" stroke-width=\"0.1\"/>\n",
       "<rect x=\"50.0\" y=\"-83.33333333333333\" width=\"2.5\" height=\"41.667\" opacity=\"0.008733624454148471\" fill=\"currentColor\" stroke-width=\"0.1\"/>\n",
       "<rect x=\"52.5\" y=\"-83.33333333333333\" width=\"2.5\" height=\"41.667\" opacity=\"0.0\" fill=\"currentColor\" stroke-width=\"0.1\"/>\n",
       "<rect x=\"55.0\" y=\"-83.33333333333333\" width=\"2.5\" height=\"41.667\" opacity=\"0.0\" fill=\"currentColor\" stroke-width=\"0.1\"/>\n",
       "<rect x=\"57.5\" y=\"-83.33333333333333\" width=\"2.5\" height=\"41.667\" opacity=\"0.013100436681222708\" fill=\"currentColor\" stroke-width=\"0.1\"/>\n",
       "<rect x=\"60.0\" y=\"-83.33333333333333\" width=\"2.5\" height=\"41.667\" opacity=\"0.017467248908296942\" fill=\"currentColor\" stroke-width=\"0.1\"/>\n",
       "<rect x=\"62.5\" y=\"-83.33333333333333\" width=\"2.5\" height=\"41.667\" opacity=\"0.026200873362445417\" fill=\"currentColor\" stroke-width=\"0.1\"/>\n",
       "<rect x=\"65.0\" y=\"-83.33333333333333\" width=\"2.5\" height=\"41.667\" opacity=\"0.030567685589519653\" fill=\"currentColor\" stroke-width=\"0.1\"/>\n",
       "<rect x=\"67.5\" y=\"-83.33333333333333\" width=\"2.5\" height=\"41.667\" opacity=\"0.026200873362445323\" fill=\"currentColor\" stroke-width=\"0.1\"/>\n",
       "<rect x=\"70.0\" y=\"-83.33333333333333\" width=\"2.5\" height=\"41.667\" opacity=\"0.030567685589519868\" fill=\"currentColor\" stroke-width=\"0.1\"/>\n",
       "<rect x=\"72.5\" y=\"-83.33333333333333\" width=\"2.5\" height=\"41.667\" opacity=\"0.056768558951964865\" fill=\"currentColor\" stroke-width=\"0.1\"/>\n",
       "<rect x=\"75.0\" y=\"-83.33333333333333\" width=\"2.5\" height=\"41.667\" opacity=\"0.048034934497816595\" fill=\"currentColor\" stroke-width=\"0.1\"/>\n",
       "<rect x=\"77.5\" y=\"-83.33333333333333\" width=\"2.5\" height=\"41.667\" opacity=\"0.07860262008733625\" fill=\"currentColor\" stroke-width=\"0.1\"/>\n",
       "<rect x=\"80.0\" y=\"-83.33333333333333\" width=\"2.5\" height=\"41.667\" opacity=\"0.10043668122270742\" fill=\"currentColor\" stroke-width=\"0.1\"/>\n",
       "<rect x=\"82.5\" y=\"-83.33333333333333\" width=\"2.5\" height=\"41.667\" opacity=\"0.1091703056768559\" fill=\"currentColor\" stroke-width=\"0.1\"/>\n",
       "<rect x=\"85.0\" y=\"-83.33333333333333\" width=\"2.5\" height=\"41.667\" opacity=\"0.17467248908296942\" fill=\"currentColor\" stroke-width=\"0.1\"/>\n",
       "<rect x=\"87.5\" y=\"-83.33333333333333\" width=\"2.5\" height=\"41.667\" opacity=\"0.15283842794759825\" fill=\"currentColor\" stroke-width=\"0.1\"/>\n",
       "<rect x=\"90.0\" y=\"-83.33333333333333\" width=\"2.5\" height=\"41.667\" opacity=\"0.25327510917030566\" fill=\"currentColor\" stroke-width=\"0.1\"/>\n",
       "<rect x=\"92.5\" y=\"-83.33333333333333\" width=\"2.5\" height=\"41.667\" opacity=\"0.20087336244541484\" fill=\"currentColor\" stroke-width=\"0.1\"/>\n",
       "<rect x=\"95.0\" y=\"-83.33333333333333\" width=\"2.5\" height=\"41.667\" opacity=\"0.28820960698689957\" fill=\"currentColor\" stroke-width=\"0.1\"/>\n",
       "<rect x=\"97.5\" y=\"-83.33333333333333\" width=\"2.5\" height=\"41.667\" opacity=\"0.388646288209607\" fill=\"currentColor\" stroke-width=\"0.1\"/>\n",
       "<rect x=\"100.0\" y=\"-83.33333333333333\" width=\"2.5\" height=\"41.667\" opacity=\"0.3406113537117904\" fill=\"currentColor\" stroke-width=\"0.1\"/>\n",
       "<rect x=\"102.5\" y=\"-83.33333333333333\" width=\"2.5\" height=\"41.667\" opacity=\"0.4847161572052402\" fill=\"currentColor\" stroke-width=\"0.1\"/>\n",
       "<rect x=\"105.0\" y=\"-83.33333333333333\" width=\"2.5\" height=\"41.667\" opacity=\"0.554585152838428\" fill=\"currentColor\" stroke-width=\"0.1\"/>\n",
       "<rect x=\"107.5\" y=\"-83.33333333333333\" width=\"2.5\" height=\"41.667\" opacity=\"0.6157205240174674\" fill=\"currentColor\" stroke-width=\"0.1\"/>\n",
       "<rect x=\"110.0\" y=\"-83.33333333333333\" width=\"2.5\" height=\"41.667\" opacity=\"0.5764192139737991\" fill=\"currentColor\" stroke-width=\"0.1\"/>\n",
       "<rect x=\"112.5\" y=\"-83.33333333333333\" width=\"2.5\" height=\"41.667\" opacity=\"0.6506550218340612\" fill=\"currentColor\" stroke-width=\"0.1\"/>\n",
       "<rect x=\"115.0\" y=\"-83.33333333333333\" width=\"2.5\" height=\"41.667\" opacity=\"0.7816593886462881\" fill=\"currentColor\" stroke-width=\"0.1\"/>\n",
       "<rect x=\"117.5\" y=\"-83.33333333333333\" width=\"2.5\" height=\"41.667\" opacity=\"0.868995633187773\" fill=\"currentColor\" stroke-width=\"0.1\"/>\n",
       "<rect x=\"120.0\" y=\"-83.33333333333333\" width=\"2.5\" height=\"41.667\" opacity=\"0.7729257641921398\" fill=\"currentColor\" stroke-width=\"0.1\"/>\n",
       "<rect x=\"122.5\" y=\"-83.33333333333333\" width=\"2.5\" height=\"41.667\" opacity=\"0.8558951965065502\" fill=\"currentColor\" stroke-width=\"0.1\"/>\n",
       "<rect x=\"125.0\" y=\"-83.33333333333333\" width=\"2.5\" height=\"41.667\" opacity=\"0.834061135371179\" fill=\"currentColor\" stroke-width=\"0.1\"/>\n",
       "<rect x=\"127.5\" y=\"-83.33333333333333\" width=\"2.5\" height=\"41.667\" opacity=\"0.9170305676855895\" fill=\"currentColor\" stroke-width=\"0.1\"/>\n",
       "<rect x=\"130.0\" y=\"-83.33333333333333\" width=\"2.5\" height=\"41.667\" opacity=\"0.9039301310043668\" fill=\"currentColor\" stroke-width=\"0.1\"/>\n",
       "<rect x=\"132.5\" y=\"-83.33333333333333\" width=\"2.5\" height=\"41.667\" opacity=\"0.8995633187772927\" fill=\"currentColor\" stroke-width=\"0.1\"/>\n",
       "<rect x=\"135.0\" y=\"-83.33333333333333\" width=\"2.5\" height=\"41.667\" opacity=\"0.8558951965065442\" fill=\"currentColor\" stroke-width=\"0.1\"/>\n",
       "<rect x=\"137.5\" y=\"-83.33333333333333\" width=\"2.5\" height=\"41.667\" opacity=\"0.868995633187773\" fill=\"currentColor\" stroke-width=\"0.1\"/>\n",
       "<rect x=\"140.0\" y=\"-83.33333333333333\" width=\"2.5\" height=\"41.667\" opacity=\"0.7598253275109279\" fill=\"currentColor\" stroke-width=\"0.1\"/>\n",
       "<rect x=\"142.5\" y=\"-83.33333333333333\" width=\"2.5\" height=\"41.667\" opacity=\"0.7336244541484717\" fill=\"currentColor\" stroke-width=\"0.1\"/>\n",
       "<rect x=\"145.0\" y=\"-83.33333333333333\" width=\"2.5\" height=\"41.667\" opacity=\"0.7816593886462827\" fill=\"currentColor\" stroke-width=\"0.1\"/>\n",
       "<rect x=\"147.5\" y=\"-83.33333333333333\" width=\"2.5\" height=\"41.667\" opacity=\"0.7729257641921398\" fill=\"currentColor\" stroke-width=\"0.1\"/>\n",
       "<rect x=\"150.0\" y=\"-83.33333333333333\" width=\"2.5\" height=\"41.667\" opacity=\"0.7554585152838428\" fill=\"currentColor\" stroke-width=\"0.1\"/>\n",
       "<rect x=\"152.5\" y=\"-83.33333333333333\" width=\"2.5\" height=\"41.667\" opacity=\"0.5851528384279476\" fill=\"currentColor\" stroke-width=\"0.1\"/>\n",
       "<rect x=\"155.0\" y=\"-83.33333333333333\" width=\"2.5\" height=\"41.667\" opacity=\"0.4847161572052402\" fill=\"currentColor\" stroke-width=\"0.1\"/>\n",
       "<rect x=\"157.5\" y=\"-83.33333333333333\" width=\"2.5\" height=\"41.667\" opacity=\"0.48034934497816595\" fill=\"currentColor\" stroke-width=\"0.1\"/>\n",
       "<rect x=\"160.0\" y=\"-83.33333333333333\" width=\"2.5\" height=\"41.667\" opacity=\"0.4017467248908297\" fill=\"currentColor\" stroke-width=\"0.1\"/>\n",
       "<rect x=\"162.5\" y=\"-83.33333333333333\" width=\"2.5\" height=\"41.667\" opacity=\"0.4279475982532751\" fill=\"currentColor\" stroke-width=\"0.1\"/>\n",
       "<rect x=\"165.0\" y=\"-83.33333333333333\" width=\"2.5\" height=\"41.667\" opacity=\"0.30131004366812225\" fill=\"currentColor\" stroke-width=\"0.1\"/>\n",
       "<rect x=\"167.5\" y=\"-83.33333333333333\" width=\"2.5\" height=\"41.667\" opacity=\"0.32751091703056767\" fill=\"currentColor\" stroke-width=\"0.1\"/>\n",
       "<rect x=\"170.0\" y=\"-83.33333333333333\" width=\"2.5\" height=\"41.667\" opacity=\"0.21397379912663755\" fill=\"currentColor\" stroke-width=\"0.1\"/>\n",
       "<rect x=\"172.5\" y=\"-83.33333333333333\" width=\"2.5\" height=\"41.667\" opacity=\"0.16593886462882096\" fill=\"currentColor\" stroke-width=\"0.1\"/>\n",
       "<rect x=\"175.0\" y=\"-83.33333333333333\" width=\"2.5\" height=\"41.667\" opacity=\"0.20087336244541484\" fill=\"currentColor\" stroke-width=\"0.1\"/>\n",
       "<rect x=\"177.5\" y=\"-83.33333333333333\" width=\"2.5\" height=\"41.667\" opacity=\"0.1703056768558952\" fill=\"currentColor\" stroke-width=\"0.1\"/>\n",
       "<rect x=\"180.0\" y=\"-83.33333333333333\" width=\"2.5\" height=\"41.667\" opacity=\"0.08733624454148471\" fill=\"currentColor\" stroke-width=\"0.1\"/>\n",
       "<rect x=\"182.5\" y=\"-83.33333333333333\" width=\"2.5\" height=\"41.667\" opacity=\"0.09606986899563319\" fill=\"currentColor\" stroke-width=\"0.1\"/>\n",
       "<rect x=\"185.0\" y=\"-83.33333333333333\" width=\"2.5\" height=\"41.667\" opacity=\"0.07423580786026202\" fill=\"currentColor\" stroke-width=\"0.1\"/>\n",
       "<rect x=\"187.5\" y=\"-83.33333333333333\" width=\"2.5\" height=\"41.667\" opacity=\"0.061135371179039305\" fill=\"currentColor\" stroke-width=\"0.1\"/>\n",
       "<rect x=\"190.0\" y=\"-83.33333333333333\" width=\"2.5\" height=\"41.667\" opacity=\"0.039301310043668124\" fill=\"currentColor\" stroke-width=\"0.1\"/>\n",
       "<rect x=\"192.5\" y=\"-83.33333333333333\" width=\"2.5\" height=\"41.667\" opacity=\"0.06550218340611354\" fill=\"currentColor\" stroke-width=\"0.1\"/>\n",
       "<rect x=\"195.0\" y=\"-83.33333333333333\" width=\"2.5\" height=\"41.667\" opacity=\"0.017467248908296942\" fill=\"currentColor\" stroke-width=\"0.1\"/>\n",
       "<rect x=\"197.5\" y=\"-83.33333333333333\" width=\"2.5\" height=\"41.667\" opacity=\"0.021834061135371178\" fill=\"currentColor\" stroke-width=\"0.1\"/>\n",
       "<rect x=\"200.0\" y=\"-83.33333333333333\" width=\"2.5\" height=\"41.667\" opacity=\"0.017467248908296942\" fill=\"currentColor\" stroke-width=\"0.1\"/>\n",
       "<rect x=\"202.5\" y=\"-83.33333333333333\" width=\"2.5\" height=\"41.667\" opacity=\"0.021834061135371178\" fill=\"currentColor\" stroke-width=\"0.1\"/>\n",
       "<rect x=\"205.0\" y=\"-83.33333333333333\" width=\"2.5\" height=\"41.667\" opacity=\"0.021834061135371178\" fill=\"currentColor\" stroke-width=\"0.1\"/>\n",
       "<rect x=\"207.5\" y=\"-83.33333333333333\" width=\"2.5\" height=\"41.667\" opacity=\"0.004366812227074236\" fill=\"currentColor\" stroke-width=\"0.1\"/>\n",
       "<rect x=\"210.0\" y=\"-83.33333333333333\" width=\"2.5\" height=\"41.667\" opacity=\"0.004366812227074236\" fill=\"currentColor\" stroke-width=\"0.1\"/>\n",
       "<rect x=\"212.5\" y=\"-83.33333333333333\" width=\"2.5\" height=\"41.667\" opacity=\"0.008733624454148471\" fill=\"currentColor\" stroke-width=\"0.1\"/>\n",
       "<rect x=\"215.0\" y=\"-83.33333333333333\" width=\"2.5\" height=\"41.667\" opacity=\"0.004366812227074236\" fill=\"currentColor\" stroke-width=\"0.1\"/>\n",
       "<rect x=\"217.5\" y=\"-83.33333333333333\" width=\"2.5\" height=\"41.667\" opacity=\"0.004366812227074236\" fill=\"currentColor\" stroke-width=\"0.1\"/>\n",
       "<rect x=\"220.0\" y=\"-83.33333333333333\" width=\"2.5\" height=\"41.667\" opacity=\"0.004366812227074236\" fill=\"currentColor\" stroke-width=\"0.1\"/>\n",
       "<rect x=\"222.5\" y=\"-83.33333333333333\" width=\"2.5\" height=\"41.667\" opacity=\"0.0\" fill=\"currentColor\" stroke-width=\"0.1\"/>\n",
       "<rect x=\"225.0\" y=\"-83.33333333333333\" width=\"2.5\" height=\"41.667\" opacity=\"0.0\" fill=\"currentColor\" stroke-width=\"0.1\"/>\n",
       "<rect x=\"227.5\" y=\"-83.33333333333333\" width=\"2.5\" height=\"41.667\" opacity=\"0.0\" fill=\"currentColor\" stroke-width=\"0.1\"/>\n",
       "<rect x=\"230.0\" y=\"-83.33333333333333\" width=\"2.5\" height=\"41.667\" opacity=\"0.0\" fill=\"currentColor\" stroke-width=\"0.1\"/>\n",
       "<rect x=\"232.5\" y=\"-83.33333333333333\" width=\"2.5\" height=\"41.667\" opacity=\"0.0\" fill=\"currentColor\" stroke-width=\"0.1\"/>\n",
       "<rect x=\"235.0\" y=\"-83.33333333333333\" width=\"2.5\" height=\"41.667\" opacity=\"0.0\" fill=\"currentColor\" stroke-width=\"0.1\"/>\n",
       "<rect x=\"237.5\" y=\"-83.33333333333333\" width=\"2.5\" height=\"41.667\" opacity=\"0.0\" fill=\"currentColor\" stroke-width=\"0.1\"/>\n",
       "<rect x=\"240.0\" y=\"-83.33333333333333\" width=\"2.5\" height=\"41.667\" opacity=\"0.0\" fill=\"currentColor\" stroke-width=\"0.1\"/>\n",
       "<rect x=\"242.5\" y=\"-83.33333333333333\" width=\"2.5\" height=\"41.667\" opacity=\"0.0\" fill=\"currentColor\" stroke-width=\"0.1\"/>\n",
       "<rect x=\"245.0\" y=\"-83.33333333333333\" width=\"2.5\" height=\"41.667\" opacity=\"0.0\" fill=\"currentColor\" stroke-width=\"0.1\"/>\n",
       "<rect x=\"247.5\" y=\"-83.33333333333333\" width=\"2.5\" height=\"41.667\" opacity=\"0.0\" fill=\"currentColor\" stroke-width=\"0.1\"/>\n",
       "<rect x=\"0.0\" y=\"-125.0\" width=\"2.5\" height=\"41.667\" opacity=\"0.0\" fill=\"currentColor\" stroke-width=\"0.1\"/>\n",
       "<rect x=\"2.5\" y=\"-125.0\" width=\"2.5\" height=\"41.667\" opacity=\"0.0\" fill=\"currentColor\" stroke-width=\"0.1\"/>\n",
       "<rect x=\"5.0\" y=\"-125.0\" width=\"2.5\" height=\"41.667\" opacity=\"0.0\" fill=\"currentColor\" stroke-width=\"0.1\"/>\n",
       "<rect x=\"7.5\" y=\"-125.0\" width=\"2.5\" height=\"41.667\" opacity=\"0.0\" fill=\"currentColor\" stroke-width=\"0.1\"/>\n",
       "<rect x=\"10.0\" y=\"-125.0\" width=\"2.5\" height=\"41.667\" opacity=\"0.0\" fill=\"currentColor\" stroke-width=\"0.1\"/>\n",
       "<rect x=\"12.5\" y=\"-125.0\" width=\"2.5\" height=\"41.667\" opacity=\"0.0\" fill=\"currentColor\" stroke-width=\"0.1\"/>\n",
       "<rect x=\"15.0\" y=\"-125.0\" width=\"2.5\" height=\"41.667\" opacity=\"0.0\" fill=\"currentColor\" stroke-width=\"0.1\"/>\n",
       "<rect x=\"17.5\" y=\"-125.0\" width=\"2.5\" height=\"41.667\" opacity=\"0.0\" fill=\"currentColor\" stroke-width=\"0.1\"/>\n",
       "<rect x=\"20.0\" y=\"-125.0\" width=\"2.5\" height=\"41.667\" opacity=\"0.004366812227074236\" fill=\"currentColor\" stroke-width=\"0.1\"/>\n",
       "<rect x=\"22.5\" y=\"-125.0\" width=\"2.5\" height=\"41.667\" opacity=\"0.008733624454148471\" fill=\"currentColor\" stroke-width=\"0.1\"/>\n",
       "<rect x=\"25.0\" y=\"-125.0\" width=\"2.5\" height=\"41.667\" opacity=\"0.021834061135371178\" fill=\"currentColor\" stroke-width=\"0.1\"/>\n",
       "<rect x=\"27.5\" y=\"-125.0\" width=\"2.5\" height=\"41.667\" opacity=\"0.013100436681222708\" fill=\"currentColor\" stroke-width=\"0.1\"/>\n",
       "<rect x=\"30.0\" y=\"-125.0\" width=\"2.5\" height=\"41.667\" opacity=\"0.008733624454148471\" fill=\"currentColor\" stroke-width=\"0.1\"/>\n",
       "<rect x=\"32.5\" y=\"-125.0\" width=\"2.5\" height=\"41.667\" opacity=\"0.013100436681222682\" fill=\"currentColor\" stroke-width=\"0.1\"/>\n",
       "<rect x=\"35.0\" y=\"-125.0\" width=\"2.5\" height=\"41.667\" opacity=\"0.02183406113537122\" fill=\"currentColor\" stroke-width=\"0.1\"/>\n",
       "<rect x=\"37.5\" y=\"-125.0\" width=\"2.5\" height=\"41.667\" opacity=\"0.043668122270742356\" fill=\"currentColor\" stroke-width=\"0.1\"/>\n",
       "<rect x=\"40.0\" y=\"-125.0\" width=\"2.5\" height=\"41.667\" opacity=\"0.056768558951965066\" fill=\"currentColor\" stroke-width=\"0.1\"/>\n",
       "<rect x=\"42.5\" y=\"-125.0\" width=\"2.5\" height=\"41.667\" opacity=\"0.039301310043668124\" fill=\"currentColor\" stroke-width=\"0.1\"/>\n",
       "<rect x=\"45.0\" y=\"-125.0\" width=\"2.5\" height=\"41.667\" opacity=\"0.1091703056768559\" fill=\"currentColor\" stroke-width=\"0.1\"/>\n",
       "<rect x=\"47.5\" y=\"-125.0\" width=\"2.5\" height=\"41.667\" opacity=\"0.09606986899563319\" fill=\"currentColor\" stroke-width=\"0.1\"/>\n",
       "<rect x=\"50.0\" y=\"-125.0\" width=\"2.5\" height=\"41.667\" opacity=\"0.11790393013100438\" fill=\"currentColor\" stroke-width=\"0.1\"/>\n",
       "<rect x=\"52.5\" y=\"-125.0\" width=\"2.5\" height=\"41.667\" opacity=\"0.13100436681222707\" fill=\"currentColor\" stroke-width=\"0.1\"/>\n",
       "<rect x=\"55.0\" y=\"-125.0\" width=\"2.5\" height=\"41.667\" opacity=\"0.22270742358078605\" fill=\"currentColor\" stroke-width=\"0.1\"/>\n",
       "<rect x=\"57.5\" y=\"-125.0\" width=\"2.5\" height=\"41.667\" opacity=\"0.20087336244541484\" fill=\"currentColor\" stroke-width=\"0.1\"/>\n",
       "<rect x=\"60.0\" y=\"-125.0\" width=\"2.5\" height=\"41.667\" opacity=\"0.18777292576419213\" fill=\"currentColor\" stroke-width=\"0.1\"/>\n",
       "<rect x=\"62.5\" y=\"-125.0\" width=\"2.5\" height=\"41.667\" opacity=\"0.33624454148471616\" fill=\"currentColor\" stroke-width=\"0.1\"/>\n",
       "<rect x=\"65.0\" y=\"-125.0\" width=\"2.5\" height=\"41.667\" opacity=\"0.30131004366812225\" fill=\"currentColor\" stroke-width=\"0.1\"/>\n",
       "<rect x=\"67.5\" y=\"-125.0\" width=\"2.5\" height=\"41.667\" opacity=\"0.3493449781659377\" fill=\"currentColor\" stroke-width=\"0.1\"/>\n",
       "<rect x=\"70.0\" y=\"-125.0\" width=\"2.5\" height=\"41.667\" opacity=\"0.44104803493450095\" fill=\"currentColor\" stroke-width=\"0.1\"/>\n",
       "<rect x=\"72.5\" y=\"-125.0\" width=\"2.5\" height=\"41.667\" opacity=\"0.5021834061135353\" fill=\"currentColor\" stroke-width=\"0.1\"/>\n",
       "<rect x=\"75.0\" y=\"-125.0\" width=\"2.5\" height=\"41.667\" opacity=\"0.5021834061135372\" fill=\"currentColor\" stroke-width=\"0.1\"/>\n",
       "<rect x=\"77.5\" y=\"-125.0\" width=\"2.5\" height=\"41.667\" opacity=\"0.5851528384279476\" fill=\"currentColor\" stroke-width=\"0.1\"/>\n",
       "<rect x=\"80.0\" y=\"-125.0\" width=\"2.5\" height=\"41.667\" opacity=\"0.611353711790393\" fill=\"currentColor\" stroke-width=\"0.1\"/>\n",
       "<rect x=\"82.5\" y=\"-125.0\" width=\"2.5\" height=\"41.667\" opacity=\"0.6244541484716157\" fill=\"currentColor\" stroke-width=\"0.1\"/>\n",
       "<rect x=\"85.0\" y=\"-125.0\" width=\"2.5\" height=\"41.667\" opacity=\"0.6986899563318777\" fill=\"currentColor\" stroke-width=\"0.1\"/>\n",
       "<rect x=\"87.5\" y=\"-125.0\" width=\"2.5\" height=\"41.667\" opacity=\"0.759825327510917\" fill=\"currentColor\" stroke-width=\"0.1\"/>\n",
       "<rect x=\"90.0\" y=\"-125.0\" width=\"2.5\" height=\"41.667\" opacity=\"0.6943231441048034\" fill=\"currentColor\" stroke-width=\"0.1\"/>\n",
       "<rect x=\"92.5\" y=\"-125.0\" width=\"2.5\" height=\"41.667\" opacity=\"0.7991266375545851\" fill=\"currentColor\" stroke-width=\"0.1\"/>\n",
       "<rect x=\"95.0\" y=\"-125.0\" width=\"2.5\" height=\"41.667\" opacity=\"0.9563318777292577\" fill=\"currentColor\" stroke-width=\"0.1\"/>\n",
       "<rect x=\"97.5\" y=\"-125.0\" width=\"2.5\" height=\"41.667\" opacity=\"0.8646288209606987\" fill=\"currentColor\" stroke-width=\"0.1\"/>\n",
       "<rect x=\"100.0\" y=\"-125.0\" width=\"2.5\" height=\"41.667\" opacity=\"0.8820960698689957\" fill=\"currentColor\" stroke-width=\"0.1\"/>\n",
       "<rect x=\"102.5\" y=\"-125.0\" width=\"2.5\" height=\"41.667\" opacity=\"0.8122270742358079\" fill=\"currentColor\" stroke-width=\"0.1\"/>\n",
       "<rect x=\"105.0\" y=\"-125.0\" width=\"2.5\" height=\"41.667\" opacity=\"0.8733624454148472\" fill=\"currentColor\" stroke-width=\"0.1\"/>\n",
       "<rect x=\"107.5\" y=\"-125.0\" width=\"2.5\" height=\"41.667\" opacity=\"0.8122270742358079\" fill=\"currentColor\" stroke-width=\"0.1\"/>\n",
       "<rect x=\"110.0\" y=\"-125.0\" width=\"2.5\" height=\"41.667\" opacity=\"0.851528384279476\" fill=\"currentColor\" stroke-width=\"0.1\"/>\n",
       "<rect x=\"112.5\" y=\"-125.0\" width=\"2.5\" height=\"41.667\" opacity=\"0.7903930131004366\" fill=\"currentColor\" stroke-width=\"0.1\"/>\n",
       "<rect x=\"115.0\" y=\"-125.0\" width=\"2.5\" height=\"41.667\" opacity=\"0.7991266375545851\" fill=\"currentColor\" stroke-width=\"0.1\"/>\n",
       "<rect x=\"117.5\" y=\"-125.0\" width=\"2.5\" height=\"41.667\" opacity=\"0.7336244541484717\" fill=\"currentColor\" stroke-width=\"0.1\"/>\n",
       "<rect x=\"120.0\" y=\"-125.0\" width=\"2.5\" height=\"41.667\" opacity=\"0.6812227074235808\" fill=\"currentColor\" stroke-width=\"0.1\"/>\n",
       "<rect x=\"122.5\" y=\"-125.0\" width=\"2.5\" height=\"41.667\" opacity=\"0.6768558951965065\" fill=\"currentColor\" stroke-width=\"0.1\"/>\n",
       "<rect x=\"125.0\" y=\"-125.0\" width=\"2.5\" height=\"41.667\" opacity=\"0.48908296943231444\" fill=\"currentColor\" stroke-width=\"0.1\"/>\n",
       "<rect x=\"127.5\" y=\"-125.0\" width=\"2.5\" height=\"41.667\" opacity=\"0.4279475982532751\" fill=\"currentColor\" stroke-width=\"0.1\"/>\n",
       "<rect x=\"130.0\" y=\"-125.0\" width=\"2.5\" height=\"41.667\" opacity=\"0.4017467248908297\" fill=\"currentColor\" stroke-width=\"0.1\"/>\n",
       "<rect x=\"132.5\" y=\"-125.0\" width=\"2.5\" height=\"41.667\" opacity=\"0.41921397379912667\" fill=\"currentColor\" stroke-width=\"0.1\"/>\n",
       "<rect x=\"135.0\" y=\"-125.0\" width=\"2.5\" height=\"41.667\" opacity=\"0.38864628820960423\" fill=\"currentColor\" stroke-width=\"0.1\"/>\n",
       "<rect x=\"137.5\" y=\"-125.0\" width=\"2.5\" height=\"41.667\" opacity=\"0.29694323144104806\" fill=\"currentColor\" stroke-width=\"0.1\"/>\n",
       "<rect x=\"140.0\" y=\"-125.0\" width=\"2.5\" height=\"41.667\" opacity=\"0.26200873362445787\" fill=\"currentColor\" stroke-width=\"0.1\"/>\n",
       "<rect x=\"142.5\" y=\"-125.0\" width=\"2.5\" height=\"41.667\" opacity=\"0.18777292576419213\" fill=\"currentColor\" stroke-width=\"0.1\"/>\n",
       "<rect x=\"145.0\" y=\"-125.0\" width=\"2.5\" height=\"41.667\" opacity=\"0.1659388646288198\" fill=\"currentColor\" stroke-width=\"0.1\"/>\n",
       "<rect x=\"147.5\" y=\"-125.0\" width=\"2.5\" height=\"41.667\" opacity=\"0.14410480349344978\" fill=\"currentColor\" stroke-width=\"0.1\"/>\n",
       "<rect x=\"150.0\" y=\"-125.0\" width=\"2.5\" height=\"41.667\" opacity=\"0.1091703056768559\" fill=\"currentColor\" stroke-width=\"0.1\"/>\n",
       "<rect x=\"152.5\" y=\"-125.0\" width=\"2.5\" height=\"41.667\" opacity=\"0.12663755458515283\" fill=\"currentColor\" stroke-width=\"0.1\"/>\n",
       "<rect x=\"155.0\" y=\"-125.0\" width=\"2.5\" height=\"41.667\" opacity=\"0.07423580786026202\" fill=\"currentColor\" stroke-width=\"0.1\"/>\n",
       "<rect x=\"157.5\" y=\"-125.0\" width=\"2.5\" height=\"41.667\" opacity=\"0.061135371179039305\" fill=\"currentColor\" stroke-width=\"0.1\"/>\n",
       "<rect x=\"160.0\" y=\"-125.0\" width=\"2.5\" height=\"41.667\" opacity=\"0.06986899563318777\" fill=\"currentColor\" stroke-width=\"0.1\"/>\n",
       "<rect x=\"162.5\" y=\"-125.0\" width=\"2.5\" height=\"41.667\" opacity=\"0.039301310043668124\" fill=\"currentColor\" stroke-width=\"0.1\"/>\n",
       "<rect x=\"165.0\" y=\"-125.0\" width=\"2.5\" height=\"41.667\" opacity=\"0.026200873362445417\" fill=\"currentColor\" stroke-width=\"0.1\"/>\n",
       "<rect x=\"167.5\" y=\"-125.0\" width=\"2.5\" height=\"41.667\" opacity=\"0.030567685589519653\" fill=\"currentColor\" stroke-width=\"0.1\"/>\n",
       "<rect x=\"170.0\" y=\"-125.0\" width=\"2.5\" height=\"41.667\" opacity=\"0.021834061135371178\" fill=\"currentColor\" stroke-width=\"0.1\"/>\n",
       "<rect x=\"172.5\" y=\"-125.0\" width=\"2.5\" height=\"41.667\" opacity=\"0.017467248908296942\" fill=\"currentColor\" stroke-width=\"0.1\"/>\n",
       "<rect x=\"175.0\" y=\"-125.0\" width=\"2.5\" height=\"41.667\" opacity=\"0.008733624454148471\" fill=\"currentColor\" stroke-width=\"0.1\"/>\n",
       "<rect x=\"177.5\" y=\"-125.0\" width=\"2.5\" height=\"41.667\" opacity=\"0.008733624454148471\" fill=\"currentColor\" stroke-width=\"0.1\"/>\n",
       "<rect x=\"180.0\" y=\"-125.0\" width=\"2.5\" height=\"41.667\" opacity=\"0.004366812227074236\" fill=\"currentColor\" stroke-width=\"0.1\"/>\n",
       "<rect x=\"182.5\" y=\"-125.0\" width=\"2.5\" height=\"41.667\" opacity=\"0.0\" fill=\"currentColor\" stroke-width=\"0.1\"/>\n",
       "<rect x=\"185.0\" y=\"-125.0\" width=\"2.5\" height=\"41.667\" opacity=\"0.004366812227074236\" fill=\"currentColor\" stroke-width=\"0.1\"/>\n",
       "<rect x=\"187.5\" y=\"-125.0\" width=\"2.5\" height=\"41.667\" opacity=\"0.004366812227074236\" fill=\"currentColor\" stroke-width=\"0.1\"/>\n",
       "<rect x=\"190.0\" y=\"-125.0\" width=\"2.5\" height=\"41.667\" opacity=\"0.008733624454148471\" fill=\"currentColor\" stroke-width=\"0.1\"/>\n",
       "<rect x=\"192.5\" y=\"-125.0\" width=\"2.5\" height=\"41.667\" opacity=\"0.0\" fill=\"currentColor\" stroke-width=\"0.1\"/>\n",
       "<rect x=\"195.0\" y=\"-125.0\" width=\"2.5\" height=\"41.667\" opacity=\"0.0\" fill=\"currentColor\" stroke-width=\"0.1\"/>\n",
       "<rect x=\"197.5\" y=\"-125.0\" width=\"2.5\" height=\"41.667\" opacity=\"0.0\" fill=\"currentColor\" stroke-width=\"0.1\"/>\n",
       "<rect x=\"200.0\" y=\"-125.0\" width=\"2.5\" height=\"41.667\" opacity=\"0.0\" fill=\"currentColor\" stroke-width=\"0.1\"/>\n",
       "<rect x=\"202.5\" y=\"-125.0\" width=\"2.5\" height=\"41.667\" opacity=\"0.0\" fill=\"currentColor\" stroke-width=\"0.1\"/>\n",
       "<rect x=\"205.0\" y=\"-125.0\" width=\"2.5\" height=\"41.667\" opacity=\"0.0\" fill=\"currentColor\" stroke-width=\"0.1\"/>\n",
       "<rect x=\"207.5\" y=\"-125.0\" width=\"2.5\" height=\"41.667\" opacity=\"0.0\" fill=\"currentColor\" stroke-width=\"0.1\"/>\n",
       "<rect x=\"210.0\" y=\"-125.0\" width=\"2.5\" height=\"41.667\" opacity=\"0.0\" fill=\"currentColor\" stroke-width=\"0.1\"/>\n",
       "<rect x=\"212.5\" y=\"-125.0\" width=\"2.5\" height=\"41.667\" opacity=\"0.0\" fill=\"currentColor\" stroke-width=\"0.1\"/>\n",
       "<rect x=\"215.0\" y=\"-125.0\" width=\"2.5\" height=\"41.667\" opacity=\"0.0\" fill=\"currentColor\" stroke-width=\"0.1\"/>\n",
       "<rect x=\"217.5\" y=\"-125.0\" width=\"2.5\" height=\"41.667\" opacity=\"0.0\" fill=\"currentColor\" stroke-width=\"0.1\"/>\n",
       "<rect x=\"220.0\" y=\"-125.0\" width=\"2.5\" height=\"41.667\" opacity=\"0.0\" fill=\"currentColor\" stroke-width=\"0.1\"/>\n",
       "<rect x=\"222.5\" y=\"-125.0\" width=\"2.5\" height=\"41.667\" opacity=\"0.0\" fill=\"currentColor\" stroke-width=\"0.1\"/>\n",
       "<rect x=\"225.0\" y=\"-125.0\" width=\"2.5\" height=\"41.667\" opacity=\"0.0\" fill=\"currentColor\" stroke-width=\"0.1\"/>\n",
       "<rect x=\"227.5\" y=\"-125.0\" width=\"2.5\" height=\"41.667\" opacity=\"0.0\" fill=\"currentColor\" stroke-width=\"0.1\"/>\n",
       "<rect x=\"230.0\" y=\"-125.0\" width=\"2.5\" height=\"41.667\" opacity=\"0.0\" fill=\"currentColor\" stroke-width=\"0.1\"/>\n",
       "<rect x=\"232.5\" y=\"-125.0\" width=\"2.5\" height=\"41.667\" opacity=\"0.0\" fill=\"currentColor\" stroke-width=\"0.1\"/>\n",
       "<rect x=\"235.0\" y=\"-125.0\" width=\"2.5\" height=\"41.667\" opacity=\"0.0\" fill=\"currentColor\" stroke-width=\"0.1\"/>\n",
       "<rect x=\"237.5\" y=\"-125.0\" width=\"2.5\" height=\"41.667\" opacity=\"0.0\" fill=\"currentColor\" stroke-width=\"0.1\"/>\n",
       "<rect x=\"240.0\" y=\"-125.0\" width=\"2.5\" height=\"41.667\" opacity=\"0.0\" fill=\"currentColor\" stroke-width=\"0.1\"/>\n",
       "<rect x=\"242.5\" y=\"-125.0\" width=\"2.5\" height=\"41.667\" opacity=\"0.0\" fill=\"currentColor\" stroke-width=\"0.1\"/>\n",
       "<rect x=\"245.0\" y=\"-125.0\" width=\"2.5\" height=\"41.667\" opacity=\"0.0\" fill=\"currentColor\" stroke-width=\"0.1\"/>\n",
       "<rect x=\"247.5\" y=\"-125.0\" width=\"2.5\" height=\"41.667\" opacity=\"0.0\" fill=\"currentColor\" stroke-width=\"0.1\"/>\n",
       "<rect x=\"0.0\" y=\"-166.66666666666666\" width=\"2.5\" height=\"41.667\" opacity=\"0.0\" fill=\"currentColor\" stroke-width=\"0.1\"/>\n",
       "<rect x=\"2.5\" y=\"-166.66666666666666\" width=\"2.5\" height=\"41.667\" opacity=\"0.0\" fill=\"currentColor\" stroke-width=\"0.1\"/>\n",
       "<rect x=\"5.0\" y=\"-166.66666666666666\" width=\"2.5\" height=\"41.667\" opacity=\"0.0\" fill=\"currentColor\" stroke-width=\"0.1\"/>\n",
       "<rect x=\"7.5\" y=\"-166.66666666666666\" width=\"2.5\" height=\"41.667\" opacity=\"0.0\" fill=\"currentColor\" stroke-width=\"0.1\"/>\n",
       "<rect x=\"10.0\" y=\"-166.66666666666666\" width=\"2.5\" height=\"41.667\" opacity=\"0.0\" fill=\"currentColor\" stroke-width=\"0.1\"/>\n",
       "<rect x=\"12.5\" y=\"-166.66666666666666\" width=\"2.5\" height=\"41.667\" opacity=\"0.0\" fill=\"currentColor\" stroke-width=\"0.1\"/>\n",
       "<rect x=\"15.0\" y=\"-166.66666666666666\" width=\"2.5\" height=\"41.667\" opacity=\"0.0\" fill=\"currentColor\" stroke-width=\"0.1\"/>\n",
       "<rect x=\"17.5\" y=\"-166.66666666666666\" width=\"2.5\" height=\"41.667\" opacity=\"0.0\" fill=\"currentColor\" stroke-width=\"0.1\"/>\n",
       "<rect x=\"20.0\" y=\"-166.66666666666666\" width=\"2.5\" height=\"41.667\" opacity=\"0.0\" fill=\"currentColor\" stroke-width=\"0.1\"/>\n",
       "<rect x=\"22.5\" y=\"-166.66666666666666\" width=\"2.5\" height=\"41.667\" opacity=\"0.0\" fill=\"currentColor\" stroke-width=\"0.1\"/>\n",
       "<rect x=\"25.0\" y=\"-166.66666666666666\" width=\"2.5\" height=\"41.667\" opacity=\"0.0\" fill=\"currentColor\" stroke-width=\"0.1\"/>\n",
       "<rect x=\"27.5\" y=\"-166.66666666666666\" width=\"2.5\" height=\"41.667\" opacity=\"0.0\" fill=\"currentColor\" stroke-width=\"0.1\"/>\n",
       "<rect x=\"30.0\" y=\"-166.66666666666666\" width=\"2.5\" height=\"41.667\" opacity=\"0.0\" fill=\"currentColor\" stroke-width=\"0.1\"/>\n",
       "<rect x=\"32.5\" y=\"-166.66666666666666\" width=\"2.5\" height=\"41.667\" opacity=\"0.0\" fill=\"currentColor\" stroke-width=\"0.1\"/>\n",
       "<rect x=\"35.0\" y=\"-166.66666666666666\" width=\"2.5\" height=\"41.667\" opacity=\"0.0\" fill=\"currentColor\" stroke-width=\"0.1\"/>\n",
       "<rect x=\"37.5\" y=\"-166.66666666666666\" width=\"2.5\" height=\"41.667\" opacity=\"0.0\" fill=\"currentColor\" stroke-width=\"0.1\"/>\n",
       "<rect x=\"40.0\" y=\"-166.66666666666666\" width=\"2.5\" height=\"41.667\" opacity=\"0.0\" fill=\"currentColor\" stroke-width=\"0.1\"/>\n",
       "<rect x=\"42.5\" y=\"-166.66666666666666\" width=\"2.5\" height=\"41.667\" opacity=\"0.0\" fill=\"currentColor\" stroke-width=\"0.1\"/>\n",
       "<rect x=\"45.0\" y=\"-166.66666666666666\" width=\"2.5\" height=\"41.667\" opacity=\"0.0\" fill=\"currentColor\" stroke-width=\"0.1\"/>\n",
       "<rect x=\"47.5\" y=\"-166.66666666666666\" width=\"2.5\" height=\"41.667\" opacity=\"0.0\" fill=\"currentColor\" stroke-width=\"0.1\"/>\n",
       "<rect x=\"50.0\" y=\"-166.66666666666666\" width=\"2.5\" height=\"41.667\" opacity=\"0.0\" fill=\"currentColor\" stroke-width=\"0.1\"/>\n",
       "<rect x=\"52.5\" y=\"-166.66666666666666\" width=\"2.5\" height=\"41.667\" opacity=\"0.0\" fill=\"currentColor\" stroke-width=\"0.1\"/>\n",
       "<rect x=\"55.0\" y=\"-166.66666666666666\" width=\"2.5\" height=\"41.667\" opacity=\"0.0\" fill=\"currentColor\" stroke-width=\"0.1\"/>\n",
       "<rect x=\"57.5\" y=\"-166.66666666666666\" width=\"2.5\" height=\"41.667\" opacity=\"0.0\" fill=\"currentColor\" stroke-width=\"0.1\"/>\n",
       "<rect x=\"60.0\" y=\"-166.66666666666666\" width=\"2.5\" height=\"41.667\" opacity=\"0.0\" fill=\"currentColor\" stroke-width=\"0.1\"/>\n",
       "<rect x=\"62.5\" y=\"-166.66666666666666\" width=\"2.5\" height=\"41.667\" opacity=\"0.0\" fill=\"currentColor\" stroke-width=\"0.1\"/>\n",
       "<rect x=\"65.0\" y=\"-166.66666666666666\" width=\"2.5\" height=\"41.667\" opacity=\"0.0\" fill=\"currentColor\" stroke-width=\"0.1\"/>\n",
       "<rect x=\"67.5\" y=\"-166.66666666666666\" width=\"2.5\" height=\"41.667\" opacity=\"0.0\" fill=\"currentColor\" stroke-width=\"0.1\"/>\n",
       "<rect x=\"70.0\" y=\"-166.66666666666666\" width=\"2.5\" height=\"41.667\" opacity=\"0.0\" fill=\"currentColor\" stroke-width=\"0.1\"/>\n",
       "<rect x=\"72.5\" y=\"-166.66666666666666\" width=\"2.5\" height=\"41.667\" opacity=\"0.0\" fill=\"currentColor\" stroke-width=\"0.1\"/>\n",
       "<rect x=\"75.0\" y=\"-166.66666666666666\" width=\"2.5\" height=\"41.667\" opacity=\"0.0\" fill=\"currentColor\" stroke-width=\"0.1\"/>\n",
       "<rect x=\"77.5\" y=\"-166.66666666666666\" width=\"2.5\" height=\"41.667\" opacity=\"0.0\" fill=\"currentColor\" stroke-width=\"0.1\"/>\n",
       "<rect x=\"80.0\" y=\"-166.66666666666666\" width=\"2.5\" height=\"41.667\" opacity=\"0.0\" fill=\"currentColor\" stroke-width=\"0.1\"/>\n",
       "<rect x=\"82.5\" y=\"-166.66666666666666\" width=\"2.5\" height=\"41.667\" opacity=\"0.008733624454148471\" fill=\"currentColor\" stroke-width=\"0.1\"/>\n",
       "<rect x=\"85.0\" y=\"-166.66666666666666\" width=\"2.5\" height=\"41.667\" opacity=\"0.0\" fill=\"currentColor\" stroke-width=\"0.1\"/>\n",
       "<rect x=\"87.5\" y=\"-166.66666666666666\" width=\"2.5\" height=\"41.667\" opacity=\"0.004366812227074236\" fill=\"currentColor\" stroke-width=\"0.1\"/>\n",
       "<rect x=\"90.0\" y=\"-166.66666666666666\" width=\"2.5\" height=\"41.667\" opacity=\"0.004366812227074236\" fill=\"currentColor\" stroke-width=\"0.1\"/>\n",
       "<rect x=\"92.5\" y=\"-166.66666666666666\" width=\"2.5\" height=\"41.667\" opacity=\"0.0\" fill=\"currentColor\" stroke-width=\"0.1\"/>\n",
       "<rect x=\"95.0\" y=\"-166.66666666666666\" width=\"2.5\" height=\"41.667\" opacity=\"0.0\" fill=\"currentColor\" stroke-width=\"0.1\"/>\n",
       "<rect x=\"97.5\" y=\"-166.66666666666666\" width=\"2.5\" height=\"41.667\" opacity=\"0.004366812227074236\" fill=\"currentColor\" stroke-width=\"0.1\"/>\n",
       "<rect x=\"100.0\" y=\"-166.66666666666666\" width=\"2.5\" height=\"41.667\" opacity=\"0.0\" fill=\"currentColor\" stroke-width=\"0.1\"/>\n",
       "<rect x=\"102.5\" y=\"-166.66666666666666\" width=\"2.5\" height=\"41.667\" opacity=\"0.017467248908296942\" fill=\"currentColor\" stroke-width=\"0.1\"/>\n",
       "<rect x=\"105.0\" y=\"-166.66666666666666\" width=\"2.5\" height=\"41.667\" opacity=\"0.017467248908296942\" fill=\"currentColor\" stroke-width=\"0.1\"/>\n",
       "<rect x=\"107.5\" y=\"-166.66666666666666\" width=\"2.5\" height=\"41.667\" opacity=\"0.017467248908296942\" fill=\"currentColor\" stroke-width=\"0.1\"/>\n",
       "<rect x=\"110.0\" y=\"-166.66666666666666\" width=\"2.5\" height=\"41.667\" opacity=\"0.030567685589519653\" fill=\"currentColor\" stroke-width=\"0.1\"/>\n",
       "<rect x=\"112.5\" y=\"-166.66666666666666\" width=\"2.5\" height=\"41.667\" opacity=\"0.034934497816593885\" fill=\"currentColor\" stroke-width=\"0.1\"/>\n",
       "<rect x=\"115.0\" y=\"-166.66666666666666\" width=\"2.5\" height=\"41.667\" opacity=\"0.039301310043668124\" fill=\"currentColor\" stroke-width=\"0.1\"/>\n",
       "<rect x=\"117.5\" y=\"-166.66666666666666\" width=\"2.5\" height=\"41.667\" opacity=\"0.09170305676855896\" fill=\"currentColor\" stroke-width=\"0.1\"/>\n",
       "<rect x=\"120.0\" y=\"-166.66666666666666\" width=\"2.5\" height=\"41.667\" opacity=\"0.039301310043668124\" fill=\"currentColor\" stroke-width=\"0.1\"/>\n",
       "<rect x=\"122.5\" y=\"-166.66666666666666\" width=\"2.5\" height=\"41.667\" opacity=\"0.08296943231441048\" fill=\"currentColor\" stroke-width=\"0.1\"/>\n",
       "<rect x=\"125.0\" y=\"-166.66666666666666\" width=\"2.5\" height=\"41.667\" opacity=\"0.13100436681222707\" fill=\"currentColor\" stroke-width=\"0.1\"/>\n",
       "<rect x=\"127.5\" y=\"-166.66666666666666\" width=\"2.5\" height=\"41.667\" opacity=\"0.14410480349344978\" fill=\"currentColor\" stroke-width=\"0.1\"/>\n",
       "<rect x=\"130.0\" y=\"-166.66666666666666\" width=\"2.5\" height=\"41.667\" opacity=\"0.22707423580786026\" fill=\"currentColor\" stroke-width=\"0.1\"/>\n",
       "<rect x=\"132.5\" y=\"-166.66666666666666\" width=\"2.5\" height=\"41.667\" opacity=\"0.21397379912663755\" fill=\"currentColor\" stroke-width=\"0.1\"/>\n",
       "<rect x=\"135.0\" y=\"-166.66666666666666\" width=\"2.5\" height=\"41.667\" opacity=\"0.1790393013100424\" fill=\"currentColor\" stroke-width=\"0.1\"/>\n",
       "<rect x=\"137.5\" y=\"-166.66666666666666\" width=\"2.5\" height=\"41.667\" opacity=\"0.3406113537117904\" fill=\"currentColor\" stroke-width=\"0.1\"/>\n",
       "<rect x=\"140.0\" y=\"-166.66666666666666\" width=\"2.5\" height=\"41.667\" opacity=\"0.3100436681222752\" fill=\"currentColor\" stroke-width=\"0.1\"/>\n",
       "<rect x=\"142.5\" y=\"-166.66666666666666\" width=\"2.5\" height=\"41.667\" opacity=\"0.388646288209607\" fill=\"currentColor\" stroke-width=\"0.1\"/>\n",
       "<rect x=\"145.0\" y=\"-166.66666666666666\" width=\"2.5\" height=\"41.667\" opacity=\"0.4323144104803463\" fill=\"currentColor\" stroke-width=\"0.1\"/>\n",
       "<rect x=\"147.5\" y=\"-166.66666666666666\" width=\"2.5\" height=\"41.667\" opacity=\"0.4847161572052402\" fill=\"currentColor\" stroke-width=\"0.1\"/>\n",
       "<rect x=\"150.0\" y=\"-166.66666666666666\" width=\"2.5\" height=\"41.667\" opacity=\"0.41921397379912667\" fill=\"currentColor\" stroke-width=\"0.1\"/>\n",
       "<rect x=\"152.5\" y=\"-166.66666666666666\" width=\"2.5\" height=\"41.667\" opacity=\"0.5240174672489083\" fill=\"currentColor\" stroke-width=\"0.1\"/>\n",
       "<rect x=\"155.0\" y=\"-166.66666666666666\" width=\"2.5\" height=\"41.667\" opacity=\"0.5633187772925765\" fill=\"currentColor\" stroke-width=\"0.1\"/>\n",
       "<rect x=\"157.5\" y=\"-166.66666666666666\" width=\"2.5\" height=\"41.667\" opacity=\"0.6681222707423582\" fill=\"currentColor\" stroke-width=\"0.1\"/>\n",
       "<rect x=\"160.0\" y=\"-166.66666666666666\" width=\"2.5\" height=\"41.667\" opacity=\"0.7685589519650655\" fill=\"currentColor\" stroke-width=\"0.1\"/>\n",
       "<rect x=\"162.5\" y=\"-166.66666666666666\" width=\"2.5\" height=\"41.667\" opacity=\"0.7467248908296943\" fill=\"currentColor\" stroke-width=\"0.1\"/>\n",
       "<rect x=\"165.0\" y=\"-166.66666666666666\" width=\"2.5\" height=\"41.667\" opacity=\"0.8165938864628821\" fill=\"currentColor\" stroke-width=\"0.1\"/>\n",
       "<rect x=\"167.5\" y=\"-166.66666666666666\" width=\"2.5\" height=\"41.667\" opacity=\"0.7991266375545851\" fill=\"currentColor\" stroke-width=\"0.1\"/>\n",
       "<rect x=\"170.0\" y=\"-166.66666666666666\" width=\"2.5\" height=\"41.667\" opacity=\"0.8209606986899564\" fill=\"currentColor\" stroke-width=\"0.1\"/>\n",
       "<rect x=\"172.5\" y=\"-166.66666666666666\" width=\"2.5\" height=\"41.667\" opacity=\"0.7816593886462881\" fill=\"currentColor\" stroke-width=\"0.1\"/>\n",
       "<rect x=\"175.0\" y=\"-166.66666666666666\" width=\"2.5\" height=\"41.667\" opacity=\"0.8602620087336245\" fill=\"currentColor\" stroke-width=\"0.1\"/>\n",
       "<rect x=\"177.5\" y=\"-166.66666666666666\" width=\"2.5\" height=\"41.667\" opacity=\"0.8471615720524018\" fill=\"currentColor\" stroke-width=\"0.1\"/>\n",
       "<rect x=\"180.0\" y=\"-166.66666666666666\" width=\"2.5\" height=\"41.667\" opacity=\"0.7816593886462881\" fill=\"currentColor\" stroke-width=\"0.1\"/>\n",
       "<rect x=\"182.5\" y=\"-166.66666666666666\" width=\"2.5\" height=\"41.667\" opacity=\"0.8296943231441049\" fill=\"currentColor\" stroke-width=\"0.1\"/>\n",
       "<rect x=\"185.0\" y=\"-166.66666666666666\" width=\"2.5\" height=\"41.667\" opacity=\"0.8646288209606987\" fill=\"currentColor\" stroke-width=\"0.1\"/>\n",
       "<rect x=\"187.5\" y=\"-166.66666666666666\" width=\"2.5\" height=\"41.667\" opacity=\"0.8296943231441049\" fill=\"currentColor\" stroke-width=\"0.1\"/>\n",
       "<rect x=\"190.0\" y=\"-166.66666666666666\" width=\"2.5\" height=\"41.667\" opacity=\"0.611353711790393\" fill=\"currentColor\" stroke-width=\"0.1\"/>\n",
       "<rect x=\"192.5\" y=\"-166.66666666666666\" width=\"2.5\" height=\"41.667\" opacity=\"0.6681222707423582\" fill=\"currentColor\" stroke-width=\"0.1\"/>\n",
       "<rect x=\"195.0\" y=\"-166.66666666666666\" width=\"2.5\" height=\"41.667\" opacity=\"0.6986899563318777\" fill=\"currentColor\" stroke-width=\"0.1\"/>\n",
       "<rect x=\"197.5\" y=\"-166.66666666666666\" width=\"2.5\" height=\"41.667\" opacity=\"0.646288209606987\" fill=\"currentColor\" stroke-width=\"0.1\"/>\n",
       "<rect x=\"200.0\" y=\"-166.66666666666666\" width=\"2.5\" height=\"41.667\" opacity=\"0.5109170305676857\" fill=\"currentColor\" stroke-width=\"0.1\"/>\n",
       "<rect x=\"202.5\" y=\"-166.66666666666666\" width=\"2.5\" height=\"41.667\" opacity=\"0.4934497816593887\" fill=\"currentColor\" stroke-width=\"0.1\"/>\n",
       "<rect x=\"205.0\" y=\"-166.66666666666666\" width=\"2.5\" height=\"41.667\" opacity=\"0.43231441048034935\" fill=\"currentColor\" stroke-width=\"0.1\"/>\n",
       "<rect x=\"207.5\" y=\"-166.66666666666666\" width=\"2.5\" height=\"41.667\" opacity=\"0.314410480349345\" fill=\"currentColor\" stroke-width=\"0.1\"/>\n",
       "<rect x=\"210.0\" y=\"-166.66666666666666\" width=\"2.5\" height=\"41.667\" opacity=\"0.36681222707423583\" fill=\"currentColor\" stroke-width=\"0.1\"/>\n",
       "<rect x=\"212.5\" y=\"-166.66666666666666\" width=\"2.5\" height=\"41.667\" opacity=\"0.3624454148471616\" fill=\"currentColor\" stroke-width=\"0.1\"/>\n",
       "<rect x=\"215.0\" y=\"-166.66666666666666\" width=\"2.5\" height=\"41.667\" opacity=\"0.3056768558951965\" fill=\"currentColor\" stroke-width=\"0.1\"/>\n",
       "<rect x=\"217.5\" y=\"-166.66666666666666\" width=\"2.5\" height=\"41.667\" opacity=\"0.24454148471615722\" fill=\"currentColor\" stroke-width=\"0.1\"/>\n",
       "<rect x=\"220.0\" y=\"-166.66666666666666\" width=\"2.5\" height=\"41.667\" opacity=\"0.20087336244541484\" fill=\"currentColor\" stroke-width=\"0.1\"/>\n",
       "<rect x=\"222.5\" y=\"-166.66666666666666\" width=\"2.5\" height=\"41.667\" opacity=\"0.18340611353711792\" fill=\"currentColor\" stroke-width=\"0.1\"/>\n",
       "<rect x=\"225.0\" y=\"-166.66666666666666\" width=\"2.5\" height=\"41.667\" opacity=\"0.16157205240174674\" fill=\"currentColor\" stroke-width=\"0.1\"/>\n",
       "<rect x=\"227.5\" y=\"-166.66666666666666\" width=\"2.5\" height=\"41.667\" opacity=\"0.12227074235807861\" fill=\"currentColor\" stroke-width=\"0.1\"/>\n",
       "<rect x=\"230.0\" y=\"-166.66666666666666\" width=\"2.5\" height=\"41.667\" opacity=\"0.07423580786026202\" fill=\"currentColor\" stroke-width=\"0.1\"/>\n",
       "<rect x=\"232.5\" y=\"-166.66666666666666\" width=\"2.5\" height=\"41.667\" opacity=\"0.056768558951965066\" fill=\"currentColor\" stroke-width=\"0.1\"/>\n",
       "<rect x=\"235.0\" y=\"-166.66666666666666\" width=\"2.5\" height=\"41.667\" opacity=\"0.07423580786026202\" fill=\"currentColor\" stroke-width=\"0.1\"/>\n",
       "<rect x=\"237.5\" y=\"-166.66666666666666\" width=\"2.5\" height=\"41.667\" opacity=\"0.052401746724890834\" fill=\"currentColor\" stroke-width=\"0.1\"/>\n",
       "<rect x=\"240.0\" y=\"-166.66666666666666\" width=\"2.5\" height=\"41.667\" opacity=\"0.048034934497816595\" fill=\"currentColor\" stroke-width=\"0.1\"/>\n",
       "<rect x=\"242.5\" y=\"-166.66666666666666\" width=\"2.5\" height=\"41.667\" opacity=\"0.026200873362445417\" fill=\"currentColor\" stroke-width=\"0.1\"/>\n",
       "<rect x=\"245.0\" y=\"-166.66666666666666\" width=\"2.5\" height=\"41.667\" opacity=\"0.008733624454148471\" fill=\"currentColor\" stroke-width=\"0.1\"/>\n",
       "<rect x=\"247.5\" y=\"-166.66666666666666\" width=\"2.5\" height=\"41.667\" opacity=\"0.008733624454148471\" fill=\"currentColor\" stroke-width=\"0.1\"/>\n",
       "<rect x=\"0.0\" y=\"-208.33333333333334\" width=\"2.5\" height=\"41.667\" opacity=\"0.0\" fill=\"currentColor\" stroke-width=\"0.1\"/>\n",
       "<rect x=\"2.5\" y=\"-208.33333333333334\" width=\"2.5\" height=\"41.667\" opacity=\"0.0\" fill=\"currentColor\" stroke-width=\"0.1\"/>\n",
       "<rect x=\"5.0\" y=\"-208.33333333333334\" width=\"2.5\" height=\"41.667\" opacity=\"0.0\" fill=\"currentColor\" stroke-width=\"0.1\"/>\n",
       "<rect x=\"7.5\" y=\"-208.33333333333334\" width=\"2.5\" height=\"41.667\" opacity=\"0.0\" fill=\"currentColor\" stroke-width=\"0.1\"/>\n",
       "<rect x=\"10.0\" y=\"-208.33333333333334\" width=\"2.5\" height=\"41.667\" opacity=\"0.0\" fill=\"currentColor\" stroke-width=\"0.1\"/>\n",
       "<rect x=\"12.5\" y=\"-208.33333333333334\" width=\"2.5\" height=\"41.667\" opacity=\"0.0\" fill=\"currentColor\" stroke-width=\"0.1\"/>\n",
       "<rect x=\"15.0\" y=\"-208.33333333333334\" width=\"2.5\" height=\"41.667\" opacity=\"0.0\" fill=\"currentColor\" stroke-width=\"0.1\"/>\n",
       "<rect x=\"17.5\" y=\"-208.33333333333334\" width=\"2.5\" height=\"41.667\" opacity=\"0.0\" fill=\"currentColor\" stroke-width=\"0.1\"/>\n",
       "<rect x=\"20.0\" y=\"-208.33333333333334\" width=\"2.5\" height=\"41.667\" opacity=\"0.0\" fill=\"currentColor\" stroke-width=\"0.1\"/>\n",
       "<rect x=\"22.5\" y=\"-208.33333333333334\" width=\"2.5\" height=\"41.667\" opacity=\"0.0\" fill=\"currentColor\" stroke-width=\"0.1\"/>\n",
       "<rect x=\"25.0\" y=\"-208.33333333333334\" width=\"2.5\" height=\"41.667\" opacity=\"0.0\" fill=\"currentColor\" stroke-width=\"0.1\"/>\n",
       "<rect x=\"27.5\" y=\"-208.33333333333334\" width=\"2.5\" height=\"41.667\" opacity=\"0.0\" fill=\"currentColor\" stroke-width=\"0.1\"/>\n",
       "<rect x=\"30.0\" y=\"-208.33333333333334\" width=\"2.5\" height=\"41.667\" opacity=\"0.0\" fill=\"currentColor\" stroke-width=\"0.1\"/>\n",
       "<rect x=\"32.5\" y=\"-208.33333333333334\" width=\"2.5\" height=\"41.667\" opacity=\"0.0\" fill=\"currentColor\" stroke-width=\"0.1\"/>\n",
       "<rect x=\"35.0\" y=\"-208.33333333333334\" width=\"2.5\" height=\"41.667\" opacity=\"0.0\" fill=\"currentColor\" stroke-width=\"0.1\"/>\n",
       "<rect x=\"37.5\" y=\"-208.33333333333334\" width=\"2.5\" height=\"41.667\" opacity=\"0.0\" fill=\"currentColor\" stroke-width=\"0.1\"/>\n",
       "<rect x=\"40.0\" y=\"-208.33333333333334\" width=\"2.5\" height=\"41.667\" opacity=\"0.0\" fill=\"currentColor\" stroke-width=\"0.1\"/>\n",
       "<rect x=\"42.5\" y=\"-208.33333333333334\" width=\"2.5\" height=\"41.667\" opacity=\"0.0\" fill=\"currentColor\" stroke-width=\"0.1\"/>\n",
       "<rect x=\"45.0\" y=\"-208.33333333333334\" width=\"2.5\" height=\"41.667\" opacity=\"0.0\" fill=\"currentColor\" stroke-width=\"0.1\"/>\n",
       "<rect x=\"47.5\" y=\"-208.33333333333334\" width=\"2.5\" height=\"41.667\" opacity=\"0.0\" fill=\"currentColor\" stroke-width=\"0.1\"/>\n",
       "<rect x=\"50.0\" y=\"-208.33333333333334\" width=\"2.5\" height=\"41.667\" opacity=\"0.0\" fill=\"currentColor\" stroke-width=\"0.1\"/>\n",
       "<rect x=\"52.5\" y=\"-208.33333333333334\" width=\"2.5\" height=\"41.667\" opacity=\"0.0\" fill=\"currentColor\" stroke-width=\"0.1\"/>\n",
       "<rect x=\"55.0\" y=\"-208.33333333333334\" width=\"2.5\" height=\"41.667\" opacity=\"0.0\" fill=\"currentColor\" stroke-width=\"0.1\"/>\n",
       "<rect x=\"57.5\" y=\"-208.33333333333334\" width=\"2.5\" height=\"41.667\" opacity=\"0.0\" fill=\"currentColor\" stroke-width=\"0.1\"/>\n",
       "<rect x=\"60.0\" y=\"-208.33333333333334\" width=\"2.5\" height=\"41.667\" opacity=\"0.0\" fill=\"currentColor\" stroke-width=\"0.1\"/>\n",
       "<rect x=\"62.5\" y=\"-208.33333333333334\" width=\"2.5\" height=\"41.667\" opacity=\"0.0\" fill=\"currentColor\" stroke-width=\"0.1\"/>\n",
       "<rect x=\"65.0\" y=\"-208.33333333333334\" width=\"2.5\" height=\"41.667\" opacity=\"0.0\" fill=\"currentColor\" stroke-width=\"0.1\"/>\n",
       "<rect x=\"67.5\" y=\"-208.33333333333334\" width=\"2.5\" height=\"41.667\" opacity=\"0.0\" fill=\"currentColor\" stroke-width=\"0.1\"/>\n",
       "<rect x=\"70.0\" y=\"-208.33333333333334\" width=\"2.5\" height=\"41.667\" opacity=\"0.0\" fill=\"currentColor\" stroke-width=\"0.1\"/>\n",
       "<rect x=\"72.5\" y=\"-208.33333333333334\" width=\"2.5\" height=\"41.667\" opacity=\"0.0\" fill=\"currentColor\" stroke-width=\"0.1\"/>\n",
       "<rect x=\"75.0\" y=\"-208.33333333333334\" width=\"2.5\" height=\"41.667\" opacity=\"0.0\" fill=\"currentColor\" stroke-width=\"0.1\"/>\n",
       "<rect x=\"77.5\" y=\"-208.33333333333334\" width=\"2.5\" height=\"41.667\" opacity=\"0.0\" fill=\"currentColor\" stroke-width=\"0.1\"/>\n",
       "<rect x=\"80.0\" y=\"-208.33333333333334\" width=\"2.5\" height=\"41.667\" opacity=\"0.0\" fill=\"currentColor\" stroke-width=\"0.1\"/>\n",
       "<rect x=\"82.5\" y=\"-208.33333333333334\" width=\"2.5\" height=\"41.667\" opacity=\"0.0\" fill=\"currentColor\" stroke-width=\"0.1\"/>\n",
       "<rect x=\"85.0\" y=\"-208.33333333333334\" width=\"2.5\" height=\"41.667\" opacity=\"0.0\" fill=\"currentColor\" stroke-width=\"0.1\"/>\n",
       "<rect x=\"87.5\" y=\"-208.33333333333334\" width=\"2.5\" height=\"41.667\" opacity=\"0.0\" fill=\"currentColor\" stroke-width=\"0.1\"/>\n",
       "<rect x=\"90.0\" y=\"-208.33333333333334\" width=\"2.5\" height=\"41.667\" opacity=\"0.0\" fill=\"currentColor\" stroke-width=\"0.1\"/>\n",
       "<rect x=\"92.5\" y=\"-208.33333333333334\" width=\"2.5\" height=\"41.667\" opacity=\"0.0\" fill=\"currentColor\" stroke-width=\"0.1\"/>\n",
       "<rect x=\"95.0\" y=\"-208.33333333333334\" width=\"2.5\" height=\"41.667\" opacity=\"0.0\" fill=\"currentColor\" stroke-width=\"0.1\"/>\n",
       "<rect x=\"97.5\" y=\"-208.33333333333334\" width=\"2.5\" height=\"41.667\" opacity=\"0.0\" fill=\"currentColor\" stroke-width=\"0.1\"/>\n",
       "<rect x=\"100.0\" y=\"-208.33333333333334\" width=\"2.5\" height=\"41.667\" opacity=\"0.0\" fill=\"currentColor\" stroke-width=\"0.1\"/>\n",
       "<rect x=\"102.5\" y=\"-208.33333333333334\" width=\"2.5\" height=\"41.667\" opacity=\"0.008733624454148471\" fill=\"currentColor\" stroke-width=\"0.1\"/>\n",
       "<rect x=\"105.0\" y=\"-208.33333333333334\" width=\"2.5\" height=\"41.667\" opacity=\"0.0\" fill=\"currentColor\" stroke-width=\"0.1\"/>\n",
       "<rect x=\"107.5\" y=\"-208.33333333333334\" width=\"2.5\" height=\"41.667\" opacity=\"0.0\" fill=\"currentColor\" stroke-width=\"0.1\"/>\n",
       "<rect x=\"110.0\" y=\"-208.33333333333334\" width=\"2.5\" height=\"41.667\" opacity=\"0.0\" fill=\"currentColor\" stroke-width=\"0.1\"/>\n",
       "<rect x=\"112.5\" y=\"-208.33333333333334\" width=\"2.5\" height=\"41.667\" opacity=\"0.0\" fill=\"currentColor\" stroke-width=\"0.1\"/>\n",
       "<rect x=\"115.0\" y=\"-208.33333333333334\" width=\"2.5\" height=\"41.667\" opacity=\"0.004366812227074236\" fill=\"currentColor\" stroke-width=\"0.1\"/>\n",
       "<rect x=\"117.5\" y=\"-208.33333333333334\" width=\"2.5\" height=\"41.667\" opacity=\"0.008733624454148471\" fill=\"currentColor\" stroke-width=\"0.1\"/>\n",
       "<rect x=\"120.0\" y=\"-208.33333333333334\" width=\"2.5\" height=\"41.667\" opacity=\"0.013100436681222708\" fill=\"currentColor\" stroke-width=\"0.1\"/>\n",
       "<rect x=\"122.5\" y=\"-208.33333333333334\" width=\"2.5\" height=\"41.667\" opacity=\"0.021834061135371178\" fill=\"currentColor\" stroke-width=\"0.1\"/>\n",
       "<rect x=\"125.0\" y=\"-208.33333333333334\" width=\"2.5\" height=\"41.667\" opacity=\"0.026200873362445417\" fill=\"currentColor\" stroke-width=\"0.1\"/>\n",
       "<rect x=\"127.5\" y=\"-208.33333333333334\" width=\"2.5\" height=\"41.667\" opacity=\"0.043668122270742356\" fill=\"currentColor\" stroke-width=\"0.1\"/>\n",
       "<rect x=\"130.0\" y=\"-208.33333333333334\" width=\"2.5\" height=\"41.667\" opacity=\"0.017467248908296942\" fill=\"currentColor\" stroke-width=\"0.1\"/>\n",
       "<rect x=\"132.5\" y=\"-208.33333333333334\" width=\"2.5\" height=\"41.667\" opacity=\"0.030567685589519653\" fill=\"currentColor\" stroke-width=\"0.1\"/>\n",
       "<rect x=\"135.0\" y=\"-208.33333333333334\" width=\"2.5\" height=\"41.667\" opacity=\"0.06550218340611308\" fill=\"currentColor\" stroke-width=\"0.1\"/>\n",
       "<rect x=\"137.5\" y=\"-208.33333333333334\" width=\"2.5\" height=\"41.667\" opacity=\"0.1091703056768559\" fill=\"currentColor\" stroke-width=\"0.1\"/>\n",
       "<rect x=\"140.0\" y=\"-208.33333333333334\" width=\"2.5\" height=\"41.667\" opacity=\"0.08733624454148597\" fill=\"currentColor\" stroke-width=\"0.1\"/>\n",
       "<rect x=\"142.5\" y=\"-208.33333333333334\" width=\"2.5\" height=\"41.667\" opacity=\"0.11790393013100438\" fill=\"currentColor\" stroke-width=\"0.1\"/>\n",
       "<rect x=\"145.0\" y=\"-208.33333333333334\" width=\"2.5\" height=\"41.667\" opacity=\"0.11353711790392934\" fill=\"currentColor\" stroke-width=\"0.1\"/>\n",
       "<rect x=\"147.5\" y=\"-208.33333333333334\" width=\"2.5\" height=\"41.667\" opacity=\"0.08733624454148471\" fill=\"currentColor\" stroke-width=\"0.1\"/>\n",
       "<rect x=\"150.0\" y=\"-208.33333333333334\" width=\"2.5\" height=\"41.667\" opacity=\"0.17903930131004367\" fill=\"currentColor\" stroke-width=\"0.1\"/>\n",
       "<rect x=\"152.5\" y=\"-208.33333333333334\" width=\"2.5\" height=\"41.667\" opacity=\"0.2183406113537118\" fill=\"currentColor\" stroke-width=\"0.1\"/>\n",
       "<rect x=\"155.0\" y=\"-208.33333333333334\" width=\"2.5\" height=\"41.667\" opacity=\"0.22270742358078605\" fill=\"currentColor\" stroke-width=\"0.1\"/>\n",
       "<rect x=\"157.5\" y=\"-208.33333333333334\" width=\"2.5\" height=\"41.667\" opacity=\"0.3537117903930131\" fill=\"currentColor\" stroke-width=\"0.1\"/>\n",
       "<rect x=\"160.0\" y=\"-208.33333333333334\" width=\"2.5\" height=\"41.667\" opacity=\"0.3624454148471616\" fill=\"currentColor\" stroke-width=\"0.1\"/>\n",
       "<rect x=\"162.5\" y=\"-208.33333333333334\" width=\"2.5\" height=\"41.667\" opacity=\"0.37554585152838427\" fill=\"currentColor\" stroke-width=\"0.1\"/>\n",
       "<rect x=\"165.0\" y=\"-208.33333333333334\" width=\"2.5\" height=\"41.667\" opacity=\"0.4366812227074236\" fill=\"currentColor\" stroke-width=\"0.1\"/>\n",
       "<rect x=\"167.5\" y=\"-208.33333333333334\" width=\"2.5\" height=\"41.667\" opacity=\"0.4454148471615721\" fill=\"currentColor\" stroke-width=\"0.1\"/>\n",
       "<rect x=\"170.0\" y=\"-208.33333333333334\" width=\"2.5\" height=\"41.667\" opacity=\"0.554585152838428\" fill=\"currentColor\" stroke-width=\"0.1\"/>\n",
       "<rect x=\"172.5\" y=\"-208.33333333333334\" width=\"2.5\" height=\"41.667\" opacity=\"0.5982532751091704\" fill=\"currentColor\" stroke-width=\"0.1\"/>\n",
       "<rect x=\"175.0\" y=\"-208.33333333333334\" width=\"2.5\" height=\"41.667\" opacity=\"0.6244541484716157\" fill=\"currentColor\" stroke-width=\"0.1\"/>\n",
       "<rect x=\"177.5\" y=\"-208.33333333333334\" width=\"2.5\" height=\"41.667\" opacity=\"0.7074235807860262\" fill=\"currentColor\" stroke-width=\"0.1\"/>\n",
       "<rect x=\"180.0\" y=\"-208.33333333333334\" width=\"2.5\" height=\"41.667\" opacity=\"0.7423580786026202\" fill=\"currentColor\" stroke-width=\"0.1\"/>\n",
       "<rect x=\"182.5\" y=\"-208.33333333333334\" width=\"2.5\" height=\"41.667\" opacity=\"0.7467248908296943\" fill=\"currentColor\" stroke-width=\"0.1\"/>\n",
       "<rect x=\"185.0\" y=\"-208.33333333333334\" width=\"2.5\" height=\"41.667\" opacity=\"0.759825327510917\" fill=\"currentColor\" stroke-width=\"0.1\"/>\n",
       "<rect x=\"187.5\" y=\"-208.33333333333334\" width=\"2.5\" height=\"41.667\" opacity=\"0.7729257641921398\" fill=\"currentColor\" stroke-width=\"0.1\"/>\n",
       "<rect x=\"190.0\" y=\"-208.33333333333334\" width=\"2.5\" height=\"41.667\" opacity=\"0.8777292576419214\" fill=\"currentColor\" stroke-width=\"0.1\"/>\n",
       "<rect x=\"192.5\" y=\"-208.33333333333334\" width=\"2.5\" height=\"41.667\" opacity=\"0.777292576419214\" fill=\"currentColor\" stroke-width=\"0.1\"/>\n",
       "<rect x=\"195.0\" y=\"-208.33333333333334\" width=\"2.5\" height=\"41.667\" opacity=\"0.6899563318777293\" fill=\"currentColor\" stroke-width=\"0.1\"/>\n",
       "<rect x=\"197.5\" y=\"-208.33333333333334\" width=\"2.5\" height=\"41.667\" opacity=\"0.8995633187772927\" fill=\"currentColor\" stroke-width=\"0.1\"/>\n",
       "<rect x=\"200.0\" y=\"-208.33333333333334\" width=\"2.5\" height=\"41.667\" opacity=\"0.8253275109170306\" fill=\"currentColor\" stroke-width=\"0.1\"/>\n",
       "<rect x=\"202.5\" y=\"-208.33333333333334\" width=\"2.5\" height=\"41.667\" opacity=\"1.0\" fill=\"currentColor\" stroke-width=\"0.1\"/>\n",
       "<rect x=\"205.0\" y=\"-208.33333333333334\" width=\"2.5\" height=\"41.667\" opacity=\"0.8165938864628821\" fill=\"currentColor\" stroke-width=\"0.1\"/>\n",
       "<rect x=\"207.5\" y=\"-208.33333333333334\" width=\"2.5\" height=\"41.667\" opacity=\"0.685589519650655\" fill=\"currentColor\" stroke-width=\"0.1\"/>\n",
       "<rect x=\"210.0\" y=\"-208.33333333333334\" width=\"2.5\" height=\"41.667\" opacity=\"0.8384279475982533\" fill=\"currentColor\" stroke-width=\"0.1\"/>\n",
       "<rect x=\"212.5\" y=\"-208.33333333333334\" width=\"2.5\" height=\"41.667\" opacity=\"0.7161572052401747\" fill=\"currentColor\" stroke-width=\"0.1\"/>\n",
       "<rect x=\"215.0\" y=\"-208.33333333333334\" width=\"2.5\" height=\"41.667\" opacity=\"0.6244541484716157\" fill=\"currentColor\" stroke-width=\"0.1\"/>\n",
       "<rect x=\"217.5\" y=\"-208.33333333333334\" width=\"2.5\" height=\"41.667\" opacity=\"0.6200873362445415\" fill=\"currentColor\" stroke-width=\"0.1\"/>\n",
       "<rect x=\"220.0\" y=\"-208.33333333333334\" width=\"2.5\" height=\"41.667\" opacity=\"0.5327510917030568\" fill=\"currentColor\" stroke-width=\"0.1\"/>\n",
       "<rect x=\"222.5\" y=\"-208.33333333333334\" width=\"2.5\" height=\"41.667\" opacity=\"0.46724890829694327\" fill=\"currentColor\" stroke-width=\"0.1\"/>\n",
       "<rect x=\"225.0\" y=\"-208.33333333333334\" width=\"2.5\" height=\"41.667\" opacity=\"0.43231441048034935\" fill=\"currentColor\" stroke-width=\"0.1\"/>\n",
       "<rect x=\"227.5\" y=\"-208.33333333333334\" width=\"2.5\" height=\"41.667\" opacity=\"0.388646288209607\" fill=\"currentColor\" stroke-width=\"0.1\"/>\n",
       "<rect x=\"230.0\" y=\"-208.33333333333334\" width=\"2.5\" height=\"41.667\" opacity=\"0.3624454148471616\" fill=\"currentColor\" stroke-width=\"0.1\"/>\n",
       "<rect x=\"232.5\" y=\"-208.33333333333334\" width=\"2.5\" height=\"41.667\" opacity=\"0.27074235807860264\" fill=\"currentColor\" stroke-width=\"0.1\"/>\n",
       "<rect x=\"235.0\" y=\"-208.33333333333334\" width=\"2.5\" height=\"41.667\" opacity=\"0.22270742358078605\" fill=\"currentColor\" stroke-width=\"0.1\"/>\n",
       "<rect x=\"237.5\" y=\"-208.33333333333334\" width=\"2.5\" height=\"41.667\" opacity=\"0.13973799126637554\" fill=\"currentColor\" stroke-width=\"0.1\"/>\n",
       "<rect x=\"240.0\" y=\"-208.33333333333334\" width=\"2.5\" height=\"41.667\" opacity=\"0.13100436681222707\" fill=\"currentColor\" stroke-width=\"0.1\"/>\n",
       "<rect x=\"242.5\" y=\"-208.33333333333334\" width=\"2.5\" height=\"41.667\" opacity=\"0.08733624454148471\" fill=\"currentColor\" stroke-width=\"0.1\"/>\n",
       "<rect x=\"245.0\" y=\"-208.33333333333334\" width=\"2.5\" height=\"41.667\" opacity=\"0.13537117903930132\" fill=\"currentColor\" stroke-width=\"0.1\"/>\n",
       "<rect x=\"247.5\" y=\"-208.33333333333334\" width=\"2.5\" height=\"41.667\" opacity=\"0.08733624454148471\" fill=\"currentColor\" stroke-width=\"0.1\"/>\n",
       "<rect x=\"0.0\" y=\"-250.0\" width=\"2.5\" height=\"41.667\" opacity=\"0.0\" fill=\"currentColor\" stroke-width=\"0.1\"/>\n",
       "<rect x=\"2.5\" y=\"-250.0\" width=\"2.5\" height=\"41.667\" opacity=\"0.0\" fill=\"currentColor\" stroke-width=\"0.1\"/>\n",
       "<rect x=\"5.0\" y=\"-250.0\" width=\"2.5\" height=\"41.667\" opacity=\"0.0\" fill=\"currentColor\" stroke-width=\"0.1\"/>\n",
       "<rect x=\"7.5\" y=\"-250.0\" width=\"2.5\" height=\"41.667\" opacity=\"0.0\" fill=\"currentColor\" stroke-width=\"0.1\"/>\n",
       "<rect x=\"10.0\" y=\"-250.0\" width=\"2.5\" height=\"41.667\" opacity=\"0.0\" fill=\"currentColor\" stroke-width=\"0.1\"/>\n",
       "<rect x=\"12.5\" y=\"-250.0\" width=\"2.5\" height=\"41.667\" opacity=\"0.0\" fill=\"currentColor\" stroke-width=\"0.1\"/>\n",
       "<rect x=\"15.0\" y=\"-250.0\" width=\"2.5\" height=\"41.667\" opacity=\"0.0\" fill=\"currentColor\" stroke-width=\"0.1\"/>\n",
       "<rect x=\"17.5\" y=\"-250.0\" width=\"2.5\" height=\"41.667\" opacity=\"0.0\" fill=\"currentColor\" stroke-width=\"0.1\"/>\n",
       "<rect x=\"20.0\" y=\"-250.0\" width=\"2.5\" height=\"41.667\" opacity=\"0.0\" fill=\"currentColor\" stroke-width=\"0.1\"/>\n",
       "<rect x=\"22.5\" y=\"-250.0\" width=\"2.5\" height=\"41.667\" opacity=\"0.0\" fill=\"currentColor\" stroke-width=\"0.1\"/>\n",
       "<rect x=\"25.0\" y=\"-250.0\" width=\"2.5\" height=\"41.667\" opacity=\"0.0\" fill=\"currentColor\" stroke-width=\"0.1\"/>\n",
       "<rect x=\"27.5\" y=\"-250.0\" width=\"2.5\" height=\"41.667\" opacity=\"0.0\" fill=\"currentColor\" stroke-width=\"0.1\"/>\n",
       "<rect x=\"30.0\" y=\"-250.0\" width=\"2.5\" height=\"41.667\" opacity=\"0.0\" fill=\"currentColor\" stroke-width=\"0.1\"/>\n",
       "<rect x=\"32.5\" y=\"-250.0\" width=\"2.5\" height=\"41.667\" opacity=\"0.0\" fill=\"currentColor\" stroke-width=\"0.1\"/>\n",
       "<rect x=\"35.0\" y=\"-250.0\" width=\"2.5\" height=\"41.667\" opacity=\"0.0\" fill=\"currentColor\" stroke-width=\"0.1\"/>\n",
       "<rect x=\"37.5\" y=\"-250.0\" width=\"2.5\" height=\"41.667\" opacity=\"0.0\" fill=\"currentColor\" stroke-width=\"0.1\"/>\n",
       "<rect x=\"40.0\" y=\"-250.0\" width=\"2.5\" height=\"41.667\" opacity=\"0.0\" fill=\"currentColor\" stroke-width=\"0.1\"/>\n",
       "<rect x=\"42.5\" y=\"-250.0\" width=\"2.5\" height=\"41.667\" opacity=\"0.0\" fill=\"currentColor\" stroke-width=\"0.1\"/>\n",
       "<rect x=\"45.0\" y=\"-250.0\" width=\"2.5\" height=\"41.667\" opacity=\"0.008733624454148471\" fill=\"currentColor\" stroke-width=\"0.1\"/>\n",
       "<rect x=\"47.5\" y=\"-250.0\" width=\"2.5\" height=\"41.667\" opacity=\"0.004366812227074236\" fill=\"currentColor\" stroke-width=\"0.1\"/>\n",
       "<rect x=\"50.0\" y=\"-250.0\" width=\"2.5\" height=\"41.667\" opacity=\"0.008733624454148471\" fill=\"currentColor\" stroke-width=\"0.1\"/>\n",
       "<rect x=\"52.5\" y=\"-250.0\" width=\"2.5\" height=\"41.667\" opacity=\"0.013100436681222708\" fill=\"currentColor\" stroke-width=\"0.1\"/>\n",
       "<rect x=\"55.0\" y=\"-250.0\" width=\"2.5\" height=\"41.667\" opacity=\"0.039301310043668124\" fill=\"currentColor\" stroke-width=\"0.1\"/>\n",
       "<rect x=\"57.5\" y=\"-250.0\" width=\"2.5\" height=\"41.667\" opacity=\"0.021834061135371178\" fill=\"currentColor\" stroke-width=\"0.1\"/>\n",
       "<rect x=\"60.0\" y=\"-250.0\" width=\"2.5\" height=\"41.667\" opacity=\"0.030567685589519653\" fill=\"currentColor\" stroke-width=\"0.1\"/>\n",
       "<rect x=\"62.5\" y=\"-250.0\" width=\"2.5\" height=\"41.667\" opacity=\"0.030567685589519653\" fill=\"currentColor\" stroke-width=\"0.1\"/>\n",
       "<rect x=\"65.0\" y=\"-250.0\" width=\"2.5\" height=\"41.667\" opacity=\"0.061135371179039305\" fill=\"currentColor\" stroke-width=\"0.1\"/>\n",
       "<rect x=\"67.5\" y=\"-250.0\" width=\"2.5\" height=\"41.667\" opacity=\"0.09170305676855862\" fill=\"currentColor\" stroke-width=\"0.1\"/>\n",
       "<rect x=\"70.0\" y=\"-250.0\" width=\"2.5\" height=\"41.667\" opacity=\"0.06550218340611401\" fill=\"currentColor\" stroke-width=\"0.1\"/>\n",
       "<rect x=\"72.5\" y=\"-250.0\" width=\"2.5\" height=\"41.667\" opacity=\"0.07860262008733597\" fill=\"currentColor\" stroke-width=\"0.1\"/>\n",
       "<rect x=\"75.0\" y=\"-250.0\" width=\"2.5\" height=\"41.667\" opacity=\"0.15283842794759825\" fill=\"currentColor\" stroke-width=\"0.1\"/>\n",
       "<rect x=\"77.5\" y=\"-250.0\" width=\"2.5\" height=\"41.667\" opacity=\"0.13537117903930132\" fill=\"currentColor\" stroke-width=\"0.1\"/>\n",
       "<rect x=\"80.0\" y=\"-250.0\" width=\"2.5\" height=\"41.667\" opacity=\"0.16593886462882096\" fill=\"currentColor\" stroke-width=\"0.1\"/>\n",
       "<rect x=\"82.5\" y=\"-250.0\" width=\"2.5\" height=\"41.667\" opacity=\"0.22707423580786026\" fill=\"currentColor\" stroke-width=\"0.1\"/>\n",
       "<rect x=\"85.0\" y=\"-250.0\" width=\"2.5\" height=\"41.667\" opacity=\"0.2576419213973799\" fill=\"currentColor\" stroke-width=\"0.1\"/>\n",
       "<rect x=\"87.5\" y=\"-250.0\" width=\"2.5\" height=\"41.667\" opacity=\"0.28820960698689957\" fill=\"currentColor\" stroke-width=\"0.1\"/>\n",
       "<rect x=\"90.0\" y=\"-250.0\" width=\"2.5\" height=\"41.667\" opacity=\"0.35807860262008734\" fill=\"currentColor\" stroke-width=\"0.1\"/>\n",
       "<rect x=\"92.5\" y=\"-250.0\" width=\"2.5\" height=\"41.667\" opacity=\"0.3711790393013101\" fill=\"currentColor\" stroke-width=\"0.1\"/>\n",
       "<rect x=\"95.0\" y=\"-250.0\" width=\"2.5\" height=\"41.667\" opacity=\"0.48034934497816595\" fill=\"currentColor\" stroke-width=\"0.1\"/>\n",
       "<rect x=\"97.5\" y=\"-250.0\" width=\"2.5\" height=\"41.667\" opacity=\"0.48034934497816595\" fill=\"currentColor\" stroke-width=\"0.1\"/>\n",
       "<rect x=\"100.0\" y=\"-250.0\" width=\"2.5\" height=\"41.667\" opacity=\"0.5720524017467249\" fill=\"currentColor\" stroke-width=\"0.1\"/>\n",
       "<rect x=\"102.5\" y=\"-250.0\" width=\"2.5\" height=\"41.667\" opacity=\"0.5458515283842795\" fill=\"currentColor\" stroke-width=\"0.1\"/>\n",
       "<rect x=\"105.0\" y=\"-250.0\" width=\"2.5\" height=\"41.667\" opacity=\"0.6724890829694323\" fill=\"currentColor\" stroke-width=\"0.1\"/>\n",
       "<rect x=\"107.5\" y=\"-250.0\" width=\"2.5\" height=\"41.667\" opacity=\"0.7074235807860262\" fill=\"currentColor\" stroke-width=\"0.1\"/>\n",
       "<rect x=\"110.0\" y=\"-250.0\" width=\"2.5\" height=\"41.667\" opacity=\"0.6986899563318777\" fill=\"currentColor\" stroke-width=\"0.1\"/>\n",
       "<rect x=\"112.5\" y=\"-250.0\" width=\"2.5\" height=\"41.667\" opacity=\"0.7685589519650655\" fill=\"currentColor\" stroke-width=\"0.1\"/>\n",
       "<rect x=\"115.0\" y=\"-250.0\" width=\"2.5\" height=\"41.667\" opacity=\"0.8820960698689957\" fill=\"currentColor\" stroke-width=\"0.1\"/>\n",
       "<rect x=\"117.5\" y=\"-250.0\" width=\"2.5\" height=\"41.667\" opacity=\"0.9956331877729259\" fill=\"currentColor\" stroke-width=\"0.1\"/>\n",
       "<rect x=\"120.0\" y=\"-250.0\" width=\"2.5\" height=\"41.667\" opacity=\"0.8384279475982533\" fill=\"currentColor\" stroke-width=\"0.1\"/>\n",
       "<rect x=\"122.5\" y=\"-250.0\" width=\"2.5\" height=\"41.667\" opacity=\"0.8558951965065502\" fill=\"currentColor\" stroke-width=\"0.1\"/>\n",
       "<rect x=\"125.0\" y=\"-250.0\" width=\"2.5\" height=\"41.667\" opacity=\"0.8427947598253275\" fill=\"currentColor\" stroke-width=\"0.1\"/>\n",
       "<rect x=\"127.5\" y=\"-250.0\" width=\"2.5\" height=\"41.667\" opacity=\"0.8471615720524018\" fill=\"currentColor\" stroke-width=\"0.1\"/>\n",
       "<rect x=\"130.0\" y=\"-250.0\" width=\"2.5\" height=\"41.667\" opacity=\"0.9519650655021835\" fill=\"currentColor\" stroke-width=\"0.1\"/>\n",
       "<rect x=\"132.5\" y=\"-250.0\" width=\"2.5\" height=\"41.667\" opacity=\"0.8296943231441049\" fill=\"currentColor\" stroke-width=\"0.1\"/>\n",
       "<rect x=\"135.0\" y=\"-250.0\" width=\"2.5\" height=\"41.667\" opacity=\"0.7947598253275053\" fill=\"currentColor\" stroke-width=\"0.1\"/>\n",
       "<rect x=\"137.5\" y=\"-250.0\" width=\"2.5\" height=\"41.667\" opacity=\"0.685589519650655\" fill=\"currentColor\" stroke-width=\"0.1\"/>\n",
       "<rect x=\"140.0\" y=\"-250.0\" width=\"2.5\" height=\"41.667\" opacity=\"0.6550218340611448\" fill=\"currentColor\" stroke-width=\"0.1\"/>\n",
       "<rect x=\"142.5\" y=\"-250.0\" width=\"2.5\" height=\"41.667\" opacity=\"0.7030567685589519\" fill=\"currentColor\" stroke-width=\"0.1\"/>\n",
       "<rect x=\"145.0\" y=\"-250.0\" width=\"2.5\" height=\"41.667\" opacity=\"0.659388646288205\" fill=\"currentColor\" stroke-width=\"0.1\"/>\n",
       "<rect x=\"147.5\" y=\"-250.0\" width=\"2.5\" height=\"41.667\" opacity=\"0.611353711790393\" fill=\"currentColor\" stroke-width=\"0.1\"/>\n",
       "<rect x=\"150.0\" y=\"-250.0\" width=\"2.5\" height=\"41.667\" opacity=\"0.5589519650655022\" fill=\"currentColor\" stroke-width=\"0.1\"/>\n",
       "<rect x=\"152.5\" y=\"-250.0\" width=\"2.5\" height=\"41.667\" opacity=\"0.37554585152838427\" fill=\"currentColor\" stroke-width=\"0.1\"/>\n",
       "<rect x=\"155.0\" y=\"-250.0\" width=\"2.5\" height=\"41.667\" opacity=\"0.39301310043668125\" fill=\"currentColor\" stroke-width=\"0.1\"/>\n",
       "<rect x=\"157.5\" y=\"-250.0\" width=\"2.5\" height=\"41.667\" opacity=\"0.34934497816593885\" fill=\"currentColor\" stroke-width=\"0.1\"/>\n",
       "<rect x=\"160.0\" y=\"-250.0\" width=\"2.5\" height=\"41.667\" opacity=\"0.3406113537117904\" fill=\"currentColor\" stroke-width=\"0.1\"/>\n",
       "<rect x=\"162.5\" y=\"-250.0\" width=\"2.5\" height=\"41.667\" opacity=\"0.25327510917030566\" fill=\"currentColor\" stroke-width=\"0.1\"/>\n",
       "<rect x=\"165.0\" y=\"-250.0\" width=\"2.5\" height=\"41.667\" opacity=\"0.2183406113537118\" fill=\"currentColor\" stroke-width=\"0.1\"/>\n",
       "<rect x=\"167.5\" y=\"-250.0\" width=\"2.5\" height=\"41.667\" opacity=\"0.24017467248908297\" fill=\"currentColor\" stroke-width=\"0.1\"/>\n",
       "<rect x=\"170.0\" y=\"-250.0\" width=\"2.5\" height=\"41.667\" opacity=\"0.16157205240174674\" fill=\"currentColor\" stroke-width=\"0.1\"/>\n",
       "<rect x=\"172.5\" y=\"-250.0\" width=\"2.5\" height=\"41.667\" opacity=\"0.13537117903930132\" fill=\"currentColor\" stroke-width=\"0.1\"/>\n",
       "<rect x=\"175.0\" y=\"-250.0\" width=\"2.5\" height=\"41.667\" opacity=\"0.10043668122270742\" fill=\"currentColor\" stroke-width=\"0.1\"/>\n",
       "<rect x=\"177.5\" y=\"-250.0\" width=\"2.5\" height=\"41.667\" opacity=\"0.08733624454148471\" fill=\"currentColor\" stroke-width=\"0.1\"/>\n",
       "<rect x=\"180.0\" y=\"-250.0\" width=\"2.5\" height=\"41.667\" opacity=\"0.043668122270742356\" fill=\"currentColor\" stroke-width=\"0.1\"/>\n",
       "<rect x=\"182.5\" y=\"-250.0\" width=\"2.5\" height=\"41.667\" opacity=\"0.030567685589519653\" fill=\"currentColor\" stroke-width=\"0.1\"/>\n",
       "<rect x=\"185.0\" y=\"-250.0\" width=\"2.5\" height=\"41.667\" opacity=\"0.039301310043668124\" fill=\"currentColor\" stroke-width=\"0.1\"/>\n",
       "<rect x=\"187.5\" y=\"-250.0\" width=\"2.5\" height=\"41.667\" opacity=\"0.021834061135371178\" fill=\"currentColor\" stroke-width=\"0.1\"/>\n",
       "<rect x=\"190.0\" y=\"-250.0\" width=\"2.5\" height=\"41.667\" opacity=\"0.021834061135371178\" fill=\"currentColor\" stroke-width=\"0.1\"/>\n",
       "<rect x=\"192.5\" y=\"-250.0\" width=\"2.5\" height=\"41.667\" opacity=\"0.008733624454148471\" fill=\"currentColor\" stroke-width=\"0.1\"/>\n",
       "<rect x=\"195.0\" y=\"-250.0\" width=\"2.5\" height=\"41.667\" opacity=\"0.017467248908296942\" fill=\"currentColor\" stroke-width=\"0.1\"/>\n",
       "<rect x=\"197.5\" y=\"-250.0\" width=\"2.5\" height=\"41.667\" opacity=\"0.013100436681222708\" fill=\"currentColor\" stroke-width=\"0.1\"/>\n",
       "<rect x=\"200.0\" y=\"-250.0\" width=\"2.5\" height=\"41.667\" opacity=\"0.004366812227074236\" fill=\"currentColor\" stroke-width=\"0.1\"/>\n",
       "<rect x=\"202.5\" y=\"-250.0\" width=\"2.5\" height=\"41.667\" opacity=\"0.004366812227074236\" fill=\"currentColor\" stroke-width=\"0.1\"/>\n",
       "<rect x=\"205.0\" y=\"-250.0\" width=\"2.5\" height=\"41.667\" opacity=\"0.0\" fill=\"currentColor\" stroke-width=\"0.1\"/>\n",
       "<rect x=\"207.5\" y=\"-250.0\" width=\"2.5\" height=\"41.667\" opacity=\"0.008733624454148471\" fill=\"currentColor\" stroke-width=\"0.1\"/>\n",
       "<rect x=\"210.0\" y=\"-250.0\" width=\"2.5\" height=\"41.667\" opacity=\"0.004366812227074236\" fill=\"currentColor\" stroke-width=\"0.1\"/>\n",
       "<rect x=\"212.5\" y=\"-250.0\" width=\"2.5\" height=\"41.667\" opacity=\"0.0\" fill=\"currentColor\" stroke-width=\"0.1\"/>\n",
       "<rect x=\"215.0\" y=\"-250.0\" width=\"2.5\" height=\"41.667\" opacity=\"0.004366812227074236\" fill=\"currentColor\" stroke-width=\"0.1\"/>\n",
       "<rect x=\"217.5\" y=\"-250.0\" width=\"2.5\" height=\"41.667\" opacity=\"0.0\" fill=\"currentColor\" stroke-width=\"0.1\"/>\n",
       "<rect x=\"220.0\" y=\"-250.0\" width=\"2.5\" height=\"41.667\" opacity=\"0.0\" fill=\"currentColor\" stroke-width=\"0.1\"/>\n",
       "<rect x=\"222.5\" y=\"-250.0\" width=\"2.5\" height=\"41.667\" opacity=\"0.0\" fill=\"currentColor\" stroke-width=\"0.1\"/>\n",
       "<rect x=\"225.0\" y=\"-250.0\" width=\"2.5\" height=\"41.667\" opacity=\"0.004366812227074236\" fill=\"currentColor\" stroke-width=\"0.1\"/>\n",
       "<rect x=\"227.5\" y=\"-250.0\" width=\"2.5\" height=\"41.667\" opacity=\"0.0\" fill=\"currentColor\" stroke-width=\"0.1\"/>\n",
       "<rect x=\"230.0\" y=\"-250.0\" width=\"2.5\" height=\"41.667\" opacity=\"0.0\" fill=\"currentColor\" stroke-width=\"0.1\"/>\n",
       "<rect x=\"232.5\" y=\"-250.0\" width=\"2.5\" height=\"41.667\" opacity=\"0.0\" fill=\"currentColor\" stroke-width=\"0.1\"/>\n",
       "<rect x=\"235.0\" y=\"-250.0\" width=\"2.5\" height=\"41.667\" opacity=\"0.0\" fill=\"currentColor\" stroke-width=\"0.1\"/>\n",
       "<rect x=\"237.5\" y=\"-250.0\" width=\"2.5\" height=\"41.667\" opacity=\"0.0\" fill=\"currentColor\" stroke-width=\"0.1\"/>\n",
       "<rect x=\"240.0\" y=\"-250.0\" width=\"2.5\" height=\"41.667\" opacity=\"0.0\" fill=\"currentColor\" stroke-width=\"0.1\"/>\n",
       "<rect x=\"242.5\" y=\"-250.0\" width=\"2.5\" height=\"41.667\" opacity=\"0.0\" fill=\"currentColor\" stroke-width=\"0.1\"/>\n",
       "<rect x=\"245.0\" y=\"-250.0\" width=\"2.5\" height=\"41.667\" opacity=\"0.0\" fill=\"currentColor\" stroke-width=\"0.1\"/>\n",
       "<rect x=\"247.5\" y=\"-250.0\" width=\"2.5\" height=\"41.667\" opacity=\"0.0\" fill=\"currentColor\" stroke-width=\"0.1\"/>\n",
       "</svg>\n",
       "</div>\n",
       "<div style=\"flex=grow:1;\">\n",
       "Regular(100, 0, 100, name='x', label='Observable')<br/>\n",
       "StrCategory(['A', 'E', 'D', 'F', 'C', 'B'], growth=True, name='dataset', label='dataset')<br/>\n",
       "<hr style=\"margin-top:.2em; margin-bottom:.2em;\"/>\n",
       "Weight() Σ=WeightedSum(value=29851, variance=29851) <em>(WeightedSum(value=29962, variance=29962) with flow)</em>\n",
       "\n",
       "</div>\n",
       "</div>\n",
       "</html>"
      ],
      "text/plain": [
       "Hist(\n",
       "  Regular(100, 0, 100, name='x', label='Observable'),\n",
       "  StrCategory(['A', 'E', 'D', 'F', 'C', 'B'], growth=True, name='dataset', label='dataset'),\n",
       "  storage=Weight()) # Sum: WeightedSum(value=29851, variance=29851) (WeightedSum(value=29962, variance=29962) with flow)"
      ]
     },
     "execution_count": 29,
     "metadata": {},
     "output_type": "execute_result"
    }
   ],
   "source": [
    "# Simple slices\n",
    "hn[:, 0.5j:len:sum, :, 0, \"X\"]"
   ]
  },
  {
   "cell_type": "code",
   "execution_count": 30,
   "metadata": {
    "ExecuteTime": {
     "end_time": "2021-10-30T04:47:03.335722Z",
     "start_time": "2021-10-30T04:47:03.079290Z"
    }
   },
   "outputs": [
    {
     "data": {
      "image/png": "[encoded data removed]",
      "text/plain": [
       "<Figure size 432x288 with 1 Axes>"
      ]
     },
     "metadata": {
      "needs_background": "light"
     },
     "output_type": "display_data"
    }
   ],
   "source": [
    "# Slice by name\n",
    "s = hist.tag.Slicer()\n",
    "hn[{'tag': s[0.5j:len:sum], 'region': 0, 'syst': \"X\"}].plot();\n",
    "plt.legend();"
   ]
  },
  {
   "cell_type": "markdown",
   "metadata": {
    "ExecuteTime": {
     "end_time": "2021-10-30T04:30:26.809109Z",
     "start_time": "2021-10-30T04:30:26.798378Z"
    }
   },
   "source": [
    "### Scale \"sample\" by \"cross-section\""
   ]
  },
  {
   "cell_type": "code",
   "execution_count": 31,
   "metadata": {
    "ExecuteTime": {
     "end_time": "2021-10-30T04:47:03.609428Z",
     "start_time": "2021-10-30T04:47:03.338224Z"
    }
   },
   "outputs": [
    {
     "data": {
      "image/png": "[encoded data removed]",
      "text/plain": [
       "<Figure size 432x288 with 1 Axes>"
      ]
     },
     "metadata": {
      "needs_background": "light"
     },
     "output_type": "display_data"
    }
   ],
   "source": [
    "hn[{'dataset': \"A\"}] = hn[{'dataset': \"A\"}].view() * 2.5\n",
    "\n",
    "hn[{'tag': s[0.5j:len:sum], 'region': 0, 'syst': \"X\"}].plot();\n",
    "plt.legend();"
   ]
  },
  {
   "cell_type": "markdown",
   "metadata": {},
   "source": [
    "### Group datasets (to be replaced by native hist function)"
   ]
  },
  {
   "cell_type": "code",
   "execution_count": 32,
   "metadata": {
    "ExecuteTime": {
     "end_time": "2021-10-30T04:47:03.915773Z",
     "start_time": "2021-10-30T04:47:03.612354Z"
    },
    "code_folding": [
     0
    ]
   },
   "outputs": [
    {
     "data": {
      "image/png": "[encoded data removed]",
      "text/plain": [
       "<Figure size 432x288 with 1 Axes>"
      ]
     },
     "metadata": {
      "needs_background": "light"
     },
     "output_type": "display_data"
    }
   ],
   "source": [
    "def groupby(h, groupmap, axis='dataset'):\n",
    "    new = hist.Hist(*[ax for ax in h.axes if ax.name != axis], \n",
    "                hist.axis.StrCategory(groupmap.keys(), name=axis, growth=True), \n",
    "                hist.storage.Weight()\n",
    "          )\n",
    "\n",
    "    for name, cats in groupmap.items():\n",
    "        grouped = sum([h[{axis: name}] for name in cats])\n",
    "        new[{axis: name}] = grouped.view(flow=True)\n",
    "    return new\n",
    "\n",
    "groupby(hn, {\"d1\": [\"A\", \"B\", \"C\"], 'd2': [\"D\", \"E\", 'F']})[{'tag': s[0.5j:len:sum], 'region': 0, 'syst': \"X\"}].plot();\n",
    "plt.legend();"
   ]
  },
  {
   "cell_type": "markdown",
   "metadata": {},
   "source": [
    "### Desired end goal - 1D templates of each sample, passing a cut, per region per systematic"
   ]
  },
  {
   "cell_type": "code",
   "execution_count": 33,
   "metadata": {
    "ExecuteTime": {
     "end_time": "2021-10-30T04:47:04.072441Z",
     "start_time": "2021-10-30T04:47:03.920426Z"
    }
   },
   "outputs": [],
   "source": [
    "cut = {'tag': s[0.5j:len:sum]} # Events passing 0.5 threshold\n",
    "\n",
    "templates = {}\n",
    "for sample in hn.axes['dataset']:\n",
    "    for region in hn.axes['region']:\n",
    "        for syst in hn.axes['syst']:\n",
    "            template_name = f\"region{region}_{sample}_sys{syst}\"\n",
    "            templates[template_name] = hn[{**cut, 'dataset': sample, 'region': region, 'syst': syst}]"
   ]
  },
  {
   "cell_type": "code",
   "execution_count": 34,
   "metadata": {
    "ExecuteTime": {
     "end_time": "2021-10-30T04:47:04.097973Z",
     "start_time": "2021-10-30T04:47:04.074822Z"
    }
   },
   "outputs": [
    {
     "data": {
      "text/html": [
       "<html>\n",
       "<div style=\"display:flex; align-items:center;\">\n",
       "<div style=\"width:290px;\">\n",
       "<svg xmlns=\"http://www.w3.org/2000/svg\" viewBox=\"-10 -105 270 120\">\n",
       "<line x1=\"-5\" y1=\"0\" x2=\"255\" y2=\"0\" style=\"fill:none;stroke-width:2;stroke:currentColor\"/>\n",
       "<text text-anchor=\"middle\" x=\"0\" y=\"15\" style=\"fill:currentColor;\">\n",
       "0\n",
       "</text>\n",
       "<text text-anchor=\"middle\" x=\"250\" y=\"15\" style=\"fill:currentColor;\">\n",
       "100\n",
       "</text>\n",
       "<text text-anchor=\"middle\" x=\"125.0\" y=\"15\" style=\"fill:currentColor;\">\n",
       "Observable\n",
       "</text>\n",
       "<polyline points=\"  0,0   0,-0 2.5,-0 2.5,-0   5,-0   5,-0 7.5,-0 7.5,-0  10,-0  10,-0 12.5,-0 12.5,-0  15,-0  15,-0 17.5,-0 17.5,-0  20,-0  20,-0 22.5,-0 22.5,-0  25,-0  25,-0 27.5,-0 27.5,-0  30,-0  30,-0 32.5,-0 32.5,-0  35,-0  35,-0 37.5,-0 37.5,-0  40,-0  40,-0 42.5,-0 42.5,-0  45,-0  45,-0.877 47.5,-0.877 47.5,-0.439  50,-0.439  50,-0.877 52.5,-0.877 52.5,-1.32  55,-1.32  55,-3.95 57.5,-3.95 57.5,-2.19  60,-2.19  60,-3.07 62.5,-3.07 62.5,-3.07  65,-3.07  65,-6.14 67.5,-6.14 67.5,-9.21  70,-9.21  70,-6.58 72.5,-6.58 72.5,-7.89  75,-7.89  75,-15.4 77.5,-15.4 77.5,-13.6  80,-13.6  80,-16.7 82.5,-16.7 82.5,-22.8  85,-22.8  85,-25.9 87.5,-25.9 87.5,-28.9  90,-28.9  90,-36 92.5,-36 92.5,-37.3  95,-37.3  95,-48.2 97.5,-48.2 97.5,-48.2 100,-48.2 100,-57.5 102.5,-57.5 102.5,-54.8 105,-54.8 105,-67.5 107.5,-67.5 107.5,-71.1 110,-71.1 110,-70.2 112.5,-70.2 112.5,-77.2 115,-77.2 115,-88.6 117.5,-88.6 117.5,-100 120,-100 120,-84.2 122.5,-84.2 122.5,-86 125,-86 125,-84.6 127.5,-84.6 127.5,-85.1 130,-85.1 130,-95.6 132.5,-95.6 132.5,-83.3 135,-83.3 135,-79.8 137.5,-79.8 137.5,-68.9 140,-68.9 140,-65.8 142.5,-65.8 142.5,-70.6 145,-70.6 145,-66.2 147.5,-66.2 147.5,-61.4 150,-61.4 150,-56.1 152.5,-56.1 152.5,-37.7 155,-37.7 155,-39.5 157.5,-39.5 157.5,-35.1 160,-35.1 160,-34.2 162.5,-34.2 162.5,-25.4 165,-25.4 165,-21.9 167.5,-21.9 167.5,-24.1 170,-24.1 170,-16.2 172.5,-16.2 172.5,-13.6 175,-13.6 175,-10.1 177.5,-10.1 177.5,-8.77 180,-8.77 180,-4.39 182.5,-4.39 182.5,-3.07 185,-3.07 185,-3.95 187.5,-3.95 187.5,-2.19 190,-2.19 190,-2.19 192.5,-2.19 192.5,-0.877 195,-0.877 195,-1.75 197.5,-1.75 197.5,-1.32 200,-1.32 200,-0.439 202.5,-0.439 202.5,-0.439 205,-0.439 205,-0 207.5,-0 207.5,-0.877 210,-0.877 210,-0.439 212.5,-0.439 212.5,-0 215,-0 215,-0.439 217.5,-0.439 217.5,-0 220,-0 220,-0 222.5,-0 222.5,-0 225,-0 225,-0.439 227.5,-0.439 227.5,-0 230,-0 230,-0 232.5,-0 232.5,-0 235,-0 235,-0 237.5,-0 237.5,-0 240,-0 240,-0 242.5,-0 242.5,-0 245,-0 245,-0 247.5,-0 247.5,-0 250,-0 250,0\" style=\"fill:none; stroke:currentColor;\"/>\n",
       "</svg>\n",
       "</div>\n",
       "<div style=\"flex=grow:1;\">\n",
       "Regular(100, 0, 100, name='x', label='Observable')<br/>\n",
       "<hr style=\"margin-top:.2em; margin-bottom:.2em;\"/>\n",
       "Weight() Σ=WeightedSum(value=5022, variance=5022)\n",
       "\n",
       "</div>\n",
       "</div>\n",
       "</html>"
      ],
      "text/plain": [
       "Hist(Regular(100, 0, 100, name='x', label='Observable'), storage=Weight()) # Sum: WeightedSum(value=5022, variance=5022)"
      ]
     },
     "execution_count": 34,
     "metadata": {},
     "output_type": "execute_result"
    }
   ],
   "source": [
    "templates['region0_B_sysX']\n",
    "\n",
    "# and write these via uproot"
   ]
  },
  {
   "cell_type": "code",
   "execution_count": null,
   "metadata": {},
   "outputs": [],
   "source": []
  },
  {
   "cell_type": "markdown",
   "metadata": {},
   "source": [
    "# Styling with mplhep\n",
    "- Primary purpose of `mplhep` is to serve and distribute styles \n",
    "    - **ALICE**\n",
    "    - **ATLAS**\n",
    "    - **CMS**\n",
    "    - **LHCb**\n",
    "- To ensure plots looks the same on any framework fonts need to be included\n",
    " - I am liable to go on a rant, so suffice to say:\n",
    " - We package an open look-alike of Helvetica called Tex Gyre Heros"
   ]
  },
  {
   "cell_type": "code",
   "execution_count": 35,
   "metadata": {
    "ExecuteTime": {
     "end_time": "2021-10-30T04:47:04.758106Z",
     "start_time": "2021-10-30T04:47:04.101788Z"
    }
   },
   "outputs": [
    {
     "data": {
      "image/png": "[encoded data removed]",
      "text/plain": [
       "<Figure size 600x400 with 1 Axes>"
      ]
     },
     "metadata": {},
     "output_type": "display_data"
    }
   ],
   "source": [
    "hep.style.use([hep.style.ATLAS, {'figure.figsize': (6, 4)}])\n",
    "hep.histplot(np.histogram(np.random.normal(10, 3, 1000)));\n",
    "hep.atlas.label();"
   ]
  },
  {
   "cell_type": "code",
   "execution_count": 36,
   "metadata": {
    "ExecuteTime": {
     "end_time": "2021-10-30T04:47:05.822924Z",
     "start_time": "2021-10-30T04:47:04.761420Z"
    }
   },
   "outputs": [
    {
     "data": {
      "image/png": "[encoded data removed]",
      "text/plain": [
       "<Figure size 1800x300 with 5 Axes>"
      ]
     },
     "metadata": {},
     "output_type": "display_data"
    }
   ],
   "source": [
    "hep.style.use()\n",
    "fig, axs = plt.subplots(1, 5, figsize=(18, 3))\n",
    "for i, ax in enumerate(axs):\n",
    "    hep.cms.label(ax=ax, loc=i)"
   ]
  },
  {
   "cell_type": "code",
   "execution_count": null,
   "metadata": {},
   "outputs": [],
   "source": []
  }
 ],
 "metadata": {
  "kernelspec": {
   "display_name": "Python (def)",
   "language": "python",
   "name": "def"
  },
  "language_info": {
   "codemirror_mode": {
    "name": "ipython",
    "version": 3
   },
   "file_extension": ".py",
   "mimetype": "text/x-python",
   "name": "python",
   "nbconvert_exporter": "python",
   "pygments_lexer": "ipython3",
   "version": "3.7.3"
  }
 },
 "nbformat": 4,
 "nbformat_minor": 4
}
